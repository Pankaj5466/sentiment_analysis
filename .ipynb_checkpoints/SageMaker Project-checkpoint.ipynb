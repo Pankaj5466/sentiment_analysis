{
 "cells": [
  {
   "cell_type": "markdown",
   "metadata": {},
   "source": [
    "# Creating a Sentiment Analysis Web App\n",
    "## Using PyTorch and SageMaker\n",
    "\n",
    "_Deep Learning Nanodegree Program | Deployment_\n",
    "\n",
    "---\n",
    "\n",
    "Now that we have a basic understanding of how SageMaker works we will try to use it to construct a complete project from end to end. Our goal will be to have a simple web page which a user can use to enter a movie review. The web page will then send the review off to our deployed model which will predict the sentiment of the entered review.\n",
    "\n",
    "## Instructions\n",
    "\n",
    "Some template code has already been provided for you, and you will need to implement additional functionality to successfully complete this notebook. You will not need to modify the included code beyond what is requested. Sections that begin with '**TODO**' in the header indicate that you need to complete or implement some portion within them. Instructions will be provided for each section and the specifics of the implementation are marked in the code block with a `# TODO: ...` comment. Please be sure to read the instructions carefully!\n",
    "\n",
    "In addition to implementing code, there will be questions for you to answer which relate to the task and your implementation. Each section where you will answer a question is preceded by a '**Question:**' header. Carefully read each question and provide your answer below the '**Answer:**' header by editing the Markdown cell.\n",
    "\n",
    "> **Note**: Code and Markdown cells can be executed using the **Shift+Enter** keyboard shortcut. In addition, a cell can be edited by typically clicking it (double-click for Markdown cells) or by pressing **Enter** while it is highlighted.\n",
    "\n",
    "## General Outline\n",
    "\n",
    "Recall the general outline for SageMaker projects using a notebook instance.\n",
    "\n",
    "1. Download or otherwise retrieve the data. OR Gather Data\n",
    "2. Process / Prepare the data.\n",
    "3. Upload the processed data to S3.\n",
    "4. Train a chosen model. (Model Selection and Model Training)\n",
    "5. Test the trained model (typically using a batch transform job).\n",
    "6. Deploy the trained model.\n",
    "7. Use the deployed model.\n",
    "\n",
    "For this project, you will be following the steps in the general outline with some modifications. \n",
    "\n",
    "First, you will not be testing the model in its own step. You will still be testing the model, however, you will do it by deploying your model and then using the deployed model by sending the test data to it. One of the reasons for doing this is so that you can make sure that your deployed model is working correctly before moving forward.\n",
    "\n",
    "In addition, you will deploy and use your trained model a second time. In the second iteration you will customize the way that your trained model is deployed by including some of your own code. In addition, your newly deployed model will be used in the sentiment analysis web app."
   ]
  },
  {
   "cell_type": "markdown",
   "metadata": {},
   "source": [
    "## Step 1: Downloading the data\n",
    "\n",
    "As in the XGBoost in SageMaker notebook, we will be using the [IMDb dataset](http://ai.stanford.edu/~amaas/data/sentiment/)\n",
    "\n",
    "> Maas, Andrew L., et al. [Learning Word Vectors for Sentiment Analysis](http://ai.stanford.edu/~amaas/data/sentiment/). In _Proceedings of the 49th Annual Meeting of the Association for Computational Linguistics: Human Language Technologies_. Association for Computational Linguistics, 2011."
   ]
  },
  {
   "cell_type": "code",
   "execution_count": 3,
   "metadata": {},
   "outputs": [
    {
     "name": "stdout",
     "output_type": "stream",
     "text": [
      "mkdir: cannot create directory ‘../data’: File exists\n",
      "--2020-05-09 22:09:34--  http://ai.stanford.edu/~amaas/data/sentiment/aclImdb_v1.tar.gz\n",
      "Resolving ai.stanford.edu (ai.stanford.edu)... 171.64.68.10\n",
      "Connecting to ai.stanford.edu (ai.stanford.edu)|171.64.68.10|:80... connected.\n",
      "HTTP request sent, awaiting response... 200 OK\n",
      "Length: 84125825 (80M) [application/x-gzip]\n",
      "Saving to: ‘../data/aclImdb_v1.tar.gz’\n",
      "\n",
      "../data/aclImdb_v1. 100%[===================>]  80.23M  6.10MB/s    in 24s     \n",
      "\n",
      "2020-05-09 22:09:59 (3.41 MB/s) - ‘../data/aclImdb_v1.tar.gz’ saved [84125825/84125825]\n",
      "\n"
     ]
    }
   ],
   "source": [
    "%mkdir ../data\n",
    "!wget -O ../data/aclImdb_v1.tar.gz http://ai.stanford.edu/~amaas/data/sentiment/aclImdb_v1.tar.gz\n",
    "!tar -zxf ../data/aclImdb_v1.tar.gz -C ../data"
   ]
  },
  {
   "cell_type": "markdown",
   "metadata": {},
   "source": [
    "## Step 2: Preparing and Processing the data\n",
    "\n",
    "Also, as in the XGBoost notebook, we will be doing some initial data processing. The first few steps are the same as in the XGBoost example. To begin with, we will read in each of the reviews and combine them into a single input structure. Then, we will split the dataset into a training set and a testing set."
   ]
  },
  {
   "cell_type": "code",
   "execution_count": 1,
   "metadata": {},
   "outputs": [],
   "source": [
    "import os\n",
    "import glob\n",
    "\n",
    "def read_imdb_data(data_dir='../data/aclImdb'):\n",
    "    data = {}\n",
    "    labels = {}\n",
    "    \n",
    "    for data_type in ['train', 'test']:\n",
    "        data[data_type] = {}\n",
    "        labels[data_type] = {}\n",
    "        \n",
    "        for sentiment in ['pos', 'neg']:\n",
    "            data[data_type][sentiment] = []\n",
    "            labels[data_type][sentiment] = []\n",
    "            \n",
    "            path = os.path.join(data_dir, data_type, sentiment, '*.txt')\n",
    "            files = glob.glob(path)\n",
    "            \n",
    "            for f in files:\n",
    "                with open(f) as review:\n",
    "                    data[data_type][sentiment].append(review.read())\n",
    "                    # Here we represent a positive review by '1' and a negative review by '0'\n",
    "                    labels[data_type][sentiment].append(1 if sentiment == 'pos' else 0)\n",
    "                    \n",
    "            assert len(data[data_type][sentiment]) == len(labels[data_type][sentiment]), \\\n",
    "                    \"{}/{} data size does not match labels size\".format(data_type, sentiment)\n",
    "                \n",
    "    return data, labels"
   ]
  },
  {
   "cell_type": "code",
   "execution_count": 2,
   "metadata": {},
   "outputs": [
    {
     "name": "stdout",
     "output_type": "stream",
     "text": [
      "IMDB reviews: train = 12500 pos / 12500 neg, test = 12500 pos / 12500 neg\n"
     ]
    }
   ],
   "source": [
    "data, labels = read_imdb_data()\n",
    "print(\"IMDB reviews: train = {} pos / {} neg, test = {} pos / {} neg\".format(\n",
    "            len(data['train']['pos']), len(data['train']['neg']),\n",
    "            len(data['test']['pos']), len(data['test']['neg'])))"
   ]
  },
  {
   "cell_type": "markdown",
   "metadata": {},
   "source": [
    "Now that we've read the raw training and testing data from the downloaded dataset, we will combine the positive and negative reviews and shuffle the resulting records."
   ]
  },
  {
   "cell_type": "code",
   "execution_count": 3,
   "metadata": {},
   "outputs": [],
   "source": [
    "from sklearn.utils import shuffle\n",
    "\n",
    "def prepare_imdb_data(data, labels):\n",
    "    \"\"\"Prepare training and test sets from IMDb movie reviews.\"\"\"\n",
    "    \n",
    "    #Combine positive and negative reviews and labels\n",
    "    data_train = data['train']['pos'] + data['train']['neg']\n",
    "    data_test = data['test']['pos'] + data['test']['neg']\n",
    "    labels_train = labels['train']['pos'] + labels['train']['neg']\n",
    "    labels_test = labels['test']['pos'] + labels['test']['neg']\n",
    "    \n",
    "    #Shuffle reviews and corresponding labels within training and test sets\n",
    "    data_train, labels_train = shuffle(data_train, labels_train)\n",
    "    data_test, labels_test = shuffle(data_test, labels_test)\n",
    "    \n",
    "    # Return a unified training data, test data, training labels, test labets\n",
    "    return data_train, data_test, labels_train, labels_test"
   ]
  },
  {
   "cell_type": "code",
   "execution_count": 4,
   "metadata": {},
   "outputs": [
    {
     "name": "stdout",
     "output_type": "stream",
     "text": [
      "IMDb reviews (combined): train = 25000, test = 25000\n"
     ]
    }
   ],
   "source": [
    "train_X, test_X, train_y, test_y = prepare_imdb_data(data, labels)\n",
    "print(\"IMDb reviews (combined): train = {}, test = {}\".format(len(train_X), len(test_X)))"
   ]
  },
  {
   "cell_type": "markdown",
   "metadata": {},
   "source": [
    "Now that we have our training and testing sets unified and prepared, we should do a quick check and see an example of the data our model will be trained on. This is generally a good idea as it allows you to see how each of the further processing steps affects the reviews and it also ensures that the data has been loaded correctly."
   ]
  },
  {
   "cell_type": "code",
   "execution_count": 5,
   "metadata": {},
   "outputs": [
    {
     "name": "stdout",
     "output_type": "stream",
     "text": [
      "Undeveloped/unbelievable story line,(by the time I sort of figured out where it was going, I no longer cared) bad casting.(come on... William Macy as a hit man???) bad directing,(have you ever seen Tracey Ullman perform SO badly?)(Was I supposed to care what happened to the unethical incompetent, uncaring John Ritter character?) bad script...( Really, I'm not looking for a formula script but this was really awful) the only Really good thing in it was the kid. Ten lines? It's not OK if your comment is less than ten lines? COme on-- whose rules are those? Why can't I say what I have to say in less than 10 lines??? Isn't that kind of arbitrary? Why isn't it OK to have less than 10 lines of comment?\n",
      "TrainY\n",
      "Pot-seeking pre-teen Joshua Miller (as Tim) throws his sister's doll into the river while Daniel Roebuck (as Samson) howls and smokes a cigarette, after killing Danyi Deats (as Jamie). The doll washes away, but the naked young woman stays by the \"River's Edge\", for any passerby to see. Viewing the dead body are a group of twenty-something teenagers, mostly classmates of the naked corpse. Stoners Keanu Reeves (as Matt) and Crispin Glover (as Layne) are found most camera-worthy. The friends wonder what to do about their guilty, beer-guzzling killer friend.<br /><br />Veteran-in-the-cast Dennis Hopper (as Feck) keeps the youngsters' heads fed. Mr. Hopper once killed a woman. He lives with one of those life-sized sex dolls, with a mouth apparently ready for action. Ione Skye Leitch (as Clarissa) is a more living doll, and she is waiting for Reeves to kiss her. Their copulation is notably cross-cut with a flashback to the opening strangulation. An actual teenager, in her first feature role, Ms. Leitch is the daughter of sixties-singer Donovan. Make other quirky connections on your own.<br /><br />You can read a lot into the movie, or not, depending on your mood. Some of the characters' backgrounds may be a little too subtle. Most obviously, the killer teen was teased; note his weight, attitude, and \"toilet\"-connected nickname. Some of the characters' relationships and motivations are too vaguely defined, but the cast certainly keeps the material interesting; and, director Tim Hunter, photographer Frederick Elmes, and writer Neal Jimenez are obviously skilled.<br /><br />******* River's Edge (8/27/86) Tim Hunter ~ Keanu Reeves, Crispin Glover, Dennis Hopper, Joshua Miller\n"
     ]
    }
   ],
   "source": [
    "print(train_X[100])\n",
    "print (\"TrainY\")\n",
    "print(test_X[100])"
   ]
  },
  {
   "cell_type": "markdown",
   "metadata": {},
   "source": [
    "The first step in processing the reviews is to make sure that any html tags that appear should be removed. In addition we wish to tokenize our input, that way words such as *entertained* and *entertaining* are considered the same with regard to sentiment analysis."
   ]
  },
  {
   "cell_type": "code",
   "execution_count": 6,
   "metadata": {},
   "outputs": [],
   "source": [
    "import nltk\n",
    "from nltk.corpus import stopwords\n",
    "from nltk.stem.porter import *\n",
    "\n",
    "import re\n",
    "from bs4 import BeautifulSoup\n",
    "\n",
    "def review_to_words(review):\n",
    "    nltk.download(\"stopwords\", quiet=True)\n",
    "    stemmer = PorterStemmer()\n",
    "    \n",
    "    text = BeautifulSoup(review, \"html.parser\").get_text() # Remove HTML tags\n",
    "    text = re.sub(r\"[^a-zA-Z0-9]\", \" \", text.lower()) # Convert to lower case\n",
    "    #\"welcome to udacity\" ==> ['welcome', 'to' ,'udacity'] \n",
    "    #Above is how the .split() function work in python\n",
    "    words = text.split() # Split string into words\n",
    "    words = [w for w in words if w not in stopwords.words(\"english\")] # Remove stopwords\n",
    "    words = [PorterStemmer().stem(w) for w in words] # stem\n",
    "    \n",
    "    return words"
   ]
  },
  {
   "cell_type": "markdown",
   "metadata": {},
   "source": [
    "The `review_to_words` method defined above uses `BeautifulSoup` to remove any html tags that appear and uses the `nltk` package to tokenize the reviews. As a check to ensure we know how everything is working, try applying `review_to_words` to one of the reviews in the training set."
   ]
  },
  {
   "cell_type": "code",
   "execution_count": 7,
   "metadata": {},
   "outputs": [
    {
     "name": "stdout",
     "output_type": "stream",
     "text": [
      "Before Calling review_to_word function on train_X[1] ==> \n",
      "Understand i'm reviewing the film I have seen. I realize virtually all the nudity and gore was cut f\n",
      "\n",
      "AFter Calling ==> \n",
      "['excel', 'accur', 'film', 'mcgovern', 'take', 'great', 'pain', 'research', 'document', 'write']\n"
     ]
    }
   ],
   "source": [
    "# TODO: Apply review_to_words to a review (train_X[100] or any other review)\n",
    "print(\"Before Calling review_to_word function on train_X[1] ==> \")\n",
    "print(train_X[0][0:100])\n",
    "\n",
    "print(\"\\nAFter Calling ==> \")\n",
    "review_in_word = review_to_words(train_X[1])\n",
    "print(review_in_word[0:10])\n"
   ]
  },
  {
   "cell_type": "markdown",
   "metadata": {},
   "source": [
    "**Question:** Above we mentioned that `review_to_words` method removes html formatting and allows us to tokenize the words found in a review, for example, converting *entertained* and *entertaining* into *entertain* so that they are treated as though they are the same word. What else, if anything, does this method do to the input?"
   ]
  },
  {
   "cell_type": "markdown",
   "metadata": {},
   "source": [
    "**Answer:** Along with tokenize(aka stem), the above function does the followig job.\n",
    "(a) Remove HTML Tags\n",
    "(b) Convert all letters/words to lowercase.\n",
    "(c) Split the sentences into individual word, and store them in list.\n",
    "(d) Remove preposition and other words. (ex: to, in, the etc)\n"
   ]
  },
  {
   "cell_type": "code",
   "execution_count": null,
   "metadata": {},
   "outputs": [],
   "source": []
  },
  {
   "cell_type": "markdown",
   "metadata": {},
   "source": [
    "The method below applies the `review_to_words` method to each of the reviews in the training and testing datasets. In addition it caches the results. This is because performing this processing step can take a long time. This way if you are unable to complete the notebook in the current session, you can come back without needing to process the data a second time."
   ]
  },
  {
   "cell_type": "code",
   "execution_count": 8,
   "metadata": {},
   "outputs": [],
   "source": [
    "import pickle\n",
    "\n",
    "cache_dir = os.path.join(\"../cache\", \"sentiment_analysis\")  # where to store cache files\n",
    "os.makedirs(cache_dir, exist_ok=True)  # ensure cache directory exists\n",
    "\n",
    "def preprocess_data(data_train, data_test, labels_train, labels_test,\n",
    "                    cache_dir=cache_dir, cache_file=\"preprocessed_data.pkl\"):\n",
    "    \"\"\"Convert each review to words; read from cache if available.\"\"\"\n",
    "\n",
    "    # If cache_file is not None, try to read from it first\n",
    "    cache_data = None\n",
    "    if cache_file is not None:\n",
    "        try:\n",
    "            with open(os.path.join(cache_dir, cache_file), \"rb\") as f:\n",
    "                cache_data = pickle.load(f)\n",
    "            print(\"Read preprocessed data from cache file:\", cache_file)\n",
    "        except:\n",
    "            pass  # unable to read from cache, but that's okay\n",
    "    \n",
    "    # If cache is missing, then do the heavy lifting\n",
    "    if cache_data is None:\n",
    "        # Preprocess training and test data to obtain words for each review\n",
    "        #words_train = list(map(review_to_words, data_train))\n",
    "        #words_test = list(map(review_to_words, data_test))\n",
    "        words_train = [review_to_words(review) for review in data_train]\n",
    "        words_test = [review_to_words(review) for review in data_test]\n",
    "        \n",
    "        # Write to cache file for future runs\n",
    "        if cache_file is not None:\n",
    "            cache_data = dict(words_train=words_train, words_test=words_test,\n",
    "                              labels_train=labels_train, labels_test=labels_test)\n",
    "            with open(os.path.join(cache_dir, cache_file), \"wb\") as f:\n",
    "                pickle.dump(cache_data, f)\n",
    "            print(\"Wrote preprocessed data to cache file:\", cache_file)\n",
    "    else:\n",
    "        # Unpack data loaded from cache file\n",
    "        words_train, words_test, labels_train, labels_test = (cache_data['words_train'],\n",
    "                cache_data['words_test'], cache_data['labels_train'], cache_data['labels_test'])\n",
    "    \n",
    "    return words_train, words_test, labels_train, labels_test"
   ]
  },
  {
   "cell_type": "code",
   "execution_count": 104,
   "metadata": {},
   "outputs": [
    {
     "name": "stdout",
     "output_type": "stream",
     "text": [
      "Read preprocessed data from cache file: preprocessed_data.pkl\n",
      "['subject', 'latest', 'adman', 'turn', 'movieman', 'tri', 'tackl', 'debut', 'ad', 'ventur', 'quit', 'age', 'old', 'topic', 'discuss', 'almost', 'cultur', 'standard', 'timeless', 'romanc', 'pun', 'intend', 'howev', 'explor', 'exploit', 'desi', 'aud', 'fall', 'woefulli', 'short', 'usual', 'inclin', 'pepper', 'spice', 'sugar', 'usual', 'masala', 'mix', 'b', 'g', 'score', 'dialog', 'danc', 'drama', 'etc', 'creat', 'nice', 'look', 'packag', 'much', 'insid', 'first', '40', 'minut', 'movi', 'kitchen', 'scene', 'repeat', 'least', '8', '9', 'time', 'repeat', 'follow', 'thru', 'movi', 'lead', 'charact', 'cook', 'therein', 'lie', 'le', 'problemo', 'stori', 'hah', 'wonder', 'someon', 'forgot', 'write', 'script', 'amitabh', 'put', 'cheeni', 'jyada', 'amount', 'act', 'realli', 'guy', 'ever', 'gonna', 'stop', 'mani', '60', 'someth', 'pranc', 'around', 'like', 'even', 'teas', 'nubil', '30', 'someth', 'timeless', 'mind', 'ye', 'sure', 'ageless', 'bod', 'sole', 'sorri', 'soul', 'reason', 'good', 'act', 'paresh', 'rawal', 'sensibl', 'role', 'film', 'director', 'lack', 'sens', 'realism', 'get', 'caught', 'new', 'fangl', 'discoveri', 'hot', 'new', 'idea', 'nowher', 'present', 'real', 'life', 'problem', 'issu', 'pair', 'might', 'face', 'actual', 'get', 'marri', 'initi', 'obstacl', 'sub', 'plot', 'littl', 'kid', 'cancer', 'bachelor', 'boy', 'first', 'love', 'goe', 'nowher', 'whatev', 'littl', 'bit', 'poignanc', 'otherwis', 'insipid', 'present', 'would', 'evok', 'quickli', 'kill', 'along', 'girl', 'charact', 'anyway', 'nice', 'tri', 'quit', 'yet']\n"
     ]
    }
   ],
   "source": [
    "# Preprocess data\n",
    "train_X, test_X, train_y, test_y = preprocess_data(train_X, test_X, train_y, test_y)\n",
    "print(train_X[0])"
   ]
  },
  {
   "cell_type": "markdown",
   "metadata": {},
   "source": [
    "## Transform the data\n",
    "\n",
    "In the XGBoost notebook we transformed the data from its word representation to a bag-of-words feature representation. For the model we are going to construct in this notebook we will construct a feature representation which is very similar. To start, we will represent each word as an integer. Of course, some of the words that appear in the reviews occur very infrequently and so likely don't contain much information for the purposes of sentiment analysis. The way we will deal with this problem is that we will fix the size of our working vocabulary and we will only include the words that appear most frequently. We will then combine all of the infrequent words into a single category and, in our case, we will label it as `1`.\n",
    "\n",
    "Since we will be using a recurrent neural network, it will be convenient if the length of each review is the same. To do this, we will fix a size for our reviews and then pad short reviews with the category 'no word' (which we will label `0`) and truncate long reviews."
   ]
  },
  {
   "cell_type": "markdown",
   "metadata": {},
   "source": [
    "### (TODO) Create a word dictionary\n",
    "\n",
    "To begin with, we need to construct a way to map words that appear in the reviews to integers. Here we fix the size of our vocabulary (including the 'no word' and 'infrequent' categories) to be `5000` but you may wish to change this to see how it affects the model.\n",
    "\n",
    "> **TODO:** Complete the implementation for the `build_dict()` method below. Note that even though the vocab_size is set to `5000`, we only want to construct a mapping for the most frequently appearing `4998` words. This is because we want to reserve the special labels `0` for 'no word' and `1` for 'infrequent word'."
   ]
  },
  {
   "cell_type": "code",
   "execution_count": 88,
   "metadata": {},
   "outputs": [],
   "source": [
    "import numpy as np\n",
    "\n",
    "def sort_fun(n):\n",
    "    \"\"\"Sort Function for custom sort of python dictionary\"\"\"\n",
    "    return n\n",
    "\n",
    "def build_dict(data, vocab_size = 5000):\n",
    "    \"\"\"Construct and return a dictionary mapping each of the most frequently appearing words to a unique integer.\"\"\"\n",
    "    \n",
    "    # TODO: Determine how often each word appears in `data`. Note that `data` is a list of sentences and that a\n",
    "    #       sentence is a list of words.\n",
    "    \n",
    "    word_count = {} # A dict storing the words that appear in the reviews along with how often they occur\n",
    "    \n",
    "    for sen in data:\n",
    "        for word in sen:\n",
    "            if word in word_count:\n",
    "                word_count[word] = word_count[word] + 1\n",
    "            else:\n",
    "                word_count[word] = 1;\n",
    "    \n",
    "    # TODO: Sort the words found in `data` so that sorted_words[0] is the most frequently appearing word and\n",
    "    #       sorted_words[-1] is the least frequently appearing word.\n",
    "    \n",
    "    sorted_words = sorted(word_count.items(), key = lambda x : x[1], reverse = True)\n",
    "    \n",
    "    word_dict = {} # This is what we are building, a dictionary that translates words into integers\n",
    "    for idx, word in enumerate(sorted_words[:vocab_size - 2]): # The -2 is so that we save room for the 'no word'\n",
    "        word_dict[word] = idx + 2                              # 'infrequent' labels\n",
    "        \n",
    "    return word_dict"
   ]
  },
  {
   "cell_type": "code",
   "execution_count": 90,
   "metadata": {},
   "outputs": [
    {
     "name": "stdout",
     "output_type": "stream",
     "text": [
      "{('movi', 51695): 2, ('film', 48190): 3, ('one', 27741): 4, ('like', 22799): 5, ('time', 16191): 6, ('good', 15360): 7, ('make', 15207): 8, ('charact', 14178): 9, ('get', 14141): 10, ('see', 14111): 11, ('watch', 13940): 12, ('stori', 13168): 13, ('even', 12906): 14, ('would', 12436): 15, ('realli', 11736): 16, ('well', 11042): 17, ('scene', 10586): 18, ('look', 10051): 19, ('show', 9878): 20, ('much', 9765): 21, ('end', 9651): 22, ('peopl', 9391): 23, ('bad', 9344): 24, ('go', 9305): 25, ('great', 9171): 26, ('also', 9156): 27, ('first', 9062): 28, ('love', 9027): 29, ('think', 8913): 30, ('way', 8830): 31, ('act', 8794): 32, ('play', 8730): 33, ('made', 8362): 34, ('thing', 8213): 35, ('could', 7921): 36, ('know', 7514): 37, ('say', 7457): 38, ('seem', 7220): 39, ('work', 7101): 40, ('plot', 6967): 41, ('two', 6908): 42, ('actor', 6876): 43, ('year', 6874): 44, ('come', 6747): 45, ('mani', 6688): 46, ('seen', 6681): 47, ('take', 6654): 48, ('life', 6640): 49, ('want', 6640): 50, ('never', 6484): 51, ('littl', 6435): 52, ('best', 6424): 53, ('tri', 6357): 54, ('man', 6036): 55, ('ever', 5999): 56, ('give', 5792): 57, ('better', 5749): 58, ('still', 5664): 59, ('perform', 5528): 60, ('find', 5449): 61, ('feel', 5300): 62, ('part', 5247): 63, ('back', 5133): 64, ('use', 5123): 65, ('someth', 5122): 66, ('director', 5120): 67, ('actual', 5065): 68, ('interest', 4893): 69, ('lot', 4778): 70, ('real', 4741): 71, ('old', 4583): 72, ('cast', 4573): 73, ('though', 4566): 74, ('live', 4477): 75, ('star', 4447): 76, ('enjoy', 4353): 77, ('guy', 4339): 78, ('anoth', 4325): 79, ('new', 4315): 80, ('role', 4300): 81, ('noth', 4296): 82, ('10', 4289): 83, ('funni', 4288): 84, ('music', 4247): 85, ('point', 4238): 86, ('start', 4166): 87, ('set', 4116): 88, ('girl', 4064): 89, ('origin', 4044): 90, ('day', 4013): 91, ('world', 3979): 92, ('everi', 3977): 93, ('believ', 3917): 94, ('turn', 3880): 95, ('quit', 3841): 96, ('direct', 3794): 97, ('us', 3794): 98, ('thought', 3773): 99, ('fact', 3749): 100, ('minut', 3739): 101, ('horror', 3717): 102, ('kill', 3701): 103, ('action', 3694): 104, ('comedi', 3686): 105, ('pretti', 3665): 106, ('young', 3664): 107, ('wonder', 3639): 108, ('happen', 3624): 109, ('around', 3616): 110, ('got', 3583): 111, ('effect', 3581): 112, ('right', 3554): 113, ('long', 3540): 114, ('howev', 3537): 115, ('big', 3477): 116, ('line', 3458): 117, ('famili', 3454): 118, ('enough', 3452): 119, ('seri', 3420): 120, ('may', 3392): 121, ('need', 3378): 122, ('fan', 3370): 123, ('bit', 3348): 124, ('script', 3342): 125, ('beauti', 3292): 126, ('person', 3274): 127, ('becom', 3272): 128, ('without', 3268): 129, ('must', 3250): 130, ('alway', 3243): 131, ('friend', 3230): 132, ('tell', 3215): 133, ('reason', 3206): 134, ('saw', 3178): 135, ('last', 3158): 136, ('final', 3153): 137, ('kid', 3148): 138, ('almost', 3139): 139, ('put', 3132): 140, ('least', 3112): 141, ('sure', 3100): 142, ('done', 3096): 143, ('whole', 3080): 144, ('place', 3048): 145, ('complet', 3035): 146, ('kind', 3008): 147, ('differ', 3007): 148, ('expect', 3007): 149, ('shot', 2998): 150, ('far', 2978): 151, ('mean', 2961): 152, ('anyth', 2949): 153, ('book', 2935): 154, ('laugh', 2926): 155, ('might', 2919): 156, ('name', 2917): 157, ('sinc', 2906): 158, ('begin', 2905): 159, ('2', 2882): 160, ('probabl', 2874): 161, ('woman', 2838): 162, ('help', 2828): 163, ('entertain', 2827): 164, ('let', 2821): 165, ('screen', 2799): 166, ('call', 2792): 167, ('tv', 2786): 168, ('moment', 2784): 169, ('away', 2782): 170, ('read', 2762): 171, ('yet', 2753): 172, ('rather', 2733): 173, ('worst', 2731): 174, ('run', 2723): 175, ('fun', 2694): 176, ('lead', 2684): 177, ('hard', 2681): 178, ('audienc', 2675): 179, ('idea', 2638): 180, ('anyon', 2632): 181, ('episod', 2629): 182, ('american', 2618): 183, ('found', 2608): 184, ('appear', 2567): 185, ('bore', 2549): 186, ('especi', 2539): 187, ('although', 2537): 188, ('hope', 2529): 189, ('cours', 2520): 190, ('keep', 2520): 191, ('anim', 2483): 192, ('job', 2461): 193, ('goe', 2441): 194, ('move', 2434): 195, ('sens', 2416): 196, ('version', 2410): 197, ('dvd', 2410): 198, ('war', 2394): 199, ('money', 2370): 200, ('someon', 2363): 201, ('mind', 2354): 202, ('mayb', 2340): 203, ('problem', 2337): 204, ('true', 2333): 205, ('hous', 2328): 206, ('everyth', 2323): 207, ('nice', 2312): 208, ('second', 2309): 209, ('rate', 2300): 210, ('three', 2297): 211, ('night', 2293): 212, ('follow', 2292): 213, ('face', 2292): 214, ('recommend', 2290): 215, ('product', 2283): 216, ('main', 2283): 217, ('worth', 2280): 218, ('leav', 2272): 219, ('human', 2262): 220, ('special', 2258): 221, ('excel', 2251): 222, ('togeth', 2247): 223, ('wast', 2229): 224, ('sound', 2228): 225, ('everyon', 2228): 226, ('john', 2222): 227, ('hand', 2221): 228, ('1', 2213): 229, ('father', 2206): 230, ('later', 2202): 231, ('eye', 2200): 232, ('said', 2196): 233, ('view', 2193): 234, ('instead', 2190): 235, ('review', 2184): 236, ('boy', 2178): 237, ('high', 2174): 238, ('hour', 2164): 239, ('miss', 2160): 240, ('classic', 2159): 241, ('talk', 2159): 242, ('wife', 2140): 243, ('understand', 2132): 244, ('left', 2125): 245, ('care', 2124): 246, ('black', 2123): 247, ('death', 2113): 248, ('open', 2103): 249, ('murder', 2102): 250, ('write', 2096): 251, ('half', 2094): 252, ('head', 2075): 253, ('rememb', 2070): 254, ('chang', 2062): 255, ('viewer', 2047): 256, ('fight', 2040): 257, ('gener', 2022): 258, ('surpris', 2021): 259, ('short', 2020): 260, ('includ', 2020): 261, ('die', 2012): 262, ('fall', 2004): 263, ('less', 2003): 264, ('els', 2002): 265, ('entir', 1993): 266, ('piec', 1981): 267, ('involv', 1980): 268, ('pictur', 1968): 269, ('simpli', 1965): 270, ('power', 1957): 271, ('top', 1957): 272, ('home', 1957): 273, ('total', 1948): 274, ('usual', 1946): 275, ('budget', 1933): 276, ('attempt', 1932): 277, ('suppos', 1924): 278, ('releas', 1921): 279, ('hollywood', 1920): 280, ('terribl', 1917): 281, ('song', 1916): 282, ('men', 1915): 283, ('possibl', 1913): 284, ('featur', 1903): 285, ('portray', 1902): 286, ('disappoint', 1900): 287, ('poor', 1899): 288, ('3', 1898): 289, ('coupl', 1894): 290, ('stupid', 1888): 291, ('camera', 1888): 292, ('dead', 1883): 293, ('wrong', 1872): 294, ('produc', 1870): 295, ('low', 1870): 296, ('video', 1866): 297, ('either', 1866): 298, ('aw', 1861): 299, ('definit', 1856): 300, ('except', 1854): 301, ('rest', 1852): 302, ('given', 1849): 303, ('absolut', 1845): 304, ('women', 1827): 305, ('lack', 1821): 306, ('word', 1817): 307, ('writer', 1814): 308, ('titl', 1793): 309, ('talent', 1787): 310, ('decid', 1786): 311, ('full', 1783): 312, ('perfect', 1778): 313, ('along', 1777): 314, ('style', 1760): 315, ('close', 1744): 316, ('truli', 1743): 317, ('school', 1732): 318, ('emot', 1731): 319, ('save', 1731): 320, ('age', 1726): 321, ('sex', 1726): 322, ('next', 1716): 323, ('bring', 1715): 324, ('mr', 1708): 325, ('case', 1706): 326, ('killer', 1700): 327, ('heart', 1688): 328, ('comment', 1687): 329, ('sort', 1684): 330, ('creat', 1683): 331, ('perhap', 1681): 332, ('came', 1673): 333, ('brother', 1664): 334, ('sever', 1663): 335, ('joke', 1656): 336, ('art', 1653): 337, ('dialogu', 1652): 338, ('game', 1651): 339, ('small', 1648): 340, ('base', 1645): 341, ('flick', 1629): 342, ('written', 1616): 343, ('sequenc', 1609): 344, ('meet', 1608): 345, ('earli', 1605): 346, ('often', 1601): 347, ('other', 1598): 348, ('mother', 1597): 349, ('develop', 1595): 350, ('humor', 1592): 351, ('actress', 1588): 352, ('consid', 1585): 353, ('dark', 1573): 354, ('guess', 1565): 355, ('amaz', 1563): 356, ('unfortun', 1562): 357, ('light', 1555): 358, ('lost', 1555): 359, ('exampl', 1554): 360, ('cinema', 1553): 361, ('drama', 1552): 362, ('ye', 1551): 363, ('white', 1551): 364, ('experi', 1548): 365, ('imagin', 1547): 366, ('mention', 1545): 367, ('stop', 1543): 368, ('natur', 1541): 369, ('forc', 1534): 370, ('manag', 1529): 371, ('felt', 1528): 372, ('present', 1520): 373, ('cut', 1520): 374, ('children', 1515): 375, ('fail', 1511): 376, ('son', 1506): 377, ('car', 1505): 378, ('support', 1505): 379, ('qualiti', 1505): 380, ('ask', 1500): 381, ('hit', 1497): 382, ('side', 1490): 383, ('voic', 1482): 384, ('extrem', 1473): 385, ('impress', 1472): 386, ('evil', 1468): 387, ('wors', 1468): 388, ('stand', 1463): 389, ('went', 1463): 390, ('certainli', 1462): 391, ('basic', 1453): 392, ('oh', 1450): 393, ('overal', 1434): 394, ('favorit', 1421): 395, ('horribl', 1418): 396, ('mysteri', 1416): 397, ('number', 1413): 398, ('type', 1408): 399, ('danc', 1405): 400, ('wait', 1400): 401, ('hero', 1389): 402, ('5', 1381): 403, ('alreadi', 1381): 404, ('learn', 1375): 405, ('matter', 1373): 406, ('4', 1372): 407, ('michael', 1370): 408, ('genr', 1367): 409, ('fine', 1366): 410, ('despit', 1364): 411, ('throughout', 1360): 412, ('walk', 1358): 413, ('success', 1344): 414, ('histori', 1338): 415, ('question', 1333): 416, ('zombi', 1331): 417, ('town', 1328): 418, ('relationship', 1327): 419, ('realiz', 1327): 420, ('child', 1324): 421, ('past', 1324): 422, ('daughter', 1312): 423, ('late', 1309): 424, ('b', 1306): 425, ('wish', 1303): 426, ('hate', 1295): 427, ('credit', 1295): 428, ('event', 1293): 429, ('theme', 1292): 430, ('touch', 1284): 431, ('citi', 1283): 432, ('today', 1282): 433, ('sometim', 1281): 434, ('behind', 1280): 435, ('god', 1271): 436, ('twist', 1268): 437, ('sit', 1263): 438, ('deal', 1260): 439, ('stay', 1260): 440, ('annoy', 1260): 441, ('abl', 1259): 442, ('rent', 1256): 443, ('pleas', 1253): 444, ('edit', 1250): 445, ('blood', 1245): 446, ('deserv', 1236): 447, ('anyway', 1230): 448, ('comic', 1230): 449, ('appar', 1226): 450, ('soon', 1222): 451, ('gave', 1216): 452, ('etc', 1212): 453, ('level', 1210): 454, ('slow', 1207): 455, ('chanc', 1204): 456, ('score', 1203): 457, ('bodi', 1199): 458, ('brilliant', 1196): 459, ('incred', 1194): 460, ('figur', 1190): 461, ('situat', 1188): 462, ('self', 1185): 463, ('major', 1185): 464, ('stuff', 1181): 465, ('decent', 1178): 466, ('element', 1176): 467, ('return', 1174): 468, ('dream', 1174): 469, ('obvious', 1168): 470, ('order', 1159): 471, ('continu', 1159): 472, ('pace', 1156): 473, ('ridicul', 1154): 474, ('happi', 1151): 475, ('add', 1147): 476, ('group', 1147): 477, ('highli', 1147): 478, ('thank', 1146): 479, ('ladi', 1145): 480, ('novel', 1130): 481, ('pain', 1129): 482, ('speak', 1129): 483, ('career', 1116): 484, ('shoot', 1115): 485, ('strang', 1114): 486, ('heard', 1111): 487, ('sad', 1108): 488, ('husband', 1105): 489, ('polic', 1105): 490, ('import', 1103): 491, ('break', 1101): 492, ('took', 1100): 493, ('cannot', 1096): 494, ('strong', 1096): 495, ('predict', 1095): 496, ('robert', 1095): 497, ('violenc', 1091): 498, ('hilari', 1090): 499, ('recent', 1089): 500, ('countri', 1086): 501, ('known', 1081): 502, ('particularli', 1079): 503, ('pick', 1078): 504, ('documentari', 1074): 505, ('season', 1072): 506, ('critic', 1071): 507, ('jame', 1069): 508, ('compar', 1068): 509, ('obviou', 1066): 510, ('alon', 1066): 511, ('told', 1063): 512, ('state', 1060): 513, ('visual', 1058): 514, ('rock', 1058): 515, ('exist', 1057): 516, ('theater', 1057): 517, ('offer', 1057): 518, ('opinion', 1056): 519, ('gore', 1055): 520, ('crap', 1054): 521, ('hold', 1054): 522, ('result', 1052): 523, ('realiti', 1050): 524, ('room', 1050): 525, ('hear', 1050): 526, ('clich', 1047): 527, ('effort', 1047): 528, ('thriller', 1046): 529, ('caus', 1044): 530, ('sequel', 1042): 531, ('explain', 1042): 532, ('serious', 1042): 533, ('king', 1036): 534, ('local', 1035): 535, ('ago', 1033): 536, ('none', 1032): 537, ('hell', 1032): 538, ('note', 1027): 539, ('allow', 1026): 540, ('david', 1025): 541, ('sister', 1025): 542, ('simpl', 1023): 543, ('femal', 1022): 544, ('deliv', 1021): 545, ('ok', 1017): 546, ('convinc', 1012): 547, ('class', 1012): 548, ('check', 1011): 549, ('suspens', 1009): 550, ('win', 1008): 551, ('oscar', 1007): 552, ('buy', 1007): 553, ('huge', 1006): 554, ('valu', 1004): 555, ('sexual', 1000): 556, ('scari', 998): 557, ('cool', 998): 558, ('similar', 996): 559, ('excit', 996): 560, ('provid', 995): 561, ('exactli', 995): 562, ('apart', 995): 563, ('avoid', 994): 564, ('shown', 994): 565, ('seriou', 989): 566, ('english', 987): 567, ('taken', 986): 568, ('whose', 986): 569, ('cinematographi', 983): 570, ('shock', 979): 571, ('polit', 978): 572, ('spoiler', 976): 573, ('offic', 975): 574, ('across', 971): 575, ('middl', 969): 576, ('pass', 968): 577, ('street', 968): 578, ('messag', 966): 579, ('somewhat', 965): 580, ('silli', 965): 581, ('charm', 965): 582, ('modern', 964): 583, ('filmmak', 959): 584, ('confus', 959): 585, ('form', 957): 586, ('tale', 956): 587, ('singl', 950): 588, ('jack', 945): 589, ('mostli', 941): 590, ('william', 940): 591, ('carri', 940): 592, ('attent', 940): 593, ('sing', 939): 594, ('subject', 938): 595, ('five', 938): 596, ('prove', 937): 597, ('richard', 937): 598, ('stage', 935): 599, ('team', 935): 600, ('unlik', 934): 601, ('cop', 934): 602, ('georg', 933): 603, ('televis', 932): 604, ('monster', 932): 605, ('earth', 929): 606, ('cover', 927): 607, ('villain', 927): 608, ('pay', 924): 609, ('marri', 923): 610, ('toward', 922): 611, ('build', 921): 612, ('pull', 920): 613, ('parent', 920): 614, ('due', 918): 615, ('respect', 917): 616, ('fill', 917): 617, ('dialog', 915): 618, ('four', 915): 619, ('remind', 913): 620, ('futur', 912): 621, ('typic', 908): 622, ('weak', 908): 623, ('7', 904): 624, ('cheap', 903): 625, ('intellig', 902): 626, ('british', 901): 627, ('atmospher', 901): 628, ('clearli', 899): 629, ('80', 899): 630, ('paul', 898): 631, ('non', 898): 632, ('dog', 898): 633, ('8', 897): 634, ('fast', 897): 635, ('artist', 897): 636, ('knew', 897): 637, ('crime', 896): 638, ('easili', 892): 639, ('escap', 889): 640, ('adult', 887): 641, ('doubt', 887): 642, ('detail', 884): 643, ('date', 883): 644, ('fire', 879): 645, ('romant', 879): 646, ('member', 879): 647, ('drive', 872): 648, ('gun', 872): 649, ('straight', 869): 650, ('beyond', 866): 651, ('fit', 866): 652, ('attack', 864): 653, ('imag', 860): 654, ('upon', 859): 655, ('posit', 858): 656, ('whether', 856): 657, ('fantast', 855): 658, ('peter', 855): 659, ('appreci', 852): 660, ('captur', 852): 661, ('aspect', 852): 662, ('ten', 851): 663, ('plan', 850): 664, ('discov', 849): 665, ('remain', 846): 666, ('period', 843): 667, ('near', 843): 668, ('air', 842): 669, ('realist', 842): 670, ('mark', 838): 671, ('red', 837): 672, ('dull', 836): 673, ('adapt', 835): 674, ('within', 832): 675, ('lose', 828): 676, ('spend', 828): 677, ('color', 827): 678, ('materi', 827): 679, ('chase', 824): 680, ('mari', 823): 681, ('storylin', 822): 682, ('forget', 821): 683, ('bunch', 819): 684, ('clear', 818): 685, ('lee', 817): 686, ('victim', 816): 687, ('nearli', 815): 688, ('box', 813): 689, ('york', 812): 690, ('inspir', 811): 691, ('match', 811): 692, ('finish', 809): 693, ('mess', 809): 694, ('standard', 808): 695, ('easi', 806): 696, ('truth', 805): 697, ('busi', 802): 698, ('suffer', 802): 699, ('bill', 799): 700, ('space', 799): 701, ('dramat', 799): 702, ('western', 798): 703, ('e', 797): 704, ('list', 796): 705, ('battl', 795): 706, ('notic', 793): 707, ('de', 792): 708, ('french', 790): 709, ('ad', 788): 710, ('9', 787): 711, ('tom', 785): 712, ('larg', 784): 713, ('among', 783): 714, ('eventu', 782): 715, ('train', 781): 716, ('accept', 781): 717, ('agre', 779): 718, ('soundtrack', 778): 719, ('spirit', 778): 720, ('third', 776): 721, ('teenag', 775): 722, ('adventur', 773): 723, ('soldier', 773): 724, ('sorri', 771): 725, ('suggest', 771): 726, ('famou', 771): 727, ('drug', 771): 728, ('normal', 770): 729, ('cri', 770): 730, ('babi', 770): 731, ('troubl', 769): 732, ('ultim', 769): 733, ('contain', 765): 734, ('certain', 764): 735, ('cultur', 762): 736, ('romanc', 760): 737, ('rare', 759): 738, ('lame', 758): 739, ('somehow', 757): 740, ('mix', 755): 741, ('disney', 755): 742, ('gone', 754): 743, ('cartoon', 753): 744, ('student', 752): 745, ('fear', 751): 746, ('reveal', 751): 747, ('suck', 750): 748, ('kept', 750): 749, ('attract', 749): 750, ('appeal', 748): 751, ('premis', 747): 752, ('greatest', 745): 753, ('secret', 745): 754, ('design', 745): 755, ('shame', 743): 756, ('throw', 742): 757, ('copi', 741): 758, ('scare', 741): 759, ('wit', 739): 760, ('america', 738): 761, ('admit', 738): 762, ('particular', 737): 763, ('relat', 737): 764, ('brought', 737): 765, ('screenplay', 735): 766, ('whatev', 734): 767, ('pure', 733): 768, ('70', 732): 769, ('harri', 730): 770, ('averag', 730): 771, ('master', 729): 772, ('describ', 728): 773, ('male', 727): 774, ('treat', 727): 775, ('20', 726): 776, ('issu', 725): 777, ('fantasi', 725): 778, ('warn', 724): 779, ('inde', 722): 780, ('background', 719): 781, ('forward', 719): 782, ('free', 717): 783, ('project', 717): 784, ('memor', 714): 785, ('japanes', 714): 786, ('poorli', 713): 787, ('award', 712): 788, ('locat', 711): 789, ('potenti', 710): 790, ('amus', 710): 791, ('struggl', 709): 792, ('weird', 708): 793, ('magic', 708): 794, ('societi', 707): 795, ('okay', 706): 796, ('doctor', 704): 797, ('accent', 704): 798, ('imdb', 704): 799, ('hot', 703): 800, ('water', 703): 801, ('30', 702): 802, ('alien', 702): 803, ('dr', 702): 804, ('express', 702): 805, ('odd', 701): 806, ('choic', 699): 807, ('crazi', 699): 808, ('studio', 698): 809, ('fiction', 698): 810, ('becam', 697): 811, ('control', 697): 812, ('masterpiec', 696): 813, ('difficult', 695): 814, ('fli', 695): 815, ('joe', 692): 816, ('scream', 690): 817, ('costum', 689): 818, ('lover', 688): 819, ('uniqu', 687): 820, ('refer', 687): 821, ('remak', 686): 822, ('girlfriend', 684): 823, ('vampir', 684): 824, ('prison', 682): 825, ('execut', 680): 826, ('wear', 678): 827, ('jump', 677): 828, ('wood', 675): 829, ('unless', 675): 830, ('creepi', 673): 831, ('cheesi', 672): 832, ('superb', 671): 833, ('otherwis', 670): 834, ('parti', 668): 835, ('ghost', 666): 836, ('roll', 666): 837, ('public', 664): 838, ('mad', 664): 839, ('depict', 663): 840, ('badli', 662): 841, ('jane', 662): 842, ('week', 662): 843, ('moral', 662): 844, ('earlier', 662): 845, ('fi', 660): 846, ('dumb', 660): 847, ('grow', 659): 848, ('flaw', 659): 849, ('sci', 658): 850, ('deep', 658): 851, ('maker', 657): 852, ('cat', 657): 853, ('footag', 656): 854, ('older', 656): 855, ('connect', 656): 856, ('bother', 655): 857, ('plenti', 655): 858, ('outsid', 653): 859, ('stick', 650): 860, ('gay', 649): 861, ('catch', 647): 862, ('plu', 645): 863, ('co', 645): 864, ('popular', 643): 865, ('equal', 642): 866, ('social', 641): 867, ('quickli', 639): 868, ('disturb', 639): 869, ('perfectli', 637): 870, ('dress', 636): 871, ('era', 635): 872, ('90', 635): 873, ('mistak', 634): 874, ('lie', 632): 875, ('previou', 630): 876, ('ride', 630): 877, ('combin', 629): 878, ('band', 627): 879, ('concept', 627): 880, ('rich', 626): 881, ('surviv', 626): 882, ('answer', 626): 883, ('front', 624): 884, ('christma', 623): 885, ('sweet', 623): 886, ('insid', 622): 887, ('eat', 621): 888, ('concern', 621): 889, ('bare', 621): 890, ('ben', 619): 891, ('beat', 619): 892, ('listen', 619): 893, ('c', 617): 894, ('serv', 615): 895, ('term', 615): 896, ('la', 614): 897, ('german', 614): 898, ('meant', 614): 899, ('hardli', 613): 900, ('stereotyp', 613): 901, ('law', 609): 902, ('innoc', 609): 903, ('desper', 608): 904, ('memori', 607): 905, ('promis', 607): 906, ('intent', 604): 907, ('cute', 604): 908, ('steal', 603): 909, ('inform', 603): 910, ('variou', 603): 911, ('brain', 601): 912, ('post', 600): 913, ('tone', 599): 914, ('island', 598): 915, ('amount', 597): 916, ('nuditi', 596): 917, ('compani', 596): 918, ('track', 596): 919, ('store', 595): 920, ('claim', 595): 921, ('hair', 594): 922, ('flat', 594): 923, ('50', 594): 924, ('land', 592): 925, ('univers', 592): 926, ('kick', 587): 927, ('scott', 587): 928, ('fairli', 587): 929, ('danger', 587): 930, ('player', 586): 931, ('crew', 584): 932, ('step', 584): 933, ('plain', 584): 934, ('toni', 582): 935, ('share', 581): 936, ('tast', 580): 937, ('centuri', 580): 938, ('achiev', 578): 939, ('engag', 578): 940, ('travel', 577): 941, ('cold', 577): 942, ('rip', 576): 943, ('suit', 576): 944, ('record', 576): 945, ('manner', 575): 946, ('sadli', 575): 947, ('tension', 574): 948, ('spot', 574): 949, ('wrote', 574): 950, ('fascin', 573): 951, ('intens', 573): 952, ('familiar', 572): 953, ('remark', 570): 954, ('depth', 570): 955, ('burn', 570): 956, ('histor', 569): 957, ('destroy', 569): 958, ('sleep', 568): 959, ('purpos', 567): 960, ('languag', 566): 961, ('ruin', 565): 962, ('ignor', 565): 963, ('delight', 564): 964, ('unbeliev', 563): 965, ('italian', 563): 966, ('soul', 562): 967, ('abil', 562): 968, ('collect', 562): 969, ('clever', 561): 970, ('detect', 561): 971, ('violent', 560): 972, ('rape', 559): 973, ('reach', 558): 974, ('door', 557): 975, ('liter', 556): 976, ('scienc', 556): 977, ('trash', 556): 978, ('caught', 555): 979, ('reveng', 555): 980, ('commun', 555): 981, ('creatur', 554): 982, ('trip', 552): 983, ('approach', 552): 984, ('fashion', 550): 985, ('intrigu', 550): 986, ('skill', 549): 987, ('paint', 549): 988, ('introduc', 549): 989, ('channel', 548): 990, ('complex', 548): 991, ('camp', 546): 992, ('christian', 544): 993, ('extra', 543): 994, ('hole', 543): 995, ('mental', 542): 996, ('immedi', 542): 997, ('limit', 542): 998, ('ann', 542): 999, ('6', 541): 1000, ('mere', 541): 1001, ('million', 541): 1002, ('comput', 541): 1003, ('slightli', 541): 1004, ('slasher', 539): 1005, ('conclus', 539): 1006, ('suddenli', 538): 1007, ('imposs', 538): 1008, ('neither', 537): 1009, ('teen', 537): 1010, ('crimin', 537): 1011, ('nation', 536): 1012, ('physic', 536): 1013, ('spent', 536): 1014, ('respons', 535): 1015, ('planet', 534): 1016, ('receiv', 532): 1017, ('fake', 532): 1018, ('blue', 531): 1019, ('sick', 531): 1020, ('bizarr', 529): 1021, ('embarrass', 528): 1022, ('indian', 527): 1023, ('ring', 525): 1024, ('15', 525): 1025, ('pop', 524): 1026, ('drop', 524): 1027, ('drag', 523): 1028, ('haunt', 521): 1029, ('pointless', 519): 1030, ('suspect', 519): 1031, ('edg', 517): 1032, ('search', 517): 1033, ('handl', 516): 1034, ('biggest', 515): 1035, ('common', 515): 1036, ('arriv', 514): 1037, ('faith', 514): 1038, ('hurt', 514): 1039, ('technic', 513): 1040, ('angel', 512): 1041, ('genuin', 511): 1042, ('dad', 511): 1043, ('f', 510): 1044, ('awesom', 510): 1045, ('solid', 510): 1046, ('colleg', 509): 1047, ('former', 509): 1048, ('focu', 509): 1049, ('van', 509): 1050, ('count', 507): 1051, ('tear', 506): 1052, ('heavi', 506): 1053, ('rais', 505): 1054, ('wall', 505): 1055, ('laughabl', 504): 1056, ('younger', 504): 1057, ('visit', 504): 1058, ('excus', 503): 1059, ('fair', 503): 1060, ('sign', 503): 1061, ('cult', 502): 1062, ('motion', 501): 1063, ('tough', 501): 1064, ('key', 501): 1065, ('desir', 500): 1066, ('super', 500): 1067, ('addit', 499): 1068, ('stun', 499): 1069, ('exploit', 497): 1070, ('cloth', 497): 1071, ('smith', 496): 1072, ('tortur', 496): 1073, ('race', 495): 1074, ('davi', 495): 1075, ('cross', 494): 1076, ('author', 494): 1077, ('jim', 492): 1078, ('consist', 491): 1079, ('minor', 491): 1080, ('compel', 491): 1081, ('focus', 491): 1082, ('chemistri', 490): 1083, ('commit', 490): 1084, ('pathet', 490): 1085, ('park', 489): 1086, ('obsess', 488): 1087, ('frank', 488): 1088, ('tradit', 488): 1089, ('grade', 487): 1090, ('60', 486): 1091, ('asid', 486): 1092, ('brutal', 485): 1093, ('somewher', 483): 1094, ('steve', 483): 1095, ('explor', 482): 1096, ('grant', 482): 1097, ('u', 482): 1098, ('rule', 482): 1099, ('depress', 482): 1100, ('opportun', 482): 1101, ('besid', 481): 1102, ('honest', 481): 1103, ('anti', 480): 1104, ('dub', 480): 1105, ('intend', 479): 1106, ('trailer', 479): 1107, ('bar', 478): 1108, ('west', 477): 1109, ('scientist', 477): 1110, ('longer', 477): 1111, ('regard', 477): 1112, ('decad', 476): 1113, ('judg', 476): 1114, ('silent', 475): 1115, ('armi', 474): 1116, ('creativ', 474): 1117, ('wild', 473): 1118, ('g', 472): 1119, ('south', 472): 1120, ('stewart', 472): 1121, ('draw', 471): 1122, ('road', 470): 1123, ('govern', 469): 1124, ('ex', 468): 1125, ('boss', 468): 1126, ('practic', 467): 1127, ('gang', 466): 1128, ('club', 466): 1129, ('surprisingli', 466): 1130, ('festiv', 466): 1131, ('motiv', 466): 1132, ('london', 465): 1133, ('redeem', 465): 1134, ('page', 465): 1135, ('green', 465): 1136, ('display', 464): 1137, ('aliv', 464): 1138, ('machin', 464): 1139, ('militari', 464): 1140, ('idiot', 464): 1141, ('repeat', 463): 1142, ('thrill', 463): 1143, ('nobodi', 462): 1144, ('100', 462): 1145, ('yeah', 462): 1146, ('folk', 462): 1147, ('40', 461): 1148, ('journey', 460): 1149, ('garbag', 460): 1150, ('smile', 459): 1151, ('tire', 459): 1152, ('ground', 459): 1153, ('bought', 458): 1154, ('mood', 458): 1155, ('sam', 457): 1156, ('cost', 457): 1157, ('stone', 457): 1158, ('mouth', 456): 1159, ('noir', 456): 1160, ('terrif', 455): 1161, ('agent', 455): 1162, ('requir', 454): 1163, ('utterli', 454): 1164, ('sexi', 453): 1165, ('area', 453): 1166, ('honestli', 453): 1167, ('report', 452): 1168, ('geniu', 452): 1169, ('glad', 451): 1170, ('enter', 451): 1171, ('humour', 451): 1172, ('investig', 451): 1173, ('serial', 450): 1174, ('occasion', 449): 1175, ('narr', 449): 1176, ('passion', 449): 1177, ('climax', 448): 1178, ('marriag', 448): 1179, ('studi', 447): 1180, ('industri', 447): 1181, ('nowher', 446): 1182, ('center', 446): 1183, ('demon', 446): 1184, ('ship', 446): 1185, ('charli', 446): 1186, ('loos', 445): 1187, ('hors', 445): 1188, ('bear', 445): 1189, ('hang', 444): 1190, ('wow', 444): 1191, ('graphic', 442): 1192, ('admir', 440): 1193, ('giant', 440): 1194, ('send', 439): 1195, ('damn', 438): 1196, ('loud', 438): 1197, ('rel', 437): 1198, ('nake', 437): 1199, ('subtl', 437): 1200, ('profession', 437): 1201, ('blow', 436): 1202, ('bottom', 435): 1203, ('insult', 434): 1204, ('batman', 434): 1205, ('kelli', 433): 1206, ('r', 433): 1207, ('doubl', 433): 1208, ('boyfriend', 433): 1209, ('initi', 431): 1210, ('frame', 430): 1211, ('gem', 429): 1212, ('opera', 429): 1213, ('cinemat', 428): 1214, ('drawn', 428): 1215, ('church', 428): 1216, ('affect', 428): 1217, ('challeng', 428): 1218, ('seek', 426): 1219, ('fulli', 426): 1220, ('evid', 426): 1221, ('nightmar', 426): 1222, ('j', 426): 1223, ('l', 426): 1224, ('arm', 425): 1225, ('conflict', 425): 1226, ('essenti', 425): 1227, ('christoph', 424): 1228, ('grace', 424): 1229, ('henri', 424): 1230, ('wind', 424): 1231, ('assum', 423): 1232, ('witch', 423): 1233, ('narrat', 423): 1234, ('push', 422): 1235, ('hunt', 422): 1236, ('chri', 421): 1237, ('wise', 421): 1238, ('nomin', 420): 1239, ('month', 420): 1240, ('repres', 420): 1241, ('sceneri', 419): 1242, ('hide', 419): 1243, ('avail', 419): 1244, ('affair', 419): 1245, ('bond', 418): 1246, ('thu', 418): 1247, ('smart', 418): 1248, ('justic', 418): 1249, ('flashback', 417): 1250, ('interview', 417): 1251, ('outstand', 417): 1252, ('presenc', 416): 1253, ('constantli', 416): 1254, ('satisfi', 416): 1255, ('bed', 415): 1256, ('central', 415): 1257, ('content', 414): 1258, ('iron', 414): 1259, ('sell', 414): 1260, ('gag', 413): 1261, ('everybodi', 413): 1262, ('slowli', 412): 1263, ('hotel', 412): 1264, ('hire', 411): 1265, ('system', 410): 1266, ('individu', 409): 1267, ('charl', 409): 1268, ('hey', 409): 1269, ('adam', 409): 1270, ('thrown', 409): 1271, ('mediocr', 408): 1272, ('jone', 408): 1273, ('allen', 408): 1274, ('billi', 407): 1275, ('lesson', 407): 1276, ('ray', 407): 1277, ('photographi', 406): 1278, ('cameo', 406): 1279, ('pari', 405): 1280, ('fellow', 405): 1281, ('strike', 404): 1282, ('rise', 403): 1283, ('absurd', 403): 1284, ('brief', 403): 1285, ('independ', 403): 1286, ('neg', 402): 1287, ('phone', 401): 1288, ('impact', 401): 1289, ('ill', 400): 1290, ('born', 400): 1291, ('model', 400): 1292, ('fresh', 399): 1293, ('spoil', 399): 1294, ('angl', 399): 1295, ('likabl', 398): 1296, ('abus', 398): 1297, ('discuss', 397): 1298, ('hill', 397): 1299, ('sight', 396): 1300, ('ahead', 396): 1301, ('sent', 395): 1302, ('photograph', 395): 1303, ('shine', 394): 1304, ('occur', 394): 1305, ('logic', 394): 1306, ('blame', 394): 1307, ('bruce', 393): 1308, ('mainli', 393): 1309, ('forev', 392): 1310, ('commerci', 392): 1311, ('skip', 392): 1312, ('segment', 391): 1313, ('held', 391): 1314, ('surround', 391): 1315, ('teacher', 391): 1316, ('blond', 390): 1317, ('zero', 390): 1318, ('resembl', 389): 1319, ('summer', 389): 1320, ('satir', 389): 1321, ('trap', 389): 1322, ('six', 388): 1323, ('ball', 388): 1324, ('queen', 388): 1325, ('fool', 388): 1326, ('sub', 387): 1327, ('twice', 387): 1328, ('tragedi', 387): 1329, ('pack', 386): 1330, ('reaction', 386): 1331, ('bomb', 385): 1332, ('will', 384): 1333, ('protagonist', 384): 1334, ('hospit', 384): 1335, ('mile', 383): 1336, ('sport', 383): 1337, ('jerri', 382): 1338, ('trust', 382): 1339, ('mom', 382): 1340, ('vote', 382): 1341, ('drink', 382): 1342, ('encount', 381): 1343, ('plane', 380): 1344, ('current', 379): 1345, ('station', 379): 1346, ('al', 379): 1347, ('program', 379): 1348, ('choos', 378): 1349, ('martin', 378): 1350, ('celebr', 378): 1351, ('join', 377): 1352, ('round', 376): 1353, ('lord', 376): 1354, ('tragic', 376): 1355, ('favourit', 376): 1356, ('field', 376): 1357, ('vision', 375): 1358, ('jean', 375): 1359, ('robot', 375): 1360, ('tie', 374): 1361, ('arthur', 374): 1362, ('fortun', 373): 1363, ('roger', 373): 1364, ('random', 373): 1365, ('psycholog', 372): 1366, ('dread', 372): 1367, ('intern', 372): 1368, ('nonsens', 371): 1369, ('prefer', 371): 1370, ('epic', 371): 1371, ('improv', 371): 1372, ('pleasur', 370): 1373, ('legend', 370): 1374, ('highlight', 370): 1375, ('formula', 370): 1376, ('tape', 369): 1377, ('dollar', 369): 1378, ('11', 369): 1379, ('wide', 368): 1380, ('porn', 368): 1381, ('gorgeou', 368): 1382, ('fox', 368): 1383, ('object', 368): 1384, ('thin', 368): 1385, ('influenc', 367): 1386, ('ugli', 367): 1387, ('buddi', 367): 1388, ('ii', 366): 1389, ('nasti', 366): 1390, ('prepar', 366): 1391, ('warm', 365): 1392, ('supposedli', 365): 1393, ('progress', 365): 1394, ('reflect', 365): 1395, ('worthi', 364): 1396, ('youth', 364): 1397, ('unusu', 362): 1398, ('latter', 362): 1399, ('length', 362): 1400, ('crash', 361): 1401, ('seven', 360): 1402, ('superior', 360): 1403, ('shop', 360): 1404, ('childhood', 360): 1405, ('remot', 359): 1406, ('theatr', 359): 1407, ('disgust', 358): 1408, ('paid', 358): 1409, ('funniest', 358): 1410, ('pilot', 358): 1411, ('castl', 357): 1412, ('convers', 357): 1413, ('trick', 357): 1414, ('fell', 357): 1415, ('gangster', 356): 1416, ('disast', 356): 1417, ('rob', 356): 1418, ('establish', 356): 1419, ('heaven', 355): 1420, ('ident', 355): 1421, ('disappear', 355): 1422, ('suicid', 355): 1423, ('mine', 355): 1424, ('decis', 353): 1425, ('heroin', 353): 1426, ('singer', 353): 1427, ('mask', 353): 1428, ('tend', 353): 1429, ('forgotten', 353): 1430, ('partner', 352): 1431, ('brian', 352): 1432, ('alan', 351): 1433, ('recogn', 351): 1434, ('desert', 351): 1435, ('thoroughli', 350): 1436, ('ms', 350): 1437, ('stuck', 350): 1438, ('p', 350): 1439, ('sky', 350): 1440, ('replac', 349): 1441, ('accur', 349): 1442, ('market', 348): 1443, ('uncl', 347): 1444, ('andi', 347): 1445, ('commentari', 347): 1446, ('seemingli', 347): 1447, ('danni', 347): 1448, ('clue', 347): 1449, ('eddi', 347): 1450, ('devil', 346): 1451, ('jackson', 346): 1452, ('pair', 345): 1453, ('refus', 345): 1454, ('that', 345): 1455, ('therefor', 345): 1456, ('unit', 344): 1457, ('river', 344): 1458, ('ed', 344): 1459, ('fault', 344): 1460, ('fate', 344): 1461, ('accid', 344): 1462, ('tune', 343): 1463, ('afraid', 343): 1464, ('russian', 342): 1465, ('clean', 342): 1466, ('stephen', 342): 1467, ('hidden', 342): 1468, ('convey', 341): 1469, ('readi', 341): 1470, ('test', 341): 1471, ('captain', 341): 1472, ('quick', 341): 1473, ('instanc', 341): 1474, ('irrit', 341): 1475, ('european', 340): 1476, ('insan', 339): 1477, ('daniel', 339): 1478, ('frustrat', 339): 1479, ('1950', 338): 1480, ('food', 338): 1481, ('wed', 338): 1482, ('chines', 338): 1483, ('rescu', 338): 1484, ('lock', 337): 1485, ('dirti', 337): 1486, ('angri', 337): 1487, ('joy', 336): 1488, ('price', 335): 1489, ('steven', 335): 1490, ('cage', 334): 1491, ('bland', 334): 1492, ('anymor', 333): 1493, ('rang', 333): 1494, ('wooden', 332): 1495, ('rush', 331): 1496, ('news', 331): 1497, ('n', 331): 1498, ('jason', 331): 1499, ('twenti', 330): 1500, ('board', 330): 1501, ('led', 330): 1502, ('worri', 330): 1503, ('12', 330): 1504, ('martial', 330): 1505, ('symbol', 329): 1506, ('transform', 329): 1507, ('cgi', 329): 1508, ('hunter', 329): 1509, ('sentiment', 328): 1510, ('invent', 328): 1511, ('piti', 328): 1512, ('johnni', 328): 1513, ('onto', 328): 1514, ('x', 328): 1515, ('explan', 327): 1516, ('process', 327): 1517, ('attitud', 327): 1518, ('owner', 326): 1519, ('awar', 326): 1520, ('aim', 325): 1521, ('target', 324): 1522, ('energi', 324): 1523, ('necessari', 324): 1524, ('floor', 324): 1525, ('favor', 324): 1526, ('opposit', 323): 1527, ('religi', 323): 1528, ('window', 322): 1529, ('insight', 322): 1530, ('blind', 322): 1531, ('chick', 322): 1532, ('movement', 321): 1533, ('mountain', 320): 1534, ('comparison', 320): 1535, ('deepli', 320): 1536, ('research', 320): 1537, ('possess', 320): 1538, ('rain', 319): 1539, ('whatsoev', 319): 1540, ('comed', 319): 1541, ('grand', 319): 1542, ('shadow', 318): 1543, ('mid', 318): 1544, ('bank', 318): 1545, ('began', 318): 1546, ('parodi', 317): 1547, ('princ', 317): 1548, ('friendship', 316): 1549, ('credibl', 316): 1550, ('pre', 316): 1551, ('weapon', 316): 1552, ('taylor', 316): 1553, ('flesh', 315): 1554, ('dougla', 315): 1555, ('teach', 315): 1556, ('terror', 314): 1557, ('hint', 314): 1558, ('bloodi', 314): 1559, ('protect', 314): 1560, ('marvel', 312): 1561, ('leader', 311): 1562, ('anybodi', 311): 1563, ('watchabl', 311): 1564, ('load', 311): 1565, ('accord', 311): 1566, ('drunk', 311): 1567, ('superman', 311): 1568, ('brown', 310): 1569, ('freddi', 310): 1570, ('jeff', 309): 1571, ('tim', 309): 1572, ('hitler', 309): 1573, ('seat', 309): 1574, ('appropri', 309): 1575, ('charg', 308): 1576, ('unknown', 308): 1577, ('villag', 308): 1578, ('knock', 308): 1579, ('keaton', 308): 1580, ('enemi', 307): 1581, ('england', 307): 1582, ('empti', 307): 1583, ('media', 307): 1584, ('unnecessari', 307): 1585, ('wave', 306): 1586, ('craft', 306): 1587, ('utter', 306): 1588, ('buck', 306): 1589, ('perspect', 306): 1590, ('strength', 306): 1591, ('dare', 306): 1592, ('ford', 305): 1593, ('kiss', 305): 1594, ('nativ', 305): 1595, ('correct', 305): 1596, ('contrast', 305): 1597, ('magnific', 304): 1598, ('speed', 304): 1599, ('knowledg', 304): 1600, ('chill', 304): 1601, ('distract', 304): 1602, ('nazi', 304): 1603, ('anywher', 304): 1604, ('soap', 304): 1605, ('1980', 303): 1606, ('ice', 303): 1607, ('fred', 303): 1608, ('breath', 303): 1609, ('mission', 303): 1610, ('crowd', 302): 1611, ('jr', 302): 1612, ('joan', 302): 1613, ('moon', 302): 1614, ('soft', 301): 1615, ('kate', 301): 1616, ('frighten', 301): 1617, ('000', 301): 1618, ('nick', 300): 1619, ('hundr', 300): 1620, ('dick', 300): 1621, ('dan', 300): 1622, ('dozen', 299): 1623, ('radio', 299): 1624, ('somebodi', 299): 1625, ('simon', 299): 1626, ('shakespear', 298): 1627, ('academi', 298): 1628, ('loss', 298): 1629, ('thousand', 298): 1630, ('andrew', 298): 1631, ('quot', 297): 1632, ('root', 297): 1633, ('sum', 297): 1634, ('vehicl', 297): 1635, ('account', 297): 1636, ('1970', 296): 1637, ('leg', 296): 1638, ('convent', 296): 1639, ('behavior', 296): 1640, ('regular', 295): 1641, ('gold', 295): 1642, ('compet', 294): 1643, ('pretenti', 294): 1644, ('worker', 294): 1645, ('demand', 294): 1646, ('japan', 293): 1647, ('stretch', 293): 1648, ('notabl', 293): 1649, ('privat', 293): 1650, ('interpret', 293): 1651, ('lynch', 293): 1652, ('explos', 293): 1653, ('candi', 293): 1654, ('debut', 292): 1655, ('constant', 292): 1656, ('tarzan', 292): 1657, ('revolv', 291): 1658, ('translat', 291): 1659, ('prais', 291): 1660, ('sea', 291): 1661, ('spi', 291): 1662, ('quiet', 290): 1663, ('jesu', 290): 1664, ('sat', 290): 1665, ('failur', 290): 1666, ('technolog', 290): 1667, ('threaten', 290): 1668, ('franc', 290): 1669, ('ass', 290): 1670, ('toy', 289): 1671, ('aid', 289): 1672, ('met', 289): 1673, ('higher', 289): 1674, ('punch', 289): 1675, ('kevin', 289): 1676, ('abandon', 288): 1677, ('interact', 288): 1678, ('vh', 288): 1679, ('mike', 288): 1680, ('separ', 287): 1681, ('bet', 287): 1682, ('command', 287): 1683, ('confront', 287): 1684, ('servic', 286): 1685, ('techniqu', 286): 1686, ('belong', 286): 1687, ('recal', 286): 1688, ('stunt', 286): 1689, ('gotten', 286): 1690, ('site', 286): 1691, ('foot', 285): 1692, ('freak', 285): 1693, ('cabl', 285): 1694, ('bug', 285): 1695, ('african', 284): 1696, ('capabl', 284): 1697, ('jimmi', 284): 1698, ('fu', 284): 1699, ('bright', 284): 1700, ('presid', 283): 1701, ('fat', 283): 1702, ('succeed', 283): 1703, ('clark', 283): 1704, ('stock', 283): 1705, ('boat', 283): 1706, ('gene', 282): 1707, ('spanish', 282): 1708, ('structur', 282): 1709, ('kidnap', 281): 1710, ('paper', 281): 1711, ('whilst', 280): 1712, ('belief', 280): 1713, ('factor', 280): 1714, ('realism', 279): 1715, ('realis', 279): 1716, ('attend', 279): 1717, ('complic', 279): 1718, ('educ', 279): 1719, ('witti', 279): 1720, ('tree', 279): 1721, ('bob', 279): 1722, ('finest', 278): 1723, ('broken', 278): 1724, ('santa', 278): 1725, ('assist', 278): 1726, ('up', 277): 1727, ('depart', 277): 1728, ('smoke', 277): 1729, ('v', 277): 1730, ('observ', 277): 1731, ('determin', 277): 1732, ('domin', 276): 1733, ('routin', 276): 1734, ('lewi', 276): 1735, ('rubbish', 276): 1736, ('fame', 276): 1737, ('hat', 276): 1738, ('oper', 276): 1739, ('safe', 275): 1740, ('foreign', 275): 1741, ('advanc', 275): 1742, ('morgan', 275): 1743, ('kinda', 275): 1744, ('hook', 275): 1745, ('lone', 275): 1746, ('rank', 274): 1747, ('numer', 274): 1748, ('civil', 273): 1749, ('vs', 273): 1750, ('shape', 273): 1751, ('shallow', 273): 1752, ('rose', 273): 1753, ('werewolf', 273): 1754, ('washington', 273): 1755, ('gari', 272): 1756, ('morn', 272): 1757, ('winner', 271): 1758, ('ordinari', 271): 1759, ('accomplish', 271): 1760, ('kong', 271): 1761, ('whenev', 270): 1762, ('virtual', 270): 1763, ('grab', 270): 1764, ('peac', 270): 1765, ('h', 269): 1766, ('luck', 269): 1767, ('offens', 269): 1768, ('welcom', 268): 1769, ('patient', 268): 1770, ('complain', 268): 1771, ('activ', 268): 1772, ('bigger', 268): 1773, ('unfunni', 268): 1774, ('contriv', 268): 1775, ('con', 267): 1776, ('trek', 267): 1777, ('pretend', 267): 1778, ('dimension', 267): 1779, ('lesbian', 266): 1780, ('flash', 266): 1781, ('wake', 266): 1782, ('dri', 266): 1783, ('cain', 266): 1784, ('eric', 266): 1785, ('code', 266): 1786, ('albert', 265): 1787, ('manipul', 265): 1788, ('guard', 265): 1789, ('corrupt', 265): 1790, ('statu', 265): 1791, ('dancer', 265): 1792, ('speech', 264): 1793, ('gain', 264): 1794, ('awkward', 264): 1795, ('sourc', 264): 1796, ('signific', 264): 1797, ('context', 264): 1798, ('clip', 263): 1799, ('corni', 263): 1800, ('psycho', 263): 1801, ('13', 263): 1802, ('sean', 263): 1803, ('anthoni', 263): 1804, ('priest', 262): 1805, ('theatric', 262): 1806, ('religion', 262): 1807, ('advic', 262): 1808, ('curiou', 262): 1809, ('reli', 262): 1810, ('w', 262): 1811, ('addict', 261): 1812, ('flow', 261): 1813, ('secur', 260): 1814, ('skin', 260): 1815, ('jennif', 260): 1816, ('specif', 260): 1817, ('asian', 260): 1818, ('howard', 260): 1819, ('golden', 259): 1820, ('organ', 259): 1821, ('promot', 259): 1822, ('comfort', 259): 1823, ('luke', 259): 1824, ('core', 259): 1825, ('cheat', 258): 1826, ('cash', 258): 1827, ('lucki', 258): 1828, ('lower', 257): 1829, ('dislik', 257): 1830, ('associ', 257): 1831, ('spell', 256): 1832, ('wing', 256): 1833, ('balanc', 256): 1834, ('frankli', 256): 1835, ('contribut', 256): 1836, ('devic', 256): 1837, ('regret', 256): 1838, ('degre', 256): 1839, ('frequent', 256): 1840, ('forgiv', 255): 1841, ('print', 255): 1842, ('lake', 255): 1843, ('sake', 255): 1844, ('betti', 254): 1845, ('thoma', 254): 1846, ('mass', 254): 1847, ('unexpect', 253): 1848, ('gordon', 253): 1849, ('crack', 253): 1850, ('depend', 252): 1851, ('invit', 252): 1852, ('grown', 252): 1853, ('amateur', 252): 1854, ('categori', 252): 1855, ('construct', 252): 1856, ('unfold', 252): 1857, ('matur', 251): 1858, ('grew', 251): 1859, ('condit', 251): 1860, ('anna', 251): 1861, ('walter', 251): 1862, ('intellectu', 251): 1863, ('honor', 251): 1864, ('sole', 250): 1865, ('spectacular', 250): 1866, ('veteran', 250): 1867, ('mirror', 250): 1868, ('sudden', 250): 1869, ('demonstr', 249): 1870, ('overli', 249): 1871, ('robin', 249): 1872, ('grip', 249): 1873, ('gift', 249): 1874, ('meanwhil', 249): 1875, ('freedom', 249): 1876, ('experienc', 249): 1877, ('liner', 249): 1878, ('card', 249): 1879, ('oliv', 248): 1880, ('brilliantli', 248): 1881, ('sheriff', 248): 1882, ('circumst', 248): 1883, ('crappi', 248): 1884, ('subtitl', 248): 1885, ('drew', 248): 1886, ('unabl', 248): 1887, ('colour', 248): 1888, ('theori', 248): 1889, ('section', 248): 1890, ('cook', 247): 1891, ('path', 247): 1892, ('sheer', 247): 1893, ('pile', 247): 1894, ('parker', 247): 1895, ('altern', 247): 1896, ('laughter', 247): 1897, ('matt', 247): 1898, ('accident', 246): 1899, ('wander', 246): 1900, ('sinatra', 246): 1901, ('defin', 246): 1902, ('treatment', 246): 1903, ('relief', 246): 1904, ('lawyer', 246): 1905, ('hall', 246): 1906, ('hank', 245): 1907, ('captiv', 245): 1908, ('dragon', 245): 1909, ('halloween', 244): 1910, ('gratuit', 244): 1911, ('moor', 244): 1912, ('cowboy', 243): 1913, ('k', 243): 1914, ('kung', 243): 1915, ('jacki', 243): 1916, ('wound', 243): 1917, ('barbara', 243): 1918, ('unintent', 243): 1919, ('wayn', 243): 1920, ('broadway', 243): 1921, ('statement', 242): 1922, ('winter', 242): 1923, ('surreal', 242): 1924, ('canadian', 242): 1925, ('spoof', 242): 1926, ('gonna', 241): 1927, ('compos', 241): 1928, ('cheer', 241): 1929, ('treasur', 241): 1930, ('fare', 241): 1931, ('fish', 241): 1932, ('victor', 240): 1933, ('unrealist', 240): 1934, ('emerg', 240): 1935, ('woodi', 240): 1936, ('sensit', 240): 1937, ('ran', 239): 1938, ('neighbor', 239): 1939, ('sympathet', 239): 1940, ('driven', 239): 1941, ('topic', 238): 1942, ('menac', 238): 1943, ('expos', 238): 1944, ('authent', 238): 1945, ('overlook', 238): 1946, ('glass', 238): 1947, ('michel', 237): 1948, ('chief', 237): 1949, ('handsom', 237): 1950, ('ancient', 237): 1951, ('gross', 237): 1952, ('feet', 236): 1953, ('network', 236): 1954, ('pleasant', 236): 1955, ('comedian', 236): 1956, ('russel', 236): 1957, ('contemporari', 236): 1958, ('nevertheless', 236): 1959, ('built', 236): 1960, ('cinderella', 236): 1961, ('stranger', 236): 1962, ('miser', 235): 1963, ('consider', 235): 1964, ('underr', 235): 1965, ('blockbust', 235): 1966, ('letter', 235): 1967, ('endless', 235): 1968, ('gori', 235): 1969, ('earn', 235): 1970, ('switch', 234): 1971, ('solv', 234): 1972, ('brook', 234): 1973, ('joseph', 233): 1974, ('bullet', 233): 1975, ('edward', 233): 1976, ('convict', 233): 1977, ('virgin', 233): 1978, ('victoria', 233): 1979, ('chosen', 232): 1980, ('scale', 232): 1981, ('scenario', 232): 1982, ('cynic', 232): 1983, ('alex', 232): 1984, ('0', 232): 1985, ('outrag', 231): 1986, ('sword', 231): 1987, ('com', 231): 1988, ('curs', 231): 1989, ('gut', 231): 1990, ('wrap', 230): 1991, ('monkey', 230): 1992, ('uk', 230): 1993, ('driver', 230): 1994, ('substanc', 230): 1995, ('proper', 230): 1996, ('screenwrit', 230): 1997, ('juli', 230): 1998, ('par', 229): 1999, ('indic', 229): 2000, ('remov', 229): 2001, ('court', 229): 2002, ('bird', 229): 2003, ('nanci', 228): 2004, ('naiv', 228): 2005, ('grave', 228): 2006, ('loser', 228): 2007, ('rental', 228): 2008, ('inevit', 228): 2009, ('roy', 228): 2010, ('advertis', 228): 2011, ('consequ', 228): 2012, ('le', 227): 2013, ('brave', 227): 2014, ('bridg', 227): 2015, ('germani', 227): 2016, ('invis', 227): 2017, ('fatal', 227): 2018, ('slap', 227): 2019, ('anger', 226): 2020, ('provok', 226): 2021, ('footbal', 226): 2022, ('ador', 226): 2023, ('loui', 226): 2024, ('anderson', 225): 2025, ('chan', 225): 2026, ('alcohol', 225): 2027, ('willi', 224): 2028, ('ryan', 224): 2029, ('stumbl', 224): 2030, ('professor', 224): 2031, ('assassin', 223): 2032, ('bat', 223): 2033, ('1930', 223): 2034, ('australian', 223): 2035, ('sharp', 223): 2036, ('patrick', 223): 2037, ('cell', 222): 2038, ('refresh', 222): 2039, ('heck', 222): 2040, ('liber', 222): 2041, ('trilog', 222): 2042, ('amateurish', 222): 2043, ('lousi', 222): 2044, ('strongli', 222): 2045, ('ape', 222): 2046, ('eight', 222): 2047, ('saturday', 222): 2048, ('deni', 222): 2049, ('sin', 221): 2050, ('vagu', 220): 2051, ('resid', 220): 2052, ('san', 220): 2053, ('justifi', 220): 2054, ('defeat', 219): 2055, ('mini', 219): 2056, ('terrifi', 219): 2057, ('indi', 219): 2058, ('reput', 219): 2059, ('creator', 219): 2060, ('sympathi', 219): 2061, ('expert', 218): 2062, ('tediou', 218): 2063, ('prevent', 218): 2064, ('tabl', 218): 2065, ('task', 218): 2066, ('endur', 218): 2067, ('employ', 217): 2068, ('trial', 217): 2069, ('imit', 217): 2070, ('che', 217): 2071, ('basebal', 217): 2072, ('rival', 217): 2073, ('offend', 217): 2074, ('dig', 216): 2075, ('pitch', 216): 2076, ('europ', 216): 2077, ('max', 216): 2078, ('fairi', 216): 2079, ('complaint', 216): 2080, ('beach', 216): 2081, ('weekend', 216): 2082, ('format', 215): 2083, ('purchas', 215): 2084, ('murphi', 215): 2085, ('risk', 215): 2086, ('reminisc', 214): 2087, ('glimps', 214): 2088, ('titan', 214): 2089, ('nois', 214): 2090, ('bite', 214): 2091, ('tini', 214): 2092, ('hype', 214): 2093, ('harsh', 214): 2094, ('powel', 214): 2095, ('asleep', 213): 2096, ('north', 213): 2097, ('14', 213): 2098, ('fals', 213): 2099, ('strip', 213): 2100, ('prime', 213): 2101, ('till', 213): 2102, ('descript', 212): 2103, ('destruct', 212): 2104, ('texa', 212): 2105, ('revel', 212): 2106, ('africa', 212): 2107, ('semi', 211): 2108, ('surfac', 211): 2109, ('spin', 211): 2110, ('excess', 211): 2111, ('arrest', 211): 2112, ('inner', 211): 2113, ('uninterest', 211): 2114, ('sitcom', 211): 2115, ('argu', 210): 2116, ('maintain', 210): 2117, ('twin', 210): 2118, ('massiv', 210): 2119, ('controversi', 210): 2120, ('hitchcock', 210): 2121, ('dinosaur', 210): 2122, ('makeup', 210): 2123, ('insist', 209): 2124, ('stare', 209): 2125, ('expens', 209): 2126, ('ideal', 209): 2127, ('melodrama', 209): 2128, ('ludicr', 209): 2129, ('kim', 209): 2130, ('reject', 209): 2131, ('nail', 208): 2132, ('erot', 208): 2133, ('subplot', 208): 2134, ('host', 208): 2135, ('forest', 208): 2136, ('press', 208): 2137, ('atroci', 208): 2138, ('columbo', 208): 2139, ('ala', 208): 2140, ('supernatur', 208): 2141, ('ga', 208): 2142, ('notch', 207): 2143, ('cant', 207): 2144, ('dude', 207): 2145, ('presum', 207): 2146, ('identifi', 207): 2147, ('character', 206): 2148, ('guest', 206): 2149, ('plagu', 206): 2150, ('forgett', 206): 2151, ('method', 206): 2152, ('closer', 206): 2153, ('crude', 206): 2154, ('border', 205): 2155, ('landscap', 205): 2156, ('princess', 205): 2157, ('ear', 205): 2158, ('foster', 205): 2159, ('lion', 205): 2160, ('beast', 205): 2161, ('birth', 204): 2162, ('urban', 204): 2163, ('aunt', 204): 2164, ('previous', 204): 2165, ('damag', 204): 2166, ('jungl', 204): 2167, ('storytel', 204): 2168, ('accus', 204): 2169, ('bound', 204): 2170, ('pacino', 204): 2171, ('guid', 203): 2172, ('nude', 203): 2173, ('chose', 203): 2174, ('thirti', 203): 2175, ('jess', 203): 2176, ('doll', 203): 2177, ('emma', 203): 2178, ('propaganda', 203): 2179, ('mate', 202): 2180, ('mainstream', 202): 2181, ('warrior', 202): 2182, ('25', 202): 2183, ('whoever', 202): 2184, ('pet', 202): 2185, ('latest', 201): 2186, ('merit', 201): 2187, ('friday', 201): 2188, ('cooper', 201): 2189, ('upset', 201): 2190, ('gritti', 201): 2191, ('exact', 201): 2192, ('size', 201): 2193, ('deadli', 201): 2194, ('poster', 201): 2195, ('settl', 200): 2196, ('contact', 200): 2197, ('popul', 200): 2198, ('1990', 200): 2199, ('sun', 200): 2200, ('contest', 200): 2201, ('rough', 200): 2202, ('buff', 200): 2203, ('ton', 200): 2204, ('citizen', 200): 2205, ('blend', 200): 2206, ('warner', 200): 2207, ('corps', 200): 2208, ('wilson', 200): 2209, ('pitt', 199): 2210, ('widow', 199): 2211, ('metal', 199): 2212, ('overcom', 199): 2213, ('alic', 199): 2214, ('environ', 199): 2215, ('select', 199): 2216, ('mgm', 199): 2217, ('rat', 199): 2218, ('bu', 199): 2219, ('link', 198): 2220, ('ted', 198): 2221, ('particip', 198): 2222, ('guilti', 198): 2223, ('revolut', 198): 2224, ('lift', 198): 2225, ('afternoon', 197): 2226, ('accompani', 197): 2227, ('corpor', 197): 2228, ('matrix', 197): 2229, ('corner', 197): 2230, ('prostitut', 197): 2231, ('exagger', 197): 2232, ('moron', 197): 2233, ('1960', 197): 2234, ('johnson', 197): 2235, ('hood', 196): 2236, ('friendli', 196): 2237, ('doom', 196): 2238, ('instal', 196): 2239, ('sincer', 196): 2240, ('clair', 196): 2241, ('leagu', 196): 2242, ('multipl', 196): 2243, ('holm', 196): 2244, ('advis', 195): 2245, ('sunday', 195): 2246, ('string', 195): 2247, ('defend', 195): 2248, ('campi', 195): 2249, ('lugosi', 195): 2250, ('hip', 195): 2251, ('grim', 195): 2252, ('aka', 195): 2253, ('irish', 195): 2254, ('junk', 195): 2255, ('blah', 195): 2256, ('examin', 195): 2257, ('shut', 194): 2258, ('shake', 194): 2259, ('icon', 194): 2260, ('varieti', 194): 2261, ('rachel', 194): 2262, ('tight', 194): 2263, ('pro', 194): 2264, ('confid', 194): 2265, ('denni', 193): 2266, ('jaw', 193): 2267, ('directli', 193): 2268, ('medic', 193): 2269, ('sullivan', 193): 2270, ('attach', 193): 2271, ('mexican', 193): 2272, ('goal', 193): 2273, ('prior', 192): 2274, ('dean', 192): 2275, ('vietnam', 192): 2276, ('terrorist', 192): 2277, ('duke', 192): 2278, ('breast', 192): 2279, ('sentenc', 192): 2280, ('courag', 192): 2281, ('sarah', 192): 2282, ('truck', 192): 2283, ('legendari', 192): 2284, ('bourn', 192): 2285, ('nose', 191): 2286, ('behav', 191): 2287, ('un', 191): 2288, ('split', 191): 2289, ('donald', 191): 2290, ('yell', 191): 2291, ('entri', 191): 2292, ('hong', 191): 2293, ('proceed', 191): 2294, ('confess', 190): 2295, ('gather', 190): 2296, ('crush', 190): 2297, ('everywher', 190): 2298, ('lifetim', 190): 2299, ('borrow', 190): 2300, ('buri', 190): 2301, ('unconvinc', 190): 2302, ('jerk', 190): 2303, ('stolen', 190): 2304, ('concentr', 190): 2305, ('forth', 190): 2306, ('swim', 190): 2307, ('spite', 189): 2308, ('turkey', 189): 2309, ('deliveri', 189): 2310, ('california', 189): 2311, ('pan', 189): 2312, ('lip', 189): 2313, ('julia', 189): 2314, ('quest', 188): 2315, ('reward', 188): 2316, ('proud', 188): 2317, ('china', 188): 2318, ('flight', 188): 2319, ('downright', 188): 2320, ('offici', 188): 2321, ('freeman', 188): 2322, ('hoffman', 188): 2323, ('lazi', 187): 2324, ('inept', 187): 2325, ('encourag', 187): 2326, ('notori', 187): 2327, ('betray', 187): 2328, ('sir', 187): 2329, ('fabul', 187): 2330, ('worthwhil', 187): 2331, ('fade', 187): 2332, ('jon', 187): 2333, ('jail', 187): 2334, ('sink', 187): 2335, ('bag', 186): 2336, ('bell', 186): 2337, ('relev', 186): 2338, ('branagh', 186): 2339, ('storm', 186): 2340, ('teeth', 186): 2341, ('imageri', 186): 2342, ('cousin', 186): 2343, ('susan', 186): 2344, ('retard', 186): 2345, ('lisa', 186): 2346, ('shower', 186): 2347, ('survivor', 186): 2348, ('bride', 185): 2349, ('alright', 185): 2350, ('finger', 185): 2351, ('quirki', 185): 2352, ('tremend', 185): 2353, ('summari', 185): 2354, ('stab', 185): 2355, ('mexico', 185): 2356, ('shark', 185): 2357, ('toler', 185): 2358, ('facial', 185): 2359, ('hugh', 185): 2360, ('trade', 185): 2361, ('blown', 184): 2362, ('bitter', 184): 2363, ('ha', 184): 2364, ('von', 184): 2365, ('hyster', 184): 2366, ('pose', 184): 2367, ('ron', 183): 2368, ('address', 183): 2369, ('bone', 183): 2370, ('christ', 183): 2371, ('cruel', 183): 2372, ('afterward', 183): 2373, ('larri', 183): 2374, ('scheme', 183): 2375, ('ned', 183): 2376, ('distinct', 182): 2377, ('screw', 182): 2378, ('swear', 182): 2379, ('beg', 182): 2380, ('thumb', 182): 2381, ('tour', 182): 2382, ('pursu', 182): 2383, ('feed', 182): 2384, ('traci', 182): 2385, ('snake', 182): 2386, ('occas', 181): 2387, ('stomach', 181): 2388, ('chair', 181): 2389, ('mechan', 181): 2390, ('obscur', 181): 2391, ('raw', 181): 2392, ('photo', 181): 2393, ('argument', 180): 2394, ('holiday', 180): 2395, ('render', 180): 2396, ('gruesom', 180): 2397, ('resist', 180): 2398, ('chain', 180): 2399, ('necessarili', 180): 2400, ('heavili', 180): 2401, ('cabin', 180): 2402, ('southern', 180): 2403, ('sidney', 180): 2404, ('hardi', 180): 2405, ('india', 179): 2406, ('satan', 179): 2407, ('indulg', 179): 2408, ('racist', 179): 2409, ('understood', 179): 2410, ('philip', 179): 2411, ('forgot', 178): 2412, ('belov', 178): 2413, ('outfit', 178): 2414, ('midnight', 178): 2415, ('integr', 178): 2416, ('stalk', 178): 2417, ('tongu', 178): 2418, ('fourth', 178): 2419, ('pregnant', 178): 2420, ('lay', 178): 2421, ('obnoxi', 178): 2422, ('carol', 177): 2423, ('inhabit', 177): 2424, ('slapstick', 177): 2425, ('deeper', 177): 2426, ('garden', 177): 2427, ('ticket', 177): 2428, ('17', 177): 2429, ('magazin', 177): 2430, ('restor', 177): 2431, ('incid', 176): 2432, ('brad', 176): 2433, ('devot', 176): 2434, ('shoe', 176): 2435, ('lincoln', 176): 2436, ('lili', 175): 2437, ('underground', 175): 2438, ('divorc', 175): 2439, ('elizabeth', 175): 2440, ('benefit', 175): 2441, ('disbelief', 175): 2442, ('guarante', 175): 2443, ('sandler', 175): 2444, ('anticip', 175): 2445, ('maria', 175): 2446, ('bbc', 174): 2447, ('greater', 174): 2448, ('cring', 174): 2449, ('amazingli', 174): 2450, ('princip', 174): 2451, ('capit', 174): 2452, ('explod', 174): 2453, ('mildli', 174): 2454, ('slave', 174): 2455, ('creation', 174): 2456, ('lesli', 173): 2457, ('introduct', 173): 2458, ('funnier', 173): 2459, ('halfway', 173): 2460, ('extraordinari', 173): 2461, ('advantag', 172): 2462, ('tap', 172): 2463, ('punish', 172): 2464, ('transfer', 172): 2465, ('extent', 172): 2466, ('overwhelm', 172): 2467, ('wreck', 172): 2468, ('enhanc', 172): 2469, ('text', 172): 2470, ('jessica', 171): 2471, ('east', 171): 2472, ('deliber', 171): 2473, ('plant', 171): 2474, ('preview', 171): 2475, ('lane', 171): 2476, ('horrif', 171): 2477, ('error', 171): 2478, ('lo', 171): 2479, ('dynam', 171): 2480, ('appli', 170): 2481, ('basi', 170): 2482, ('ensu', 170): 2483, ('sophist', 170): 2484, ('homosexu', 170): 2485, ('2000', 170): 2486, ('miller', 170): 2487, ('miscast', 170): 2488, ('vincent', 170): 2489, ('vacat', 170): 2490, ('reed', 169): 2491, ('via', 169): 2492, ('spoken', 169): 2493, ('steel', 169): 2494, ('sleazi', 169): 2495, ('extend', 169): 2496, ('elev', 169): 2497, ('measur', 169): 2498, ('uncomfort', 169): 2499, ('bollywood', 169): 2500, ('mansion', 169): 2501, ('stanley', 168): 2502, ('goofi', 168): 2503, ('dentist', 168): 2504, ('mous', 168): 2505, ('melt', 168): 2506, ('blair', 168): 2507, ('overact', 168): 2508, ('assign', 168): 2509, ('daili', 168): 2510, ('alter', 168): 2511, ('breathtak', 168): 2512, ('savag', 168): 2513, ('conceiv', 168): 2514, ('hippi', 168): 2515, ('beer', 168): 2516, ('cathol', 168): 2517, ('fix', 168): 2518, ('sacrific', 167): 2519, ('nowaday', 167): 2520, ('oppos', 167): 2521, ('carpent', 167): 2522, ('subsequ', 167): 2523, ('burt', 167): 2524, ('succe', 167): 2525, ('everyday', 167): 2526, ('inspector', 167): 2527, ('properli', 167): 2528, ('laura', 166): 2529, ('block', 166): 2530, ('massacr', 166): 2531, ('circl', 166): 2532, ('neck', 166): 2533, ('pool', 165): 2534, ('christi', 165): 2535, ('portrait', 165): 2536, ('lesser', 165): 2537, ('concert', 165): 2538, ('fay', 165): 2539, ('fallen', 165): 2540, ('access', 165): 2541, ('seagal', 165): 2542, ('mob', 165): 2543, ('grey', 165): 2544, ('isol', 164): 2545, ('competit', 164): 2546, ('sinist', 164): 2547, ('jewish', 164): 2548, ('chees', 164): 2549, ('usa', 164): 2550, ('jake', 164): 2551, ('react', 164): 2552, ('relax', 164): 2553, ('immens', 163): 2554, ('creep', 163): 2555, ('suitabl', 163): 2556, ('nine', 163): 2557, ('stink', 163): 2558, ('nonetheless', 163): 2559, ('appal', 163): 2560, ('spiritu', 163): 2561, ('ironi', 163): 2562, ('chop', 163): 2563, ('2006', 163): 2564, ('lyric', 163): 2565, ('user', 162): 2566, ('sold', 162): 2567, ('reduc', 162): 2568, ('spring', 162): 2569, ('shirt', 162): 2570, ('needless', 162): 2571, ('rage', 162): 2572, ('luci', 162): 2573, ('franchis', 162): 2574, ('nut', 162): 2575, ('showcas', 162): 2576, ('adopt', 162): 2577, ('navi', 162): 2578, ('retir', 162): 2579, ('asham', 161): 2580, ('zone', 161): 2581, ('per', 161): 2582, ('uninspir', 161): 2583, ('bath', 161): 2584, ('bulli', 161): 2585, ('nurs', 161): 2586, ('digit', 161): 2587, ('stanwyck', 161): 2588, ('jay', 161): 2589, ('1940', 160): 2590, ('upper', 160): 2591, ('broadcast', 160): 2592, ('2001', 160): 2593, ('oddli', 160): 2594, ('amongst', 160): 2595, ('sutherland', 160): 2596, ('laid', 160): 2597, ('illustr', 160): 2598, ('baker', 159): 2599, ('fulfil', 159): 2600, ('aspir', 159): 2601, ('brando', 159): 2602, ('disguis', 159): 2603, ('throat', 159): 2604, ('stylish', 159): 2605, ('thief', 158): 2606, ('neighborhood', 158): 2607, ('pride', 158): 2608, ('pound', 158): 2609, ('impli', 158): 2610, ('endear', 158): 2611, ('nobl', 158): 2612, ('em', 158): 2613, ('wanna', 158): 2614, ('wwii', 158): 2615, ('18', 158): 2616, ('dawn', 157): 2617, ('16', 157): 2618, ('dinner', 157): 2619, ('shift', 157): 2620, ('albeit', 157): 2621, ('coher', 157): 2622, ('bo', 157): 2623, ('distribut', 157): 2624, ('prop', 157): 2625, ('bett', 157): 2626, ('rochest', 157): 2627, ('cinematograph', 157): 2628, ('tens', 157): 2629, ('shoulder', 157): 2630, ('diseas', 157): 2631, ('silenc', 156): 2632, ('snow', 156): 2633, ('poignant', 156): 2634, ('contract', 156): 2635, ('wash', 156): 2636, ('rebel', 156): 2637, ('shout', 156): 2638, ('function', 156): 2639, ('surf', 156): 2640, ('knife', 156): 2641, ('forti', 156): 2642, ('matthau', 156): 2643, ('eeri', 155): 2644, ('duti', 155): 2645, ('henc', 155): 2646, ('instinct', 155): 2647, ('mindless', 155): 2648, ('cannib', 155): 2649, ('internet', 155): 2650, ('reunion', 155): 2651, ('heat', 155): 2652, ('widmark', 155): 2653, ('cancel', 155): 2654, ('proof', 155): 2655, ('height', 155): 2656, ('derek', 155): 2657, ('elvira', 155): 2658, ('chuck', 155): 2659, ('horrend', 155): 2660, ('silver', 155): 2661, ('innov', 154): 2662, ('alik', 154): 2663, ('glori', 154): 2664, ('absorb', 154): 2665, ('torn', 154): 2666, ('elvi', 154): 2667, ('mill', 154): 2668, ('incoher', 154): 2669, ('pie', 154): 2670, ('repetit', 154): 2671, ('etern', 154): 2672, ('premier', 154): 2673, ('musician', 154): 2674, ('neat', 154): 2675, ('greatli', 154): 2676, ('spielberg', 154): 2677, ('precis', 153): 2678, ('redempt', 153): 2679, ('racism', 153): 2680, ('bang', 153): 2681, ('wealthi', 153): 2682, ('announc', 153): 2683, ('nelson', 153): 2684, ('lovabl', 153): 2685, ('diamond', 153): 2686, ('crisi', 153): 2687, ('blank', 153): 2688, ('fbi', 153): 2689, ('trite', 153): 2690, ('burton', 153): 2691, ('itali', 153): 2692, ('horrifi', 153): 2693, ('britain', 153): 2694, ('homag', 153): 2695, ('infam', 153): 2696, ('parallel', 152): 2697, ('resolut', 152): 2698, ('ensembl', 152): 2699, ('chaplin', 152): 2700, ('pat', 152): 2701, ('happili', 152): 2702, ('flop', 152): 2703, ('dedic', 152): 2704, ('streisand', 152): 2705, ('hammer', 152): 2706, ('wilder', 152): 2707, ('helen', 152): 2708, ('plastic', 151): 2709, ('carter', 151): 2710, ('broke', 151): 2711, ('disagre', 151): 2712, ('mar', 151): 2713, ('triumph', 151): 2714, ('st', 151): 2715, ('oil', 151): 2716, ('cube', 151): 2717, ('conclud', 151): 2718, ('factori', 151): 2719, ('vega', 150): 2720, ('fighter', 150): 2721, ('chuckl', 150): 2722, ('weight', 150): 2723, ('own', 150): 2724, ('row', 150): 2725, ('march', 150): 2726, ('rocket', 150): 2727, ('climb', 150): 2728, ('bush', 150): 2729, ('sensibl', 149): 2730, ('boot', 149): 2731, ('unforgett', 149): 2732, ('spare', 149): 2733, ('wherea', 149): 2734, ('mst3k', 149): 2735, ('kurt', 149): 2736, ('dump', 149): 2737, ('dane', 149): 2738, ('luca', 149): 2739, ('thug', 149): 2740, ('lust', 149): 2741, ('enorm', 149): 2742, ('meaning', 149): 2743, ('difficulti', 148): 2744, ('adequ', 148): 2745, ('fifti', 148): 2746, ('threat', 148): 2747, ('butt', 148): 2748, ('bobbi', 148): 2749, ('arnold', 148): 2750, ('caricatur', 148): 2751, ('karloff', 148): 2752, ('engin', 148): 2753, ('rap', 148): 2754, ('stress', 148): 2755, ('brand', 148): 2756, ('dear', 148): 2757, ('flynn', 147): 2758, ('secretari', 147): 2759, ('barri', 147): 2760, ('hamlet', 147): 2761, ('elabor', 147): 2762, ('fest', 147): 2763, ('ralph', 147): 2764, ('ego', 147): 2765, ('journalist', 147): 2766, ('swing', 147): 2767, ('arrog', 147): 2768, ('polish', 147): 2769, ('homeless', 147): 2770, ('tool', 146): 2771, ('puppet', 146): 2772, ('induc', 146): 2773, ('float', 146): 2774, ('arrang', 146): 2775, ('grate', 146): 2776, ('simpson', 146): 2777, ('unbear', 146): 2778, ('spike', 146): 2779, ('conspiraci', 146): 2780, ('fanci', 146): 2781, ('resort', 146): 2782, ('basement', 145): 2783, ('pig', 145): 2784, ('choreograph', 145): 2785, ('cruis', 145): 2786, ('guilt', 145): 2787, ('exercis', 145): 2788, ('tribut', 145): 2789, ('phillip', 145): 2790, ('boll', 145): 2791, ('muppet', 145): 2792, ('24', 144): 2793, ('korean', 144): 2794, ('medium', 144): 2795, ('ham', 144): 2796, ('ward', 144): 2797, ('tower', 144): 2798, ('babe', 144): 2799, ('toilet', 144): 2800, ('slip', 144): 2801, ('item', 144): 2802, ('document', 144): 2803, ('layer', 144): 2804, ('editor', 144): 2805, ('file', 144): 2806, ('fianc', 144): 2807, ('scarecrow', 144): 2808, ('puzzl', 144): 2809, ('stan', 144): 2810, ('assur', 143): 2811, ('inexplic', 143): 2812, ('persona', 143): 2813, ('larger', 143): 2814, ('superfici', 143): 2815, ('minim', 143): 2816, ('portion', 143): 2817, ('territori', 143): 2818, ('catherin', 143): 2819, ('transit', 143): 2820, ('philosoph', 143): 2821, ('doc', 143): 2822, ('denzel', 143): 2823, ('glover', 143): 2824, ('orient', 143): 2825, ('spark', 143): 2826, ('slaughter', 143): 2827, ('librari', 143): 2828, ('jet', 142): 2829, ('wolf', 142): 2830, ('jeremi', 142): 2831, ('pg', 142): 2832, ('sneak', 142): 2833, ('walken', 142): 2834, ('curti', 142): 2835, ('owe', 142): 2836, ('dorothi', 142): 2837, ('financi', 142): 2838, ('boredom', 142): 2839, ('ban', 142): 2840, ('shi', 142): 2841, ('multi', 141): 2842, ('backdrop', 141): 2843, ('cusack', 141): 2844, ('metaphor', 141): 2845, ('ambigu', 141): 2846, ('hudson', 141): 2847, ('eleph', 141): 2848, ('whale', 141): 2849, ('profound', 141): 2850, ('elsewher', 140): 2851, ('viru', 140): 2852, ('ultra', 140): 2853, ('notion', 140): 2854, ('hack', 140): 2855, ('rave', 140): 2856, ('union', 140): 2857, ('implaus', 140): 2858, ('2005', 140): 2859, ('birthday', 140): 2860, ('gadget', 140): 2861, ('stiff', 140): 2862, ('pad', 139): 2863, ('reader', 139): 2864, ('superhero', 139): 2865, ('lloyd', 139): 2866, ('slight', 139): 2867, ('newspap', 139): 2868, ('distanc', 139): 2869, ('canada', 139): 2870, ('disc', 139): 2871, ('urg', 139): 2872, ('eva', 139): 2873, ('hawk', 139): 2874, ('bibl', 139): 2875, ('poison', 139): 2876, ('1st', 139): 2877, ('eastwood', 139): 2878, ('squar', 139): 2879, ('deriv', 139): 2880, ('afford', 139): 2881, ('spread', 138): 2882, ('montag', 138): 2883, ('essenc', 138): 2884, ('huh', 138): 2885, ('drown', 138): 2886, ('charisma', 138): 2887, ('button', 138): 2888, ('sadist', 138): 2889, ('skit', 138): 2890, ('heston', 138): 2891, ('health', 138): 2892, ('restaur', 138): 2893, ('cure', 138): 2894, ('invest', 137): 2895, ('dealt', 137): 2896, ('muslim', 137): 2897, ('companion', 137): 2898, ('estat', 137): 2899, ('scoobi', 137): 2900, ('maniac', 137): 2901, ('peak', 137): 2902, ('fetch', 137): 2903, ('gradual', 137): 2904, ('godfath', 137): 2905, ('lab', 137): 2906, ('subtleti', 136): 2907, ('servant', 136): 2908, ('countless', 136): 2909, ('alli', 136): 2910, ('kane', 136): 2911, ('gothic', 136): 2912, ('cup', 136): 2913, ('tea', 136): 2914, ('ritter', 136): 2915, ('miik', 136): 2916, ('briefli', 135): 2917, ('salli', 135): 2918, ('heroic', 135): 2919, ('elect', 135): 2920, ('iii', 135): 2921, ('charismat', 135): 2922, ('electr', 135): 2923, ('cole', 134): 2924, ('admittedli', 134): 2925, ('nuanc', 134): 2926, ('resourc', 134): 2927, ('ingredi', 134): 2928, ('wannab', 134): 2929, ('grandmoth', 134): 2930, ('reel', 134): 2931, ('bud', 134): 2932, ('tender', 134): 2933, ('toss', 134): 2934, ('neil', 134): 2935, ('label', 133): 2936, ('gate', 133): 2937, ('mild', 133): 2938, ('stood', 133): 2939, ('kubrick', 133): 2940, ('dawson', 133): 2941, ('carrey', 133): 2942, ('poverti', 133): 2943, ('punk', 133): 2944, ('stronger', 133): 2945, ('reev', 133): 2946, ('mafia', 133): 2947, ('pit', 133): 2948, ('pauli', 133): 2949, ('shall', 133): 2950, ('terri', 132): 2951, ('updat', 132): 2952, ('smooth', 132): 2953, ('useless', 132): 2954, ('cardboard', 132): 2955, ('outcom', 132): 2956, ('bakshi', 132): 2957, ('fond', 132): 2958, ('tag', 132): 2959, ('ian', 132): 2960, ('smash', 132): 2961, ('easier', 132): 2962, ('cox', 132): 2963, ('burst', 132): 2964, ('assault', 132): 2965, ('astair', 132): 2966, ('2002', 131): 2967, ('fist', 131): 2968, ('samurai', 131): 2969, ('increasingli', 131): 2970, ('coincid', 131): 2971, ('qualifi', 131): 2972, ('vulner', 131): 2973, ('melodramat', 131): 2974, ('sketch', 131): 2975, ('resolv', 131): 2976, ('divers', 131): 2977, ('exchang', 131): 2978, ('rex', 131): 2979, ('vari', 131): 2980, ('brillianc', 130): 2981, ('tame', 130): 2982, ('suspend', 130): 2983, ('insert', 130): 2984, ('be', 130): 2985, ('reynold', 130): 2986, ('conveni', 130): 2987, ('templ', 130): 2988, ('scratch', 130): 2989, ('blast', 130): 2990, ('luckili', 130): 2991, ('ambiti', 129): 2992, ('matthew', 129): 2993, ('gotta', 129): 2994, ('farm', 129): 2995, ('coach', 129): 2996, ('meat', 129): 2997, ('hamilton', 129): 2998, ('soprano', 129): 2999, ('strictli', 129): 3000, ('walker', 129): 3001, ('jami', 129): 3002, ('pin', 129): 3003, ('seventi', 129): 3004, ('nuclear', 129): 3005, ('fisher', 129): 3006, ('timeless', 128): 3007, ('discoveri', 128): 3008, ('recreat', 128): 3009, ('closet', 128): 3010, ('worthless', 128): 3011, ('struck', 128): 3012, ('butcher', 128): 3013, ('instantli', 128): 3014, ('ninja', 128): 3015, ('clock', 128): 3016, ('grasp', 128): 3017, ('revers', 128): 3018, ('spooki', 128): 3019, ('kudo', 128): 3020, ('empir', 128): 3021, ('eccentr', 128): 3022, ('monk', 128): 3023, ('convolut', 128): 3024, ('cave', 128): 3025, ('brosnan', 128): 3026, ('joey', 128): 3027, ('evok', 127): 3028, ('wipe', 127): 3029, ('communist', 127): 3030, ('clown', 127): 3031, ('mitchel', 127): 3032, ('gray', 127): 3033, ('cliff', 127): 3034, ('partli', 127): 3035, ('bleak', 127): 3036, ('fifteen', 127): 3037, ('miracl', 127): 3038, ('eighti', 127): 3039, ('sloppi', 127): 3040, ('importantli', 127): 3041, ('selfish', 127): 3042, ('sidekick', 127): 3043, ('norman', 127): 3044, ('declar', 127): 3045, ('inconsist', 127): 3046, ('pal', 127): 3047, ('seller', 127): 3048, ('enthusiast', 126): 3049, ('websit', 126): 3050, ('psychiatrist', 126): 3051, ('debat', 126): 3052, ('45', 126): 3053, ('cheek', 126): 3054, ('lifestyl', 126): 3055, ('destin', 126): 3056, ('flawless', 126): 3057, ('seed', 126): 3058, ('chew', 126): 3059, ('ho', 126): 3060, ('farc', 126): 3061, ('stoog', 126): 3062, ('aforement', 126): 3063, ('australia', 126): 3064, ('superbl', 126): 3065, ('piano', 126): 3066, ('kitchen', 125): 3067, ('pressur', 125): 3068, ('anni', 125): 3069, ('slice', 125): 3070, ('dire', 125): 3071, ('splatter', 125): 3072, ('incompet', 125): 3073, ('akshay', 125): 3074, ('wrestl', 125): 3075, ('drivel', 125): 3076, ('soviet', 125): 3077, ('wick', 125): 3078, ('dash', 125): 3079, ('regardless', 125): 3080, ('emili', 125): 3081, ('bash', 125): 3082, ('directori', 125): 3083, ('abc', 125): 3084, ('suppli', 124): 3085, ('mann', 124): 3086, ('distant', 124): 3087, ('lou', 124): 3088, ('helicopt', 124): 3089, ('blob', 124): 3090, ('pleasantli', 124): 3091, ('artifici', 124): 3092, ('glow', 124): 3093, ('jar', 124): 3094, ('flower', 124): 3095, ('curios', 124): 3096, ('increas', 124): 3097, ('chapter', 124): 3098, ('boil', 124): 3099, ('recov', 124): 3100, ('seduc', 124): 3101, ('prize', 124): 3102, ('beaten', 124): 3103, ('doo', 124): 3104, ('duo', 124): 3105, ('cia', 124): 3106, ('judi', 124): 3107, ('ken', 124): 3108, ('dave', 124): 3109, ('cameron', 124): 3110, ('cagney', 124): 3111, ('ranger', 123): 3112, ('ellen', 123): 3113, ('web', 123): 3114, ('combat', 123): 3115, ('psychot', 123): 3116, ('goldberg', 123): 3117, ('eleg', 123): 3118, ('hop', 123): 3119, ('craig', 123): 3120, ('drunken', 123): 3121, ('francisco', 123): 3122, ('favour', 123): 3123, ('splendid', 123): 3124, ('glenn', 123): 3125, ('panic', 123): 3126, ('craven', 123): 3127, ('laurel', 123): 3128, ('turner', 123): 3129, ('perri', 123): 3130, ('philosophi', 122): 3131, ('fx', 122): 3132, ('min', 122): 3133, ('greek', 122): 3134, ('shortli', 122): 3135, ('hatr', 122): 3136, ('gentl', 122): 3137, ('graduat', 122): 3138, ('wizard', 122): 3139, ('20th', 122): 3140, ('gandhi', 122): 3141, ('rid', 122): 3142, ('plausibl', 122): 3143, ('falk', 122): 3144, ('ruth', 122): 3145, ('slightest', 122): 3146, ('flip', 122): 3147, ('alexand', 122): 3148, ('modesti', 122): 3149, ('tall', 121): 3150, ('unpleas', 121): 3151, ('we', 121): 3152, ('jealou', 121): 3153, ('holi', 121): 3154, ('knight', 121): 3155, ('felix', 121): 3156, ('lend', 121): 3157, ('ocean', 121): 3158, ('legal', 121): 3159, ('harm', 121): 3160, ('preciou', 121): 3161, ('manhattan', 121): 3162, ('futurist', 121): 3163, ('fund', 121): 3164, ('dracula', 121): 3165, ('tank', 120): 3166, ('forbidden', 120): 3167, ('scientif', 120): 3168, ('childish', 120): 3169, ('ami', 120): 3170, ('thread', 120): 3171, ('mock', 120): 3172, ('nod', 120): 3173, ('reviv', 120): 3174, ('digniti', 120): 3175, ('overdon', 120): 3176, ('giallo', 120): 3177, ('bless', 120): 3178, ('explicit', 120): 3179, ('elderli', 119): 3180, ('repeatedli', 119): 3181, ('mel', 119): 3182, ('broad', 119): 3183, ('awaken', 119): 3184, ('99', 119): 3185, ('yesterday', 119): 3186, ('verhoeven', 119): 3187, ('eve', 119): 3188, ('torment', 119): 3189, ('pirat', 119): 3190, ('awe', 119): 3191, ('nerv', 119): 3192, ('unwatch', 119): 3193, ('fever', 119): 3194, ('thick', 119): 3195, ('2004', 119): 3196, ('margaret', 119): 3197, ('custom', 118): 3198, ('launch', 118): 3199, ('stiller', 118): 3200, ('griffith', 118): 3201, ('romero', 118): 3202, ('ambit', 118): 3203, ('rivet', 118): 3204, ('uniform', 118): 3205, ('eas', 118): 3206, ('publish', 118): 3207, ('roman', 118): 3208, ('lean', 118): 3209, ('royal', 118): 3210, ('politician', 118): 3211, ('ah', 118): 3212, ('absenc', 118): 3213, ('automat', 118): 3214, ('acclaim', 118): 3215, ('timothi', 118): 3216, ('kay', 118): 3217, ('bin', 118): 3218, ('crook', 117): 3219, ('antic', 117): 3220, ('tomato', 117): 3221, ('transport', 117): 3222, ('bathroom', 117): 3223, ('foul', 117): 3224, ('gabriel', 117): 3225, ('warren', 117): 3226, ('purpl', 117): 3227, ('sunshin', 117): 3228, ('termin', 117): 3229, ('wallac', 117): 3230, ('darker', 117): 3231, ('phrase', 117): 3232, ('stinker', 117): 3233, ('homicid', 117): 3234, ('pierc', 117): 3235, ('pulp', 117): 3236, ('packag', 116): 3237, ('choreographi', 116): 3238, ('saint', 116): 3239, ('donna', 116): 3240, ('ought', 116): 3241, ('horrid', 116): 3242, ('li', 116): 3243, ('contrari', 116): 3244, ('revolutionari', 116): 3245, ('hollow', 116): 3246, ('rambo', 116): 3247, ('eyr', 116): 3248, ('2003', 116): 3249, ('album', 116): 3250, ('juvenil', 116): 3251, ('sixti', 116): 3252, ('karen', 116): 3253, ('evolv', 116): 3254, ('prom', 116): 3255, ('viciou', 116): 3256, ('brazil', 116): 3257, ('coloni', 116): 3258, ('marin', 116): 3259, ('q', 116): 3260, ('kenneth', 116): 3261, ('awak', 116): 3262, ('pray', 116): 3263, ('twelv', 115): 3264, ('option', 115): 3265, ('dose', 115): 3266, ('blade', 115): 3267, ('ramon', 115): 3268, ('beatti', 115): 3269, ('candid', 115): 3270, ('conserv', 115): 3271, ('kapoor', 115): 3272, ('nerd', 115): 3273, ('overr', 115): 3274, ('boast', 115): 3275, ('mummi', 115): 3276, ('defi', 115): 3277, ('stole', 115): 3278, ('ireland', 115): 3279, ('mildr', 115): 3280, ('funer', 114): 3281, ('astonish', 114): 3282, ('detract', 114): 3283, ('natali', 114): 3284, ('protest', 114): 3285, ('altman', 114): 3286, ('trio', 114): 3287, ('global', 114): 3288, ('collabor', 114): 3289, ('jazz', 114): 3290, ('fulci', 114): 3291, ('confirm', 114): 3292, ('flame', 114): 3293, ('kirk', 114): 3294, ('audio', 113): 3295, ('destini', 113): 3296, ('nicholson', 113): 3297, ('whip', 113): 3298, ('enterpris', 113): 3299, ('blake', 113): 3300, ('bottl', 113): 3301, ('shade', 113): 3302, ('bull', 113): 3303, ('mystic', 113): 3304, ('tommi', 113): 3305, ('racial', 113): 3306, ('leap', 113): 3307, ('yellow', 113): 3308, ('spit', 113): 3309, ('delici', 113): 3310, ('reunit', 112): 3311, ('vivid', 112): 3312, ('todd', 112): 3313, ('meaningless', 112): 3314, ('visibl', 112): 3315, ('enchant', 112): 3316, ('swedish', 112): 3317, ('merci', 112): 3318, ('fonda', 112): 3319, ('pseudo', 112): 3320, ('adolesc', 112): 3321, ('popcorn', 112): 3322, ('bedroom', 112): 3323, ('threw', 112): 3324, ('inherit', 112): 3325, ('altogeth', 112): 3326, ('neo', 112): 3327, ('harder', 112): 3328, ('staff', 112): 3329, ('moodi', 111): 3330, ('await', 111): 3331, ('reserv', 111): 3332, ('decor', 111): 3333, ('jew', 111): 3334, ('fanat', 111): 3335, ('roommat', 111): 3336, ('crocodil', 111): 3337, ('kennedi', 111): 3338, ('atlanti', 111): 3339, ('befriend', 111): 3340, ('leonard', 111): 3341, ('uneven', 111): 3342, ('edi', 111): 3343, ('wire', 111): 3344, ('voight', 111): 3345, ('exhibit', 111): 3346, ('lemmon', 111): 3347, ('synopsi', 111): 3348, ('lawrenc', 111): 3349, ('bust', 111): 3350, ('respond', 111): 3351, ('tip', 111): 3352, ('suspici', 111): 3353, ('ruthless', 111): 3354, ('madonna', 111): 3355, ('ventur', 110): 3356, ('dimens', 110): 3357, ('garner', 110): 3358, ('rural', 110): 3359, ('carl', 110): 3360, ('unsettl', 110): 3361, ('voyag', 110): 3362, ('bold', 110): 3363, ('bradi', 110): 3364, ('2007', 110): 3365, ('audit', 110): 3366, ('palma', 110): 3367, ('abysm', 110): 3368, ('holli', 110): 3369, ('clumsi', 110): 3370, ('chao', 110): 3371, ('incident', 110): 3372, ('clint', 110): 3373, ('centr', 110): 3374, ('bargain', 110): 3375, ('cd', 109): 3376, ('daddi', 109): 3377, ('hart', 109): 3378, ('trail', 109): 3379, ('poetic', 109): 3380, ('versu', 109): 3381, ('nearbi', 109): 3382, ('characterist', 109): 3383, ('ant', 109): 3384, ('elimin', 109): 3385, ('wealth', 109): 3386, ('troop', 109): 3387, ('tiger', 109): 3388, ('cuba', 109): 3389, ('2nd', 109): 3390, ('acknowledg', 109): 3391, ('lit', 109): 3392, ('echo', 109): 3393, ('neglect', 109): 3394, ('humili', 109): 3395, ('timon', 109): 3396, ('cari', 109): 3397, ('mall', 109): 3398, ('imperson', 109): 3399, ('immigr', 109): 3400, ('pun', 108): 3401, ('jeffrey', 108): 3402, ('domest', 108): 3403, ('paus', 108): 3404, ('prejudic', 108): 3405, ('homer', 108): 3406, ('saga', 108): 3407, ('solo', 108): 3408, ('marshal', 108): 3409, ('infect', 108): 3410, ('collaps', 108): 3411, ('mistaken', 108): 3412, ('mickey', 108): 3413, ('celluloid', 108): 3414, ('repuls', 108): 3415, ('assembl', 107): 3416, ('1996', 107): 3417, ('ginger', 107): 3418, ('undoubtedli', 107): 3419, ('pant', 107): 3420, ('equip', 107): 3421, ('promin', 107): 3422, ('harvey', 107): 3423, ('inan', 107): 3424, ('sore', 107): 3425, ('leon', 107): 3426, ('gear', 107): 3427, ('tribe', 107): 3428, ('milk', 107): 3429, ('apolog', 107): 3430, ('hbo', 107): 3431, ('chest', 107): 3432, ('inappropri', 107): 3433, ('coffe', 107): 3434, ('olivi', 107): 3435, ('coat', 107): 3436, ('interrupt', 107): 3437, ('cake', 107): 3438, ('colleagu', 106): 3439, ('consum', 106): 3440, ('retain', 106): 3441, ('furthermor', 106): 3442, ('devast', 106): 3443, ('pot', 106): 3444, ('brooklyn', 106): 3445, ('colonel', 106): 3446, ('aveng', 106): 3447, ('trace', 106): 3448, ('institut', 106): 3449, ('solut', 106): 3450, ('exot', 106): 3451, ('humbl', 106): 3452, ('jenni', 106): 3453, ('vulgar', 106): 3454, ('florida', 106): 3455, ('instant', 106): 3456, ('pen', 106): 3457, ('primari', 106): 3458, ('airplan', 106): 3459, ('maggi', 106): 3460, ('embrac', 106): 3461, ('polanski', 106): 3462, ('highest', 106): 3463, ('wive', 105): 3464, ('disabl', 105): 3465, ('dutch', 105): 3466, ('sale', 105): 3467, ('godzilla', 105): 3468, ('gender', 105): 3469, ('rick', 105): 3470, ('bowl', 105): 3471, ('outer', 105): 3472, ('dian', 105): 3473, ('descend', 105): 3474, ('principl', 105): 3475, ('ya', 105): 3476, ('1999', 105): 3477, ('poke', 105): 3478, ('3rd', 105): 3479, ('illog', 105): 3480, ('cope', 105): 3481, ('smaller', 105): 3482, ('seduct', 105): 3483, ('linda', 105): 3484, ('strain', 105): 3485, ('gloriou', 104): 3486, ('predecessor', 104): 3487, ('dive', 104): 3488, ('hal', 104): 3489, ('devoid', 104): 3490, ('blatant', 104): 3491, ('scope', 104): 3492, ('yard', 104): 3493, ('lol', 104): 3494, ('gundam', 104): 3495, ('rabbit', 104): 3496, ('bubbl', 104): 3497, ('secondli', 104): 3498, ('primarili', 104): 3499, ('cue', 104): 3500, ('inferior', 104): 3501, ('vast', 104): 3502, ('beneath', 104): 3503, ('glamor', 104): 3504, ('dud', 104): 3505, ('mixtur', 104): 3506, ('invas', 103): 3507, ('museum', 103): 3508, ('april', 103): 3509, ('shirley', 103): 3510, ('countrysid', 103): 3511, ('simplist', 103): 3512, ('trademark', 103): 3513, ('casual', 103): 3514, ('senseless', 103): 3515, ('streep', 103): 3516, ('disjoint', 103): 3517, ('z', 103): 3518, ('shelf', 103): 3519, ('alfr', 103): 3520, ('alert', 103): 3521, ('arab', 103): 3522, ('domino', 103): 3523, ('breed', 103): 3524, ('hideou', 103): 3525, ('myer', 103): 3526, ('talki', 103): 3527, ('aggress', 103): 3528, ('et', 103): 3529, ('garbo', 103): 3530, ('pearl', 103): 3531, ('grinch', 103): 3532, ('robberi', 102): 3533, ('experiment', 102): 3534, ('loyal', 102): 3535, ('maci', 102): 3536, ('applaud', 102): 3537, ('stellar', 102): 3538, ('disgrac', 102): 3539, ('boom', 102): 3540, ('hardcor', 102): 3541, ('vanish', 102): 3542, ('rendit', 102): 3543, ('oz', 102): 3544, ('khan', 102): 3545, ('hopeless', 102): 3546, ('sh', 102): 3547, ('obtain', 102): 3548, ('illeg', 102): 3549, ('slide', 102): 3550, ('robinson', 102): 3551, ('defens', 102): 3552, ('acid', 102): 3553, ('stir', 102): 3554, ('stack', 102): 3555, ('mayor', 102): 3556, ('uwe', 102): 3557, ('unhappi', 102): 3558, ('mail', 102): 3559, ('dicken', 101): 3560, ('blew', 101): 3561, ('scroog', 101): 3562, ('counter', 101): 3563, ('span', 101): 3564, ('recruit', 101): 3565, ('psychic', 101): 3566, ('spider', 101): 3567, ('tempt', 101): 3568, ('grandfath', 101): 3569, ('amanda', 101): 3570, ('wont', 101): 3571, ('rifl', 101): 3572, ('dismiss', 101): 3573, ('fri', 101): 3574, ('emphasi', 101): 3575, ('berlin', 101): 3576, ('incomprehens', 101): 3577, ('declin', 101): 3578, ('tenant', 101): 3579, ('hartley', 101): 3580, ('craze', 101): 3581, ('topless', 101): 3582, ('soccer', 101): 3583, ('diana', 101): 3584, ('justin', 100): 3585, ('wet', 100): 3586, ('shed', 100): 3587, ('parad', 100): 3588, ('shaw', 100): 3589, ('revolt', 100): 3590, ('niro', 100): 3591, ('sibl', 100): 3592, ('intim', 100): 3593, ('riot', 100): 3594, ('trashi', 100): 3595, ('ethnic', 100): 3596, ('sympath', 100): 3597, ('ration', 100): 3598, ('resurrect', 100): 3599, ('porno', 100): 3600, ('lumet', 100): 3601, ('faster', 100): 3602, ('woo', 100): 3603, ('bitch', 100): 3604, ('goer', 100): 3605, ('ballet', 99): 3606, ('immort', 99): 3607, ('hopper', 99): 3608, ('region', 99): 3609, ('enlighten', 99): 3610, ('wheel', 99): 3611, ('steam', 99): 3612, ('00', 99): 3613, ('wendi', 99): 3614, ('gap', 99): 3615, ('honesti', 99): 3616, ('mario', 99): 3617, ('patriot', 99): 3618, ('farmer', 99): 3619, ('jonathan', 99): 3620, ('feminist', 99): 3621, ('unreal', 99): 3622, ('nephew', 99): 3623, ('ensur', 99): 3624, ('commend', 99): 3625, ('eager', 99): 3626, ('weakest', 99): 3627, ('dealer', 99): 3628, ('hesit', 99): 3629, ('partial', 99): 3630, ('slick', 99): 3631, ('biographi', 99): 3632, ('rider', 99): 3633, ('choru', 99): 3634, ('andr', 99): 3635, ('worm', 99): 3636, ('lena', 99): 3637, ('snap', 98): 3638, ('util', 98): 3639, ('mutant', 98): 3640, ('wore', 98): 3641, ('hung', 98): 3642, ('vice', 98): 3643, ('macarthur', 98): 3644, ('morri', 98): 3645, ('sandra', 98): 3646, ('sappi', 98): 3647, ('confin', 98): 3648, ('kingdom', 98): 3649, ('victori', 98): 3650, ('safeti', 98): 3651, ('properti', 98): 3652, ('prequel', 98): 3653, ('blunt', 98): 3654, ('psychopath', 98): 3655, ('owen', 98): 3656, ('nostalg', 98): 3657, ('repress', 98): 3658, ('composit', 98): 3659, ('leo', 98): 3660, ('franco', 98): 3661, ('skull', 98): 3662, ('similarli', 98): 3663, ('charlott', 98): 3664, ('thru', 97): 3665, ('kyle', 97): 3666, ('deed', 97): 3667, ('compens', 97): 3668, ('heartbreak', 97): 3669, ('bow', 97): 3670, ('miseri', 97): 3671, ('bonu', 97): 3672, ('acquir', 97): 3673, ('campbel', 97): 3674, ('despair', 97): 3675, ('1972', 97): 3676, ('strand', 97): 3677, ('rocki', 97): 3678, ('tad', 97): 3679, ('bergman', 97): 3680, ('rope', 97): 3681, ('repli', 97): 3682, ('drum', 97): 3683, ('nervou', 97): 3684, ('tail', 97): 3685, ('recycl', 97): 3686, ('dust', 97): 3687, ('emperor', 97): 3688, ('speci', 97): 3689, ('hyde', 97): 3690, ('rambl', 97): 3691, ('del', 97): 3692, ('bumbl', 97): 3693, ('dalton', 97): 3694, ('montana', 97): 3695, ('pattern', 97): 3696, ('valuabl', 97): 3697, ('exit', 97): 3698, ('farrel', 97): 3699, ('compass', 97): 3700, ('cg', 97): 3701, ('latin', 97): 3702, ('whoopi', 97): 3703, ('drain', 97): 3704, ('snl', 97): 3705, ('35', 96): 3706, ('wacki', 96): 3707, ('slug', 96): 3708, ('roth', 96): 3709, ('da', 96): 3710, ('mistress', 96): 3711, ('orson', 96): 3712, ('airport', 96): 3713, ('downhil', 96): 3714, ('gimmick', 96): 3715, ('rapist', 96): 3716, ('chess', 96): 3717, ('oppress', 96): 3718, ('pour', 96): 3719, ('percept', 96): 3720, ('romp', 96): 3721, ('contempl', 96): 3722, ('bleed', 96): 3723, ('radic', 96): 3724, ('rotten', 96): 3725, ('tonight', 96): 3726, ('martian', 96): 3727, ('gal', 96): 3728, ('carradin', 96): 3729, ('olli', 96): 3730, ('tackl', 95): 3731, ('1983', 95): 3732, ('preach', 95): 3733, ('arc', 95): 3734, ('shelley', 95): 3735, ('slash', 95): 3736, ('arguabl', 95): 3737, ('belt', 95): 3738, ('champion', 95): 3739, ('mislead', 95): 3740, ('programm', 95): 3741, ('edgar', 95): 3742, ('pervert', 95): 3743, ('banal', 95): 3744, ('stilt', 95): 3745, ('unpredict', 95): 3746, ('taught', 95): 3747, ('pursuit', 95): 3748, ('heal', 95): 3749, ('paltrow', 95): 3750, ('attorney', 95): 3751, ('dazzl', 95): 3752, ('melodi', 95): 3753, ('pervers', 95): 3754, ('tooth', 95): 3755, ('closest', 94): 3756, ('employe', 94): 3757, ('uplift', 94): 3758, ('duval', 94): 3759, ('vocal', 94): 3760, ('bela', 94): 3761, ('mesmer', 94): 3762, ('cleverli', 94): 3763, ('marti', 94): 3764, ('graham', 94): 3765, ('conneri', 94): 3766, ('rubi', 94): 3767, ('maid', 94): 3768, ('sensat', 94): 3769, ('tiresom', 94): 3770, ('chicken', 94): 3771, ('orang', 94): 3772, ('vengeanc', 94): 3773, ('gambl', 94): 3774, ('passeng', 94): 3775, ('raymond', 94): 3776, ('plight', 94): 3777, ('virginia', 94): 3778, ('poem', 94): 3779, ('dixon', 94): 3780, ('franki', 94): 3781, ('amitabh', 93): 3782, ('1968', 93): 3783, ('secretli', 93): 3784, ('profan', 93): 3785, ('calm', 93): 3786, ('tube', 93): 3787, ('outing', 93): 3788, ('paranoia', 93): 3789, ('extens', 93): 3790, ('volum', 93): 3791, ('gerard', 93): 3792, ('crystal', 93): 3793, ('giggl', 93): 3794, ('whine', 93): 3795, ('suffic', 93): 3796, ('scottish', 93): 3797, ('convincingli', 93): 3798, ('monologu', 93): 3799, ('swallow', 93): 3800, ('lundgren', 93): 3801, ('habit', 93): 3802, ('yawn', 93): 3803, ('sirk', 93): 3804, ('inject', 93): 3805, ('numb', 93): 3806, ('mute', 93): 3807, ('clone', 93): 3808, ('quarter', 93): 3809, ('climact', 93): 3810, ('engross', 93): 3811, ('abraham', 93): 3812, ('bay', 93): 3813, ('pokemon', 93): 3814, ('iran', 93): 3815, ('bend', 92): 3816, ('underst', 92): 3817, ('fed', 92): 3818, ('frankenstein', 92): 3819, ('surpass', 92): 3820, ('im', 92): 3821, ('backward', 92): 3822, ('dispos', 92): 3823, ('trend', 92): 3824, ('abort', 92): 3825, ('grotesqu', 92): 3826, ('franci', 92): 3827, ('richardson', 92): 3828, ('earl', 92): 3829, ('junior', 92): 3830, ('expand', 92): 3831, ('taxi', 92): 3832, ('septemb', 92): 3833, ('chicago', 92): 3834, ('linger', 92): 3835, ('poetri', 92): 3836, ('meander', 92): 3837, ('austen', 92): 3838, ('nichola', 92): 3839, ('spock', 92): 3840, ('plod', 92): 3841, ('profess', 92): 3842, ('lowest', 92): 3843, ('ethan', 92): 3844, ('catchi', 91): 3845, ('household', 91): 3846, ('waitress', 91): 3847, ('rant', 91): 3848, ('literatur', 91): 3849, ('eugen', 91): 3850, ('nostalgia', 91): 3851, ('compliment', 91): 3852, ('instrument', 91): 3853, ('mundan', 91): 3854, ('stallon', 91): 3855, ('sue', 91): 3856, ('rubber', 91): 3857, ('simplic', 91): 3858, ('descent', 91): 3859, ('muddl', 91): 3860, ('lure', 91): 3861, ('myth', 91): 3862, ('dysfunct', 91): 3863, ('cannon', 91): 3864, ('tourist', 91): 3865, ('der', 91): 3866, ('spoke', 91): 3867, ('greedi', 91): 3868, ('hum', 91): 3869, ('econom', 91): 3870, ('eaten', 90): 3871, ('randi', 90): 3872, ('dement', 90): 3873, ('louis', 90): 3874, ('irrelev', 90): 3875, ('cent', 90): 3876, ('stale', 90): 3877, ('alongsid', 90): 3878, ('omen', 90): 3879, ('molli', 90): 3880, ('june', 90): 3881, ('hello', 90): 3882, ('mankind', 90): 3883, ('insur', 90): 3884, ('occupi', 90): 3885, ('firstli', 90): 3886, ('mortal', 90): 3887, ('recognit', 90): 3888, ('sissi', 90): 3889, ('flee', 90): 3890, ('duck', 90): 3891, ('lang', 90): 3892, ('dictat', 90): 3893, ('deaf', 90): 3894, ('recognis', 90): 3895, ('crucial', 90): 3896, ('equival', 90): 3897, ('damon', 90): 3898, ('map', 90): 3899, ('phantom', 90): 3900, ('bacal', 90): 3901, ('phoni', 90): 3902, ('furi', 90): 3903, ('carel', 90): 3904, ('coast', 90): 3905, ('newli', 89): 3906, ('grayson', 89): 3907, ('likewis', 89): 3908, ('rude', 89): 3909, ('loyalti', 89): 3910, ('wisdom', 89): 3911, ('twilight', 89): 3912, ('heel', 89): 3913, ('reign', 89): 3914, ('daisi', 89): 3915, ('lengthi', 89): 3916, ('1973', 89): 3917, ('distinguish', 89): 3918, ('bump', 89): 3919, ('freez', 89): 3920, ('bike', 89): 3921, ('blackmail', 89): 3922, ('drake', 89): 3923, ('ashley', 89): 3924, ('onlin', 89): 3925, ('cyborg', 89): 3926, ('damm', 89): 3927, ('dreari', 89): 3928, ('labor', 89): 3929, ('biko', 89): 3930, ('rooney', 89): 3931, ('antwon', 89): 3932, ('buffalo', 89): 3933, ('proce', 88): 3934, ('incorpor', 88): 3935, ('worn', 88): 3936, ('startl', 88): 3937, ('pink', 88): 3938, ('prey', 88): 3939, ('emphas', 88): 3940, ('keith', 88): 3941, ('chronicl', 88): 3942, ('basketbal', 88): 3943, ('unorigin', 88): 3944, ('exposur', 88): 3945, ('nineti', 88): 3946, ('inher', 88): 3947, ('interior', 88): 3948, ('barrymor', 88): 3949, ('butler', 88): 3950, ('tunnel', 88): 3951, ('attribut', 88): 3952, ('boxer', 88): 3953, ('baddi', 88): 3954, ('approv', 88): 3955, ('ridden', 88): 3956, ('vein', 88): 3957, ('sailor', 88): 3958, ('analysi', 88): 3959, ('provoc', 88): 3960, ('robbin', 87): 3961, ('undeni', 87): 3962, ('nicol', 87): 3963, ('unrel', 87): 3964, ('elm', 87): 3965, ('meyer', 87): 3966, ('julian', 87): 3967, ('simmon', 87): 3968, ('predat', 87): 3969, ('er', 87): 3970, ('millionair', 87): 3971, ('fleet', 87): 3972, ('mighti', 87): 3973, ('hypnot', 87): 3974, ('mormon', 87): 3975, ('bunni', 87): 3976, ('drift', 87): 3977, ('barrel', 87): 3978, ('condemn', 87): 3979, ('indiffer', 87): 3980, ('meg', 87): 3981, ('stalker', 87): 3982, ('improvis', 87): 3983, ('walsh', 87): 3984, ('othello', 87): 3985, ('substitut', 87): 3986, ('underli', 87): 3987, ('degrad', 87): 3988, ('belushi', 87): 3989, ('carla', 87): 3990, ('errol', 86): 3991, ('firm', 86): 3992, ('nyc', 86): 3993, ('roof', 86): 3994, ('priceless', 86): 3995, ('enthusiasm', 86): 3996, ('disord', 86): 3997, ('edgi', 86): 3998, ('palac', 86): 3999, ('exquisit', 86): 4000, ('rukh', 86): 4001, ('mtv', 86): 4002, ('unawar', 86): 4003, ('dolph', 86): 4004, ('watson', 86): 4005, ('alarm', 86): 4006, ('lampoon', 86): 4007, ('shove', 86): 4008, ('marion', 86): 4009, ('novak', 86): 4010, ('hay', 86): 4011, ('greed', 86): 4012, ('reid', 86): 4013, ('agenda', 86): 4014, ('vital', 86): 4015, ('warmth', 86): 4016, ('alison', 86): 4017, ('3d', 86): 4018, ('simultan', 85): 4019, ('what', 85): 4020, ('peck', 85): 4021, ('testament', 85): 4022, ('profit', 85): 4023, ('campaign', 85): 4024, ('beatl', 85): 4025, ('sergeant', 85): 4026, ('crown', 85): 4027, ('minimum', 85): 4028, ('pamela', 85): 4029, ('gestur', 85): 4030, ('thompson', 85): 4031, ('eastern', 85): 4032, ('unleash', 85): 4033, ('petti', 85): 4034, ('drip', 85): 4035, ('coup', 85): 4036, ('ponder', 85): 4037, ('valentin', 85): 4038, ('showdown', 85): 4039, ('session', 85): 4040, ('glanc', 85): 4041, ('angela', 85): 4042, ('championship', 85): 4043, ('preserv', 85): 4044, ('nun', 85): 4045, ('orlean', 85): 4046, ('13th', 85): 4047, ('distort', 85): 4048, ('israel', 85): 4049, ('1933', 85): 4050, ('iraq', 85): 4051, ('peril', 85): 4052, ('cassidi', 85): 4053, ('randomli', 85): 4054, ('spain', 85): 4055, ('zizek', 85): 4056, ('mon', 84): 4057, ('represent', 84): 4058, ('wig', 84): 4059, ('crawl', 84): 4060, ('shootout', 84): 4061, ('cream', 84): 4062, ('brenda', 84): 4063, ('climat', 84): 4064, ('fido', 84): 4065, ('valley', 84): 4066, ('kurosawa', 84): 4067, ('realm', 84): 4068, ('jan', 84): 4069, ('din', 84): 4070, ('1984', 84): 4071, ('calib', 84): 4072, ('regist', 84): 4073, ('perpetu', 84): 4074, ('han', 84): 4075, ('empathi', 84): 4076, ('travesti', 84): 4077, ('quinn', 84): 4078, ('unimagin', 84): 4079, ('restrain', 84): 4080, ('cooki', 84): 4081, ('contradict', 84): 4082, ('scotland', 84): 4083, ('bro', 84): 4084, ('crow', 84): 4085, ('reson', 84): 4086, ('stake', 84): 4087, ('exposit', 84): 4088, ('stroke', 84): 4089, ('buster', 84): 4090, ('gentleman', 84): 4091, ('sabrina', 84): 4092, ('rout', 84): 4093, ('miyazaki', 84): 4094, ('cloud', 83): 4095, ('monoton', 83): 4096, ('perceiv', 83): 4097, ('absent', 83): 4098, ('pretens', 83): 4099, ('1997', 83): 4100, ('passabl', 83): 4101, ('distress', 83): 4102, ('abomin', 83): 4103, ('femm', 83): 4104, ('pole', 83): 4105, ('soderbergh', 83): 4106, ('compromis', 83): 4107, ('unsatisfi', 83): 4108, ('warrant', 83): 4109, ('greg', 83): 4110, ('censor', 83): 4111, ('meryl', 83): 4112, ('spacey', 83): 4113, ('demis', 83): 4114, ('1987', 83): 4115, ('wax', 83): 4116, ('mclaglen', 83): 4117, ('darren', 83): 4118, ('sammi', 83): 4119, ('shoddi', 83): 4120, ('stargat', 83): 4121, ('baldwin', 83): 4122, ('josh', 83): 4123, ('derang', 83): 4124, ('shaki', 83): 4125, ('delic', 83): 4126, ('painter', 83): 4127, ('businessman', 83): 4128, ('tacki', 83): 4129, ('unseen', 83): 4130, ('sucker', 83): 4131, ('dana', 83): 4132, ('fuller', 83): 4133, ('geek', 83): 4134, ('traumat', 83): 4135, ('ross', 83): 4136, ('ustinov', 83): 4137, ('crawford', 83): 4138, ('exclus', 82): 4139, ('1993', 82): 4140, ('austin', 82): 4141, ('polici', 82): 4142, ('norm', 82): 4143, ('accuraci', 82): 4144, ('correctli', 82): 4145, ('valid', 82): 4146, ('primit', 82): 4147, ('unravel', 82): 4148, ('fog', 82): 4149, ('clash', 82): 4150, ('deniro', 82): 4151, ('wholli', 82): 4152, ('anchor', 82): 4153, ('reluct', 82): 4154, ('seal', 82): 4155, ('expedit', 82): 4156, ('uncov', 82): 4157, ('tech', 82): 4158, ('verbal', 82): 4159, ('jewel', 82): 4160, ('click', 82): 4161, ('deceas', 82): 4162, ('dee', 82): 4163, ('furiou', 82): 4164, ('tarantino', 82): 4165, ('fenc', 82): 4166, ('kumar', 82): 4167, ('sid', 82): 4168, ('nathan', 82): 4169, ('antonioni', 82): 4170, ('judgment', 82): 4171, ('pocket', 81): 4172, ('unfair', 81): 4173, ('nicola', 81): 4174, ('fart', 81): 4175, ('clerk', 81): 4176, ('darn', 81): 4177, ('crippl', 81): 4178, ('fabric', 81): 4179, ('trait', 81): 4180, ('joel', 81): 4181, ('logan', 81): 4182, ('wretch', 81): 4183, ('hallucin', 81): 4184, ('1995', 81): 4185, ('wang', 81): 4186, ('tax', 81): 4187, ('enforc', 81): 4188, ('1971', 81): 4189, ('mode', 81): 4190, ('sheet', 81): 4191, ('3000', 81): 4192, ('behold', 81): 4193, ('sunni', 81): 4194, ('murray', 81): 4195, ('sustain', 81): 4196, ('slam', 81): 4197, ('debt', 81): 4198, ('2008', 81): 4199, ('patienc', 81): 4200, ('conduct', 81): 4201, ('seldom', 81): 4202, ('sand', 81): 4203, ('fought', 81): 4204, ('roller', 81): 4205, ('malon', 81): 4206, ('ritual', 81): 4207, ('dreck', 81): 4208, ('vanc', 81): 4209, ('temper', 81): 4210, ('bake', 81): 4211, ('alec', 81): 4212, ('shanghai', 81): 4213, ('tactic', 80): 4214, ('squad', 80): 4215, ('guitar', 80): 4216, ('bias', 80): 4217, ('runner', 80): 4218, ('technicolor', 80): 4219, ('conscious', 80): 4220, ('legaci', 80): 4221, ('exhaust', 80): 4222, ('pete', 80): 4223, ('stuart', 80): 4224, ('grief', 80): 4225, ('sweep', 80): 4226, ('preston', 80): 4227, ('shell', 80): 4228, ('rita', 80): 4229, ('phil', 80): 4230, ('clau', 80): 4231, ('scriptwrit', 80): 4232, ('schedul', 80): 4233, ('divid', 80): 4234, ('soup', 80): 4235, ('bridget', 80): 4236, ('preposter', 80): 4237, ('critiqu', 80): 4238, ('helpless', 80): 4239, ('penni', 80): 4240, ('outlin', 80): 4241, ('stark', 80): 4242, ('despis', 80): 4243, ('robber', 80): 4244, ('isabel', 80): 4245, ('fundament', 80): 4246, ('canyon', 80): 4247, ('sugar', 79): 4248, ('lacklust', 79): 4249, ('passag', 79): 4250, ('gregori', 79): 4251, ('russia', 79): 4252, ('drove', 79): 4253, ('vomit', 79): 4254, ('liberti', 79): 4255, ('boyl', 79): 4256, ('implic', 79): 4257, ('cigarett', 79): 4258, ('jacket', 79): 4259, ('delv', 79): 4260, ('unexpectedli', 79): 4261, ('alley', 79): 4262, ('propos', 79): 4263, ('connor', 79): 4264, ('inabl', 79): 4265, ('rear', 79): 4266, ('palanc', 79): 4267, ('rehash', 79): 4268, ('downey', 79): 4269, ('culmin', 79): 4270, ('agenc', 79): 4271, ('sniper', 79): 4272, ('flair', 79): 4273, ('bloom', 79): 4274, ('alicia', 79): 4275, ('invad', 79): 4276, ('marc', 79): 4277, ('sentinel', 79): 4278, ('newman', 79): 4279, ('consciou', 79): 4280, ('restrict', 79): 4281, ('kansa', 79): 4282, ('jodi', 79): 4283, ('ladder', 78): 4284, ('wrench', 78): 4285, ('awhil', 78): 4286, ('rod', 78): 4287, ('behaviour', 78): 4288, ('1936', 78): 4289, ('asylum', 78): 4290, ('aesthet', 78): 4291, ('tendenc', 78): 4292, ('rampag', 78): 4293, ('sharon', 78): 4294, ('vet', 78): 4295, ('mccoy', 78): 4296, ('improb', 78): 4297, ('rehears', 78): 4298, ('cap', 78): 4299, ('22', 78): 4300, ('kolchak', 78): 4301, ('horn', 78): 4302, ('chainsaw', 78): 4303, ('feat', 78): 4304, ('pale', 78): 4305, ('tripe', 78): 4306, ('karl', 78): 4307, ('lush', 78): 4308, ('bacon', 78): 4309, ('delet', 78): 4310, ('yeti', 78): 4311, ('arrow', 78): 4312, ('foxx', 78): 4313, ('spice', 77): 4314, ('1988', 77): 4315, ('coaster', 77): 4316, ('filler', 77): 4317, ('visitor', 77): 4318, ('el', 77): 4319, ('paramount', 77): 4320, ('rhythm', 77): 4321, ('1978', 77): 4322, ('elit', 77): 4323, ('sung', 77): 4324, ('19th', 77): 4325, ('lurk', 77): 4326, ('fright', 77): 4327, ('tomorrow', 77): 4328, ('wagner', 77): 4329, ('hulk', 77): 4330, ('prank', 77): 4331, ('weav', 77): 4332, ('paradis', 77): 4333, ('aristocrat', 77): 4334, ('rumor', 77): 4335, ('minu', 77): 4336, ('newcom', 77): 4337, ('suffici', 77): 4338, ('financ', 77): 4339, ('scoop', 77): 4340, ('loneli', 77): 4341, ('wildli', 77): 4342, ('underneath', 77): 4343, ('shortcom', 77): 4344, ('1920', 77): 4345, ('suspicion', 77): 4346, ('hungri', 77): 4347, ('amazon', 77): 4348, ('hackney', 77): 4349, ('globe', 77): 4350, ('tasteless', 77): 4351, ('thunderbird', 77): 4352, ('conscienc', 77): 4353, ('basing', 77): 4354, ('stream', 77): 4355, ('teas', 76): 4356, ('cancer', 76): 4357, ('entranc', 76): 4358, ('bread', 76): 4359, ('grudg', 76): 4360, ('hopkin', 76): 4361, ('choppi', 76): 4362, ('abrupt', 76): 4363, ('smell', 76): 4364, ('en', 76): 4365, ('ram', 76): 4366, ('counterpart', 76): 4367, ('secondari', 76): 4368, ('literari', 76): 4369, ('worship', 76): 4370, ('atroc', 76): 4371, ('lectur', 76): 4372, ('wwe', 76): 4373, ('leigh', 76): 4374, ('posey', 76): 4375, ('iv', 76): 4376, ('ingeni', 76): 4377, ('75', 76): 4378, ('naughti', 76): 4379, ('minist', 76): 4380, ('immers', 76): 4381, ('couch', 76): 4382, ('impos', 76): 4383, ('penn', 76): 4384, ('curli', 76): 4385, ('quietli', 76): 4386, ('recogniz', 76): 4387, ('1989', 76): 4388, ('straightforward', 76): 4389, ('tierney', 76): 4390, ('1939', 76): 4391, ('brit', 76): 4392, ('inmat', 76): 4393, ('paxton', 76): 4394, ('chamberlain', 76): 4395, ('standout', 76): 4396, ('springer', 76): 4397, ('heist', 76): 4398, ('rub', 76): 4399, ('beverli', 76): 4400, ('dirt', 76): 4401, ('chavez', 76): 4402, ('enthral', 75): 4403, ('watcher', 75): 4404, ('nolan', 75): 4405, ('sublim', 75): 4406, ('convert', 75): 4407, ('injuri', 75): 4408, ('entitl', 75): 4409, ('transcend', 75): 4410, ('duel', 75): 4411, ('missil', 75): 4412, ('morbid', 75): 4413, ('ace', 75): 4414, ('skeptic', 75): 4415, ('moreov', 75): 4416, ('esther', 75): 4417, ('nemesi', 75): 4418, ('lindsay', 75): 4419, ('variat', 75): 4420, ('heartfelt', 75): 4421, ('geni', 75): 4422, ('bernard', 75): 4423, ('laurenc', 75): 4424, ('cattl', 75): 4425, ('policeman', 75): 4426, ('clan', 75): 4427, ('sassi', 75): 4428, ('1986', 75): 4429, ('misguid', 75): 4430, ('net', 75): 4431, ('ratso', 75): 4432, ('yearn', 75): 4433, ('quaid', 75): 4434, ('attenborough', 75): 4435, ('obstacl', 74): 4436, ('brood', 74): 4437, ('cruelti', 74): 4438, ('hk', 74): 4439, ('facil', 74): 4440, ('buzz', 74): 4441, ('bye', 74): 4442, ('kidman', 74): 4443, ('unexplain', 74): 4444, ('1979', 74): 4445, ('grin', 74): 4446, ('kitti', 74): 4447, ('moder', 74): 4448, ('youngest', 74): 4449, ('egg', 74): 4450, ('diari', 74): 4451, ('rosemari', 74): 4452, ('tyler', 74): 4453, ('dont', 74): 4454, ('vader', 74): 4455, ('characteris', 74): 4456, ('enabl', 74): 4457, ('spiral', 74): 4458, ('artsi', 74): 4459, ('out', 74): 4460, ('setup', 74): 4461, ('bean', 74): 4462, ('carlito', 74): 4463, ('reliabl', 74): 4464, ('steadi', 74): 4465, ('hopelessli', 74): 4466, ('graini', 74): 4467, ('uncut', 74): 4468, ('poe', 74): 4469, ('mytholog', 74): 4470, ('puppi', 74): 4471, ('acquaint', 73): 4472, ('despic', 73): 4473, ('heap', 73): 4474, ('oblig', 73): 4475, ('1969', 73): 4476, ('christin', 73): 4477, ('disastr', 73): 4478, ('underworld', 73): 4479, ('effici', 73): 4480, ('hammi', 73): 4481, ('exterior', 73): 4482, ('bounc', 73): 4483, ('niec', 73): 4484, ('fuel', 73): 4485, ('bewar', 73): 4486, ('sweat', 73): 4487, ('clueless', 73): 4488, ('athlet', 73): 4489, ('weather', 73): 4490, ('decept', 73): 4491, ('patricia', 73): 4492, ('spontan', 73): 4493, ('martha', 73): 4494, ('gina', 73): 4495, ('baffl', 73): 4496, ('hain', 73): 4497, ('kline', 73): 4498, ('narrow', 73): 4499, ('preming', 73): 4500, ('brendan', 73): 4501, ('gillian', 73): 4502, ('bronson', 73): 4503, ('insipid', 72): 4504, ('lester', 72): 4505, ('loath', 72): 4506, ('trigger', 72): 4507, ('19', 72): 4508, ('dilemma', 72): 4509, ('73', 72): 4510, ('injur', 72): 4511, ('housewif', 72): 4512, ('taboo', 72): 4513, ('preachi', 72): 4514, ('circu', 72): 4515, ('mayhem', 72): 4516, ('virtu', 72): 4517, ('tick', 72): 4518, ('shatter', 72): 4519, ('mermaid', 72): 4520, ('dandi', 72): 4521, ('astound', 72): 4522, ('candl', 72): 4523, ('loi', 72): 4524, ('analyz', 72): 4525, ('headach', 72): 4526, ('scar', 72): 4527, ('sooner', 72): 4528, ('rome', 72): 4529, ('viewpoint', 72): 4530, ('sleepwalk', 72): 4531, ('biker', 72): 4532, ('goof', 72): 4533, ('enlist', 72): 4534, ('harmless', 72): 4535, ('suprem', 72): 4536, ('hepburn', 72): 4537, ('uh', 72): 4538, ('angst', 72): 4539, ('outlaw', 72): 4540, ('renaiss', 72): 4541, ('fontain', 72): 4542, ('idol', 71): 4543, ('redund', 71): 4544, ('fluff', 71): 4545, ('guin', 71): 4546, ('dismal', 71): 4547, ('phenomenon', 71): 4548, ('dish', 71): 4549, ('corbett', 71): 4550, ('ebert', 71): 4551, ('zoom', 71): 4552, ('contempt', 71): 4553, ('whore', 71): 4554, ('bent', 71): 4555, ('overlong', 71): 4556, ('salt', 71): 4557, ('hostag', 71): 4558, ('surgeri', 71): 4559, ('scorses', 71): 4560, ('hooker', 71): 4561, ('stair', 71): 4562, ('intric', 71): 4563, ('sox', 71): 4564, ('boston', 71): 4565, ('claustrophob', 71): 4566, ('macho', 71): 4567, ('stimul', 71): 4568, ('hokey', 71): 4569, ('filth', 71): 4570, ('amor', 71): 4571, ('spade', 71): 4572, ('slimi', 71): 4573, ('foolish', 71): 4574, ('immatur', 71): 4575, ('steer', 71): 4576, ('tripl', 71): 4577, ('oldest', 71): 4578, ('ariel', 71): 4579, ('gere', 71): 4580, ('glorifi', 71): 4581, ('camcord', 71): 4582, ('cassavet', 71): 4583, ('zane', 70): 4584, ('flag', 70): 4585, ('astronaut', 70): 4586, ('muscl', 70): 4587, ('radiat', 70): 4588, ('keen', 70): 4589, ('nolt', 70): 4590, ('beard', 70): 4591, ('cohen', 70): 4592, ('cush', 70): 4593, ('schlock', 70): 4594, ('conquer', 70): 4595, ('proport', 70): 4596, ('frantic', 70): 4597, ('trivia', 70): 4598, ('spinal', 70): 4599, ('shred', 70): 4600, ('remad', 70): 4601, ('joker', 70): 4602, ('gasp', 70): 4603, ('dwarf', 70): 4604, ('shield', 70): 4605, ('faint', 70): 4606, ('antagonist', 70): 4607, ('harold', 70): 4608, ('corman', 70): 4609, ('fascist', 70): 4610, ('cow', 70): 4611, ('assert', 70): 4612, ('perman', 70): 4613, ('strongest', 70): 4614, ('mutual', 70): 4615, ('preced', 70): 4616, ('1976', 70): 4617, ('1981', 70): 4618, ('rhyme', 70): 4619, ('transplant', 70): 4620, ('down', 70): 4621, ('margin', 70): 4622, ('flirt', 70): 4623, ('obligatori', 70): 4624, ('widescreen', 70): 4625, ('gabl', 70): 4626, ('flashi', 70): 4627, ('messi', 70): 4628, ('mount', 70): 4629, ('alvin', 70): 4630, ('spree', 70): 4631, ('naschi', 70): 4632, ('bachelor', 69): 4633, ('claud', 69): 4634, ('scandal', 69): 4635, ('discern', 69): 4636, ('boob', 69): 4637, ('sensual', 69): 4638, ('95', 69): 4639, ('instruct', 69): 4640, ('inflict', 69): 4641, ('fishburn', 69): 4642, ('departur', 69): 4643, ('mobil', 69): 4644, ('www', 69): 4645, ('archiv', 69): 4646, ('persuad', 69): 4647, ('deer', 69): 4648, ('divin', 69): 4649, ('danish', 69): 4650, ('neurot', 69): 4651, ('interestingli', 69): 4652, ('aborigin', 69): 4653, ('wield', 69): 4654, ('resum', 69): 4655, ('strive', 69): 4656, ('someday', 69): 4657, ('1945', 69): 4658, ('off', 69): 4659, ('barn', 69): 4660, ('repris', 69): 4661, ('bitten', 69): 4662, ('triangl', 69): 4663, ('hara', 69): 4664, ('brush', 69): 4665, ('info', 69): 4666, ('carey', 69): 4667, ('raj', 69): 4668, ('vaniti', 69): 4669, ('28', 69): 4670, ('mol', 69): 4671, ('flock', 69): 4672, ('ritchi', 69): 4673, ('pacif', 68): 4674, ('vibrant', 68): 4675, ('kathryn', 68): 4676, ('helm', 68): 4677, ('undermin', 68): 4678, ('timberlak', 68): 4679, ('jade', 68): 4680, ('melissa', 68): 4681, ('prophet', 68): 4682, ('dylan', 68): 4683, ('submit', 68): 4684, ('neill', 68): 4685, ('hilar', 68): 4686, ('traffic', 68): 4687, ('artwork', 68): 4688, ('hug', 68): 4689, ('colin', 68): 4690, ('clad', 68): 4691, ('cb', 68): 4692, ('mobster', 68): 4693, ('hapless', 68): 4694, ('miracul', 68): 4695, ('cycl', 68): 4696, ('harrison', 68): 4697, ('dim', 68): 4698, ('banter', 68): 4699, ('proclaim', 68): 4700, ('fragil', 68): 4701, ('senior', 68): 4702, ('recit', 68): 4703, ('cher', 68): 4704, ('bate', 68): 4705, ('dame', 68): 4706, ('luka', 68): 4707, ('heartwarm', 68): 4708, ('casino', 68): 4709, ('carlo', 68): 4710, ('biblic', 68): 4711, ('axe', 68): 4712, ('rot', 68): 4713, ('pickford', 68): 4714, ('ish', 68): 4715, ('anton', 68): 4716, ('parson', 68): 4717, ('pixar', 68): 4718, ('earnest', 68): 4719, ('loretta', 68): 4720, ('frontier', 68): 4721, ('cliffhang', 68): 4722, ('wendigo', 68): 4723, ('europa', 68): 4724, ('orphan', 67): 4725, ('illus', 67): 4726, ('rooki', 67): 4727, ('foil', 67): 4728, ('sicken', 67): 4729, ('cerebr', 67): 4730, ('razor', 67): 4731, ('articl', 67): 4732, ('eli', 67): 4733, ('lucil', 67): 4734, ('holocaust', 67): 4735, ('estrang', 67): 4736, ('vile', 67): 4737, ('akin', 67): 4738, ('redneck', 67): 4739, ('jordan', 67): 4740, ('breakfast', 67): 4741, ('toronto', 67): 4742, ('mason', 67): 4743, ('flavor', 67): 4744, ('http', 67): 4745, ('electron', 67): 4746, ('aris', 67): 4747, ('marlon', 67): 4748, ('feast', 67): 4749, ('blatantli', 67): 4750, ('static', 67): 4751, ('pc', 67): 4752, ('wardrob', 67): 4753, ('nope', 67): 4754, ('choke', 67): 4755, ('winchest', 67): 4756, ('venom', 67): 4757, ('uma', 67): 4758, ('legitim', 67): 4759, ('bikini', 67): 4760, ('isra', 67): 4761, ('seedi', 67): 4762, ('bondag', 67): 4763, ('token', 67): 4764, ('vanessa', 67): 4765, ('northern', 67): 4766, ('misfortun', 67): 4767, ('lui', 67): 4768, ('jo', 67): 4769, ('alexandr', 67): 4770, ('mathieu', 67): 4771, ('trier', 67): 4772, ('shepherd', 67): 4773, ('milo', 67): 4774, ('antholog', 67): 4775, ('dudley', 66): 4776, ('glare', 66): 4777, ('gunga', 66): 4778, ('peer', 66): 4779, ('deem', 66): 4780, ('feminin', 66): 4781, ('ceremoni', 66): 4782, ('boyer', 66): 4783, ('oppon', 66): 4784, ('disregard', 66): 4785, ('turd', 66): 4786, ('clinic', 66): 4787, ('retriev', 66): 4788, ('affleck', 66): 4789, ('shorter', 66): 4790, ('tack', 66): 4791, ('smack', 66): 4792, ('howl', 66): 4793, ('charlton', 66): 4794, ('abund', 66): 4795, ('wrestler', 66): 4796, ('knightley', 66): 4797, ('styliz', 66): 4798, ('linear', 66): 4799, ('leather', 66): 4800, ('cartoonish', 66): 4801, ('frog', 66): 4802, ('fifth', 66): 4803, ('gilbert', 66): 4804, ('swept', 66): 4805, ('audrey', 66): 4806, ('nightclub', 66): 4807, ('highway', 66): 4808, ('huston', 66): 4809, ('magician', 66): 4810, ('comprehend', 66): 4811, ('psych', 66): 4812, ('ideolog', 66): 4813, ('outdat', 66): 4814, ('energet', 65): 4815, ('durat', 65): 4816, ('cemeteri', 65): 4817, ('breakdown', 65): 4818, ('whack', 65): 4819, ('greet', 65): 4820, ('btw', 65): 4821, ('1994', 65): 4822, ('bogu', 65): 4823, ('compris', 65): 4824, ('potter', 65): 4825, ('goldsworthi', 65): 4826, ('lavish', 65): 4827, ('1991', 65): 4828, ('toe', 65): 4829, ('spine', 65): 4830, ('collector', 65): 4831, ('lighter', 65): 4832, ('cuban', 65): 4833, ('uniformli', 65): 4834, ('braveheart', 65): 4835, ('chip', 65): 4836, ('plate', 65): 4837, ('client', 65): 4838, ('bastard', 65): 4839, ('summar', 65): 4840, ('evolut', 65): 4841, ('snatch', 65): 4842, ('mitch', 65): 4843, ('newer', 65): 4844, ('tara', 65): 4845, ('monument', 65): 4846, ('sleaz', 65): 4847, ('senat', 65): 4848, ('einstein', 65): 4849, ('spawn', 65): 4850, ('lifeless', 65): 4851, ('moe', 65): 4852, ('phenomen', 65): 4853, ('deliver', 65): 4854, ('salman', 65): 4855, ('4th', 65): 4856, ('conrad', 65): 4857, ('corn', 65): 4858, ('boo', 65): 4859, ('spectacl', 64): 4860, ('appl', 64): 4861, ('gilliam', 64): 4862, ('randolph', 64): 4863, ('belli', 64): 4864, ('undead', 64): 4865, ('firmli', 64): 4866, ('judd', 64): 4867, ('embark', 64): 4868, ('pronounc', 64): 4869, ('jedi', 64): 4870, ('luxuri', 64): 4871, ('jare', 64): 4872, ('alleg', 64): 4873, ('evelyn', 64): 4874, ('undertak', 64): 4875, ('lex', 64): 4876, ('outright', 64): 4877, ('historian', 64): 4878, ('healthi', 64): 4879, ('fluid', 64): 4880, ('neatli', 64): 4881, ('kent', 64): 4882, ('bori', 64): 4883, ('jule', 64): 4884, ('1974', 64): 4885, ('armstrong', 64): 4886, ('eleven', 64): 4887, ('1977', 64): 4888, ('kazan', 64): 4889, ('jam', 64): 4890, ('bulk', 64): 4891, ('clara', 64): 4892, ('occup', 64): 4893, ('replay', 64): 4894, ('mcqueen', 64): 4895, ('liu', 64): 4896, ('inaccuraci', 64): 4897, ('signal', 64): 4898, ('nina', 64): 4899, ('sorrow', 64): 4900, ('wtf', 64): 4901, ('ie', 64): 4902, ('creek', 64): 4903, ('constitut', 64): 4904, ('trauma', 64): 4905, ('ol', 64): 4906, ('cecil', 64): 4907, ('capot', 64): 4908, ('pepper', 63): 4909, ('meal', 63): 4910, ('inaccur', 63): 4911, ('miami', 63): 4912, ('ash', 63): 4913, ('truman', 63): 4914, ('propheci', 63): 4915, ('kiddi', 63): 4916, ('unsuspect', 63): 4917, ('relentless', 63): 4918, ('vignett', 63): 4919, ('forgiven', 63): 4920, ('genet', 63): 4921, ('rosario', 63): 4922, ('abound', 63): 4923, ('conan', 63): 4924, ('comprehens', 63): 4925, ('1985', 63): 4926, ('decapit', 63): 4927, ('goldblum', 63): 4928, ('paula', 63): 4929, ('roar', 63): 4930, ('id', 63): 4931, ('pioneer', 63): 4932, ('subtli', 63): 4933, ('carmen', 63): 4934, ('cape', 63): 4935, ('tokyo', 63): 4936, ('vain', 63): 4937, ('poker', 63): 4938, ('aussi', 63): 4939, ('lanc', 63): 4940, ('palm', 63): 4941, ('unattract', 63): 4942, ('curtain', 63): 4943, ('sacrif', 63): 4944, ('galaxi', 63): 4945, ('groan', 63): 4946, ('lauren', 63): 4947, ('bsg', 63): 4948, ('basket', 63): 4949, ('blur', 63): 4950, ('spray', 63): 4951, ('inclus', 63): 4952, ('antonio', 63): 4953, ('walt', 63): 4954, ('knee', 63): 4955, ('mum', 63): 4956, ('bait', 63): 4957, ('miniseri', 63): 4958, ('sidewalk', 63): 4959, ('fruit', 63): 4960, ('congratul', 63): 4961, ('porter', 63): 4962, ('comb', 63): 4963, ('handicap', 62): 4964, ('monti', 62): 4965, ('turtl', 62): 4966, ('scariest', 62): 4967, ('epitom', 62): 4968, ('vastli', 62): 4969, ('detach', 62): 4970, ('mice', 62): 4971, ('sophi', 62): 4972, ('reincarn', 62): 4973, ('omin', 62): 4974, ('orchestr', 62): 4975, ('profil', 62): 4976, ('21st', 62): 4977, ('weari', 62): 4978, ('ghetto', 62): 4979, ('victorian', 62): 4980, ('assort', 62): 4981, ('optimist', 62): 4982, ('spill', 62): 4983, ('weaker', 62): 4984, ('cypher', 62): 4985, ('modest', 62): 4986, ('bravo', 62): 4987, ('bach', 62): 4988, ('evan', 62): 4989, ('drone', 62): 4990, ('motorcycl', 62): 4991, ('asset', 62): 4992, ('playboy', 62): 4993, ('hostil', 62): 4994, ('rapidli', 62): 4995, ('macabr', 62): 4996, ('verg', 62): 4997, ('ingrid', 62): 4998, ('frontal', 62): 4999}\n"
     ]
    }
   ],
   "source": [
    "#print(train_X[1][1:10])\n",
    "word_dict = build_dict(train_X)\n",
    "print(word_dict)"
   ]
  },
  {
   "cell_type": "markdown",
   "metadata": {},
   "source": [
    "**Question:** What are the five most frequently appearing (tokenized) words in the training set? Does it makes sense that these words appear frequently in the training set?"
   ]
  },
  {
   "cell_type": "markdown",
   "metadata": {},
   "source": [
    "**Answer:** Five Most frequenctly appearing words are:\n",
    "(a) movi\n",
    "(b) film\n",
    "(c) one\n",
    "(d) like\n",
    "(e) time\n",
    "\n",
    "The frequncy occurrent of the above words can be justified, for some but not for all.\n",
    "As its movie review, so its more likely that people will start their review with words like: \"this move is ...\" or \"I really like this movie\" \"this film is great\" etc.\n",
    "\n",
    "But the occurrent of word like one, and time are not justifiable enough. I wonder why these occur so many times."
   ]
  },
  {
   "cell_type": "code",
   "execution_count": 91,
   "metadata": {},
   "outputs": [
    {
     "name": "stdout",
     "output_type": "stream",
     "text": [
      "movi 51695\n",
      "film 48190\n",
      "one 27741\n",
      "like 22799\n",
      "time 16191\n"
     ]
    }
   ],
   "source": [
    "# TODO: Use this space to determine the five most frequently appearing words in the training set.\n",
    "x=0\n",
    "\n",
    "for key, value in word_dict:\n",
    "    if x >= 5:\n",
    "        break;\n",
    "    else:        \n",
    "        print(key,value)\n",
    "        x=x+1"
   ]
  },
  {
   "cell_type": "markdown",
   "metadata": {},
   "source": [
    "### Save `word_dict`\n",
    "\n",
    "Later on when we construct an endpoint which processes a submitted review we will need to make use of the `word_dict` which we have created. As such, we will save it to a file now for future use."
   ]
  },
  {
   "cell_type": "code",
   "execution_count": 92,
   "metadata": {},
   "outputs": [],
   "source": [
    "data_dir = '../data/pytorch' # The folder we will use for storing data\n",
    "if not os.path.exists(data_dir): # Make sure that the folder exists\n",
    "    os.makedirs(data_dir)"
   ]
  },
  {
   "cell_type": "code",
   "execution_count": 93,
   "metadata": {},
   "outputs": [],
   "source": [
    "with open(os.path.join(data_dir, 'word_dict.pkl'), \"wb\") as f:\n",
    "    pickle.dump(word_dict, f)"
   ]
  },
  {
   "cell_type": "markdown",
   "metadata": {},
   "source": [
    "### Transform the reviews\n",
    "\n",
    "Now that we have our word dictionary which allows us to transform the words appearing in the reviews into integers, it is time to make use of it and convert our reviews to their integer sequence representation, making sure to pad or truncate to a fixed length, which in our case is `500`."
   ]
  },
  {
   "cell_type": "code",
   "execution_count": 118,
   "metadata": {},
   "outputs": [],
   "source": [
    "def convert_and_pad(word_dict, sentence, pad=500):\n",
    "    NOWORD = 0 # We will use 0 to represent the 'no word' category\n",
    "    INFREQ = 1 # and we use 1 to represent the infrequent words, i.e., words not appearing in word_dict\n",
    "    print(\"INside convert and pad\")\n",
    "    working_sentence = [NOWORD] * pad\n",
    "    \n",
    "    print(sentence)\n",
    "    \n",
    "    for word_index, word in enumerate(sentence[:pad]):\n",
    "        if word in word_dict:\n",
    "            print(\"Word is in Dic\\n\")\n",
    "            print(\"word: \",word, \"word_index: \",word_index);\n",
    "            print(word)\n",
    "            working_sentence[word_index] = word_dict[word]\n",
    "        else:\n",
    "            print(\"WORD NOT FOUND\\n\")\n",
    "            working_sentence[word_index] = INFREQ\n",
    "            \n",
    "    return working_sentence, min(len(sentence), pad)\n",
    "\n",
    "def convert_and_pad_data(word_dict, data, pad=500):\n",
    "    result = []\n",
    "    lengths = []\n",
    "    \n",
    "   # print(word_dict)\n",
    "   # print(data[:10])\n",
    "    \n",
    "    for sentence in data:\n",
    "        converted, leng = convert_and_pad(word_dict, sentence, pad)\n",
    "        result.append(converted)\n",
    "        lengths.append(leng)\n",
    "        \n",
    "    return np.array(result), np.array(lengths)"
   ]
  },
  {
   "cell_type": "code",
   "execution_count": 126,
   "metadata": {},
   "outputs": [
    {
     "name": "stdout",
     "output_type": "stream",
     "text": [
      "['subject', 'latest', 'adman', 'turn', 'movieman', 'tri', 'tackl', 'debut', 'ad', 'ventur', 'quit', 'age', 'old', 'topic', 'discuss', 'almost', 'cultur', 'standard', 'timeless', 'romanc', 'pun', 'intend', 'howev', 'explor', 'exploit', 'desi', 'aud', 'fall', 'woefulli', 'short', 'usual', 'inclin', 'pepper', 'spice', 'sugar', 'usual', 'masala', 'mix', 'b', 'g', 'score', 'dialog', 'danc', 'drama', 'etc', 'creat', 'nice', 'look', 'packag', 'much', 'insid', 'first', '40', 'minut', 'movi', 'kitchen', 'scene', 'repeat', 'least', '8', '9', 'time', 'repeat', 'follow', 'thru', 'movi', 'lead', 'charact', 'cook', 'therein', 'lie', 'le', 'problemo', 'stori', 'hah', 'wonder', 'someon', 'forgot', 'write', 'script', 'amitabh', 'put', 'cheeni', 'jyada', 'amount', 'act', 'realli', 'guy', 'ever', 'gonna', 'stop', 'mani', '60', 'someth', 'pranc', 'around', 'like', 'even', 'teas', 'nubil', '30', 'someth', 'timeless', 'mind', 'ye', 'sure', 'ageless', 'bod', 'sole', 'sorri', 'soul', 'reason', 'good', 'act', 'paresh', 'rawal', 'sensibl', 'role', 'film', 'director', 'lack', 'sens', 'realism', 'get', 'caught', 'new', 'fangl', 'discoveri', 'hot', 'new', 'idea', 'nowher', 'present', 'real', 'life', 'problem', 'issu', 'pair', 'might', 'face', 'actual', 'get', 'marri', 'initi', 'obstacl', 'sub', 'plot', 'littl', 'kid', 'cancer', 'bachelor', 'boy', 'first', 'love', 'goe', 'nowher', 'whatev', 'littl', 'bit', 'poignanc', 'otherwis', 'insipid', 'present', 'would', 'evok', 'quickli', 'kill', 'along', 'girl', 'charact', 'anyway', 'nice', 'tri', 'quit', 'yet']\n",
      "[1 1 1 1 1 1 1 0 0 0 0 0 0 0 0 0 0 0 0 0 0 0 0 0 0 0 0 0 0 0 0 0 0 0 0 0 0\n",
      " 0 0 0 0 0 0 0 0 0 0 0 0 0 0 0 0 0 0 0 0 0 0 0 0 0 0 0 0 0 0 0 0 0 0 0 0 0\n",
      " 0 0 0 0 0 0 0 0 0 0 0 0 0 0 0 0 0 0 0 0 0 0 0 0 0 0 0 0 0 0 0 0 0 0 0 0 0\n",
      " 0 0 0 0 0 0 0 0 0 0 0 0 0 0 0 0 0 0 0 0 0 0 0 0 0 0 0 0 0 0 0 0 0 0 0 0 0\n",
      " 0 0 0 0 0 0 0 0 0 0 0 0 0 0 0 0 0 0 0 0 0 0 0 0 0 0 0 0 0 0 0 0 0 0 0 0 0\n",
      " 0 0 0 0 0 0 0 0 0 0 0 0 0 0 0 0 0 0 0 0 0 0 0 0 0 0 0 0 0 0 0 0 0 0 0 0 0\n",
      " 0 0 0 0 0 0 0 0 0 0 0 0 0 0 0 0 0 0 0 0 0 0 0 0 0 0 0 0 0 0 0 0 0 0 0 0 0\n",
      " 0 0 0 0 0 0 0 0 0 0 0 0 0 0 0 0 0 0 0 0 0 0 0 0 0 0 0 0 0 0 0 0 0 0 0 0 0\n",
      " 0 0 0 0 0 0 0 0 0 0 0 0 0 0 0 0 0 0 0 0 0 0 0 0 0 0 0 0 0 0 0 0 0 0 0 0 0\n",
      " 0 0 0 0 0 0 0 0 0 0 0 0 0 0 0 0 0 0 0 0 0 0 0 0 0 0 0 0 0 0 0 0 0 0 0 0 0\n",
      " 0 0 0 0 0 0 0 0 0 0 0 0 0 0 0 0 0 0 0 0 0 0 0 0 0 0 0 0 0 0 0 0 0 0 0 0 0\n",
      " 0 0 0 0 0 0 0 0 0 0 0 0 0 0 0 0 0 0 0 0 0 0 0 0 0 0 0 0 0 0 0 0 0 0 0 0 0\n",
      " 0 0 0 0 0 0 0 0 0 0 0 0 0 0 0 0 0 0 0 0 0 0 0 0 0 0 0 0 0 0 0 0 0 0 0 0 0\n",
      " 0 0 0 0 0 0 0 0 0 0 0 0 0 0 0 0 0 0 0]\n",
      "CHeck Presence in Dictionary\n",
      "\n",
      "NOT_FOUND\n"
     ]
    }
   ],
   "source": [
    "print(train_X[0])\n",
    "#train_X, train_X_len = convert_and_pad_data(word_dict, train_X)\n",
    "#test_X, test_X_len = convert_and_pad_data(word_dict, test_X)\n",
    "\n",
    "#train_1,train_1_len = convert_and_pad_data(word_dict,train_X)\n",
    "\n",
    "print(train_1[0])\n",
    "\n",
    "print(\"CHeck Presence in Dictionary\\n\");\n",
    "\n",
    "temp = \"movi\"\n",
    "if temp in word_dict:\n",
    "    print(\"FOUND!\")\n",
    "else:\n",
    "    print(\"NOT_FOUND\")\n",
    "    \n"
   ]
  },
  {
   "cell_type": "markdown",
   "metadata": {},
   "source": [
    "As a quick check to make sure that things are working as intended, check to see what one of the reviews in the training set looks like after having been processeed. Does this look reasonable? What is the length of a review in the training set?"
   ]
  },
  {
   "cell_type": "code",
   "execution_count": 96,
   "metadata": {},
   "outputs": [
    {
     "name": "stdout",
     "output_type": "stream",
     "text": [
      "[1 1 1 1 1 1 1 1 1 1 1 1 1 1 1 1 1 1 1 1 1 1 1 1 1 1 1 1 1 1 1 1 1 1 1 1 1\n",
      " 1 1 1 1 1 1 1 1 1 1 1 1 1 1 1 1 1 1 1 1 1 1 1 1 1 1 1 1 1 1 1 1 1 1 1 1 1\n",
      " 1 1 1 1 1 1 1 1 1 1 1 1 1 1 1 1 1 1 1 1 1 1 1 1 1 1 1 1 1 1 1 1 1 1 1 1 1\n",
      " 1 1 1 1 1 1 1 1 1 1 1 1 1 1 1 1 1 1 1 1 1 1 1 1 1 1 1 1 1 1 1 1 1 1 1 1 1\n",
      " 1 1 1 1 1 1 1 1 1 1 1 1 1 1 1 1 1 1 1 1 1 1 1 1 1 1 1 0 0 0 0 0 0 0 0 0 0\n",
      " 0 0 0 0 0 0 0 0 0 0 0 0 0 0 0 0 0 0 0 0 0 0 0 0 0 0 0 0 0 0 0 0 0 0 0 0 0\n",
      " 0 0 0 0 0 0 0 0 0 0 0 0 0 0 0 0 0 0 0 0 0 0 0 0 0 0 0 0 0 0 0 0 0 0 0 0 0\n",
      " 0 0 0 0 0 0 0 0 0 0 0 0 0 0 0 0 0 0 0 0 0 0 0 0 0 0 0 0 0 0 0 0 0 0 0 0 0\n",
      " 0 0 0 0 0 0 0 0 0 0 0 0 0 0 0 0 0 0 0 0 0 0 0 0 0 0 0 0 0 0 0 0 0 0 0 0 0\n",
      " 0 0 0 0 0 0 0 0 0 0 0 0 0 0 0 0 0 0 0 0 0 0 0 0 0 0 0 0 0 0 0 0 0 0 0 0 0\n",
      " 0 0 0 0 0 0 0 0 0 0 0 0 0 0 0 0 0 0 0 0 0 0 0 0 0 0 0 0 0 0 0 0 0 0 0 0 0\n",
      " 0 0 0 0 0 0 0 0 0 0 0 0 0 0 0 0 0 0 0 0 0 0 0 0 0 0 0 0 0 0 0 0 0 0 0 0 0\n",
      " 0 0 0 0 0 0 0 0 0 0 0 0 0 0 0 0 0 0 0 0 0 0 0 0 0 0 0 0 0 0 0 0 0 0 0 0 0\n",
      " 0 0 0 0 0 0 0 0 0 0 0 0 0 0 0 0 0 0 0]\n"
     ]
    }
   ],
   "source": [
    "# Use this cell to examine one of the processed reviews to make sure everything is working as intended.\n",
    "print(train_X[0])"
   ]
  },
  {
   "cell_type": "markdown",
   "metadata": {},
   "source": [
    "**Question:** In the cells above we use the `preprocess_data` and `convert_and_pad_data` methods to process both the training and testing set. Why or why not might this be a problem?"
   ]
  },
  {
   "cell_type": "markdown",
   "metadata": {},
   "source": [
    "**Answer:** Since longer data will be trancated. That could be a problme."
   ]
  },
  {
   "cell_type": "markdown",
   "metadata": {},
   "source": [
    "## Step 3: Upload the data to S3\n",
    "\n",
    "As in the XGBoost notebook, we will need to upload the training dataset to S3 in order for our training code to access it. For now we will save it locally and we will upload to S3 later on.\n",
    "\n",
    "### Save the processed training dataset locally\n",
    "\n",
    "It is important to note the format of the data that we are saving as we will need to know it when we write the training code. In our case, each row of the dataset has the form `label`, `length`, `review[500]` where `review[500]` is a sequence of `500` integers representing the words in the review."
   ]
  },
  {
   "cell_type": "code",
   "execution_count": 20,
   "metadata": {},
   "outputs": [],
   "source": [
    "import pandas as pd\n",
    "    \n",
    "pd.concat([pd.DataFrame(train_y), pd.DataFrame(train_X_len), pd.DataFrame(train_X)], axis=1) \\\n",
    "        .to_csv(os.path.join(data_dir, 'train.csv'), header=False, index=False)"
   ]
  },
  {
   "cell_type": "markdown",
   "metadata": {},
   "source": [
    "### Uploading the training data\n",
    "\n",
    "\n",
    "Next, we need to upload the training data to the SageMaker default S3 bucket so that we can provide access to it while training our model."
   ]
  },
  {
   "cell_type": "code",
   "execution_count": 21,
   "metadata": {},
   "outputs": [],
   "source": [
    "import sagemaker\n",
    "\n",
    "sagemaker_session = sagemaker.Session()\n",
    "\n",
    "bucket = sagemaker_session.default_bucket()\n",
    "prefix = 'sagemaker/sentiment_rnn'\n",
    "\n",
    "role = sagemaker.get_execution_role()"
   ]
  },
  {
   "cell_type": "code",
   "execution_count": 22,
   "metadata": {},
   "outputs": [],
   "source": [
    "input_data = sagemaker_session.upload_data(path=data_dir, bucket=bucket, key_prefix=prefix)"
   ]
  },
  {
   "cell_type": "markdown",
   "metadata": {},
   "source": [
    "**NOTE:** The cell above uploads the entire contents of our data directory. This includes the `word_dict.pkl` file. This is fortunate as we will need this later on when we create an endpoint that accepts an arbitrary review. For now, we will just take note of the fact that it resides in the data directory (and so also in the S3 training bucket) and that we will need to make sure it gets saved in the model directory."
   ]
  },
  {
   "cell_type": "markdown",
   "metadata": {},
   "source": [
    "## Step 4: Build and Train the PyTorch Model\n",
    "\n",
    "In the XGBoost notebook we discussed what a model is in the SageMaker framework. In particular, a model comprises three objects\n",
    "\n",
    " - Model Artifacts,\n",
    " - Training Code, and\n",
    " - Inference Code,\n",
    " \n",
    "each of which interact with one another. In the XGBoost example we used training and inference code that was provided by Amazon. Here we will still be using containers provided by Amazon with the added benefit of being able to include our own custom code.\n",
    "\n",
    "We will start by implementing our own neural network in PyTorch along with a training script. For the purposes of this project we have provided the necessary model object in the `model.py` file, inside of the `train` folder. You can see the provided implementation by running the cell below."
   ]
  },
  {
   "cell_type": "code",
   "execution_count": 24,
   "metadata": {},
   "outputs": [
    {
     "name": "stdout",
     "output_type": "stream",
     "text": [
      "\u001b[34mimport\u001b[39;49;00m \u001b[04m\u001b[36mtorch.nn\u001b[39;49;00m \u001b[34mas\u001b[39;49;00m \u001b[04m\u001b[36mnn\u001b[39;49;00m\r\n",
      "\r\n",
      "\u001b[34mclass\u001b[39;49;00m \u001b[04m\u001b[32mLSTMClassifier\u001b[39;49;00m(nn.Module):\r\n",
      "    \u001b[33m\"\"\"\u001b[39;49;00m\r\n",
      "\u001b[33m    This is the simple RNN model we will be using to perform Sentiment Analysis.\u001b[39;49;00m\r\n",
      "\u001b[33m    \"\"\"\u001b[39;49;00m\r\n",
      "\r\n",
      "    \u001b[34mdef\u001b[39;49;00m \u001b[32m__init__\u001b[39;49;00m(\u001b[36mself\u001b[39;49;00m, embedding_dim, hidden_dim, vocab_size):\r\n",
      "        \u001b[33m\"\"\"\u001b[39;49;00m\r\n",
      "\u001b[33m        Initialize the model by settingg up the various layers.\u001b[39;49;00m\r\n",
      "\u001b[33m        \"\"\"\u001b[39;49;00m\r\n",
      "        \u001b[36msuper\u001b[39;49;00m(LSTMClassifier, \u001b[36mself\u001b[39;49;00m).\u001b[32m__init__\u001b[39;49;00m()\r\n",
      "\r\n",
      "        \u001b[36mself\u001b[39;49;00m.embedding = nn.Embedding(vocab_size, embedding_dim, padding_idx=\u001b[34m0\u001b[39;49;00m)\r\n",
      "        \u001b[36mself\u001b[39;49;00m.lstm = nn.LSTM(embedding_dim, hidden_dim)\r\n",
      "        \u001b[36mself\u001b[39;49;00m.dense = nn.Linear(in_features=hidden_dim, out_features=\u001b[34m1\u001b[39;49;00m)\r\n",
      "        \u001b[36mself\u001b[39;49;00m.sig = nn.Sigmoid()\r\n",
      "        \r\n",
      "        \u001b[36mself\u001b[39;49;00m.word_dict = \u001b[36mNone\u001b[39;49;00m\r\n",
      "\r\n",
      "    \u001b[34mdef\u001b[39;49;00m \u001b[32mforward\u001b[39;49;00m(\u001b[36mself\u001b[39;49;00m, x):\r\n",
      "        \u001b[33m\"\"\"\u001b[39;49;00m\r\n",
      "\u001b[33m        Perform a forward pass of our model on some input.\u001b[39;49;00m\r\n",
      "\u001b[33m        \"\"\"\u001b[39;49;00m\r\n",
      "        x = x.t()\r\n",
      "        lengths = x[\u001b[34m0\u001b[39;49;00m,:]\r\n",
      "        reviews = x[\u001b[34m1\u001b[39;49;00m:,:]\r\n",
      "        embeds = \u001b[36mself\u001b[39;49;00m.embedding(reviews)\r\n",
      "        lstm_out, _ = \u001b[36mself\u001b[39;49;00m.lstm(embeds)\r\n",
      "        out = \u001b[36mself\u001b[39;49;00m.dense(lstm_out)\r\n",
      "        out = out[lengths - \u001b[34m1\u001b[39;49;00m, \u001b[36mrange\u001b[39;49;00m(\u001b[36mlen\u001b[39;49;00m(lengths))]\r\n",
      "        \u001b[34mreturn\u001b[39;49;00m \u001b[36mself\u001b[39;49;00m.sig(out.squeeze())\r\n"
     ]
    }
   ],
   "source": [
    "!pygmentize train/model.py"
   ]
  },
  {
   "cell_type": "markdown",
   "metadata": {},
   "source": [
    "The important takeaway from the implementation provided is that there are three parameters that we may wish to tweak to improve the performance of our model. These are the embedding dimension, the hidden dimension and the size of the vocabulary. We will likely want to make these parameters configurable in the training script so that if we wish to modify them we do not need to modify the script itself. We will see how to do this later on. To start we will write some of the training code in the notebook so that we can more easily diagnose any issues that arise.\n",
    "\n",
    "First we will load a small portion of the training data set to use as a sample. It would be very time consuming to try and train the model completely in the notebook as we do not have access to a gpu and the compute instance that we are using is not particularly powerful. However, we can work on a small bit of the data to get a feel for how our training script is behaving."
   ]
  },
  {
   "cell_type": "code",
   "execution_count": 29,
   "metadata": {},
   "outputs": [],
   "source": [
    "import torch\n",
    "import torch.utils.data\n",
    "\n",
    "# Read in only the first 250 rows\n",
    "train_sample = pd.read_csv(os.path.join(data_dir, 'train.csv'), header=None, names=None, nrows=250)\n",
    "\n",
    "# Turn the input pandas dataframe into tensors\n",
    "train_sample_y = torch.from_numpy(train_sample[[0]].values).float().squeeze()\n",
    "train_sample_X = torch.from_numpy(train_sample.drop([0], axis=1).values).long()\n",
    "\n",
    "# Build the dataset\n",
    "train_sample_ds = torch.utils.data.TensorDataset(train_sample_X, train_sample_y)\n",
    "# Build the dataloader\n",
    "train_sample_dl = torch.utils.data.DataLoader(train_sample_ds, batch_size=50)"
   ]
  },
  {
   "cell_type": "markdown",
   "metadata": {},
   "source": [
    "### (TODO) Writing the training method\n",
    "\n",
    "Next we need to write the training code itself. This should be very similar to training methods that you have written before to train PyTorch models. We will leave any difficult aspects such as model saving / loading and parameter loading until a little later."
   ]
  },
  {
   "cell_type": "code",
   "execution_count": 62,
   "metadata": {},
   "outputs": [],
   "source": [
    "def train(model, train_loader, epochs, optimizer, loss_fn, device):\n",
    "    for epoch in range(1, epochs + 1):\n",
    "        model.train()\n",
    "        total_loss = 0\n",
    "        for batch in train_loader:         \n",
    "            batch_X, batch_y = batch\n",
    "            \n",
    "            batch_X = batch_X.to(device)\n",
    "            batch_y = batch_y.to(device)\n",
    "            #Completed Below\n",
    "            \n",
    "            # clear the gradients of all optimized variables\n",
    "            optimizer.zero_grad()\n",
    "            \n",
    "            #Fordward Pass\n",
    "            output = model.forward(batch_X) #Pass Batch\n",
    "            loss = loss_fn(output, batch_y) #Calculate Loss\n",
    "            loss.backward() #Calculate Gradients\n",
    "            optimizer.step() #Update Weights\n",
    "            \n",
    "            # TODO: Complete this train method to train the model provided.\n",
    "            \n",
    "            \n",
    "            total_loss += loss.data.item()\n",
    "        print(\"Epoch: {}, BCELoss: {}\".format(epoch, total_loss / len(train_loader)))"
   ]
  },
  {
   "cell_type": "markdown",
   "metadata": {},
   "source": [
    "Supposing we have the training method above, we will test that it is working by writing a bit of code in the notebook that executes our training method on the small sample training set that we loaded earlier. The reason for doing this in the notebook is so that we have an opportunity to fix any errors that arise early when they are easier to diagnose."
   ]
  },
  {
   "cell_type": "code",
   "execution_count": 61,
   "metadata": {},
   "outputs": [
    {
     "name": "stdout",
     "output_type": "stream",
     "text": [
      "Epoch: 1, BCELoss: 0.7016407608985901\n",
      "Epoch: 2, BCELoss: 0.6910620927810669\n",
      "Epoch: 3, BCELoss: 0.6939424514770508\n",
      "Epoch: 4, BCELoss: 0.6948581457138061\n",
      "Epoch: 5, BCELoss: 0.6942900061607361\n"
     ]
    }
   ],
   "source": [
    "import torch.optim as optim\n",
    "from train.model import LSTMClassifier\n",
    "\n",
    "device = torch.device(\"cuda\" if torch.cuda.is_available() else \"cpu\")\n",
    "model = LSTMClassifier(32, 100, 5000).to(device)\n",
    "optimizer = optim.Adam(model.parameters())\n",
    "loss_fn = torch.nn.BCELoss()\n",
    "\n",
    "train(model, train_sample_dl, 5, optimizer, loss_fn, device)"
   ]
  },
  {
   "cell_type": "markdown",
   "metadata": {},
   "source": [
    "In order to construct a PyTorch model using SageMaker we must provide SageMaker with a training script. We may optionally include a directory which will be copied to the container and from which our training code will be run. When the training container is executed it will check the uploaded directory (if there is one) for a `requirements.txt` file and install any required Python libraries, after which the training script will be run."
   ]
  },
  {
   "cell_type": "markdown",
   "metadata": {},
   "source": [
    "### (TODO) Training the model\n",
    "\n",
    "When a PyTorch model is constructed in SageMaker, an entry point must be specified. This is the Python file which will be executed when the model is trained. Inside of the `train` directory is a file called `train.py` which has been provided and which contains most of the necessary code to train our model. The only thing that is missing is the implementation of the `train()` method which you wrote earlier in this notebook.\n",
    "\n",
    "**TODO**: Copy the `train()` method written above and paste it into the `train/train.py` file where required.\n",
    "\n",
    "The way that SageMaker passes hyperparameters to the training script is by way of arguments. These arguments can then be parsed and used in the training script. To see how this is done take a look at the provided `train/train.py` file."
   ]
  },
  {
   "cell_type": "code",
   "execution_count": 65,
   "metadata": {},
   "outputs": [],
   "source": [
    "from sagemaker.pytorch import PyTorch\n",
    "\n",
    "estimator = PyTorch(entry_point=\"train.py\",\n",
    "                    source_dir=\"train\",\n",
    "                    role=role,\n",
    "                    framework_version='0.4.0',\n",
    "                    train_instance_count=1,\n",
    "                    train_instance_type='ml.p2.xlarge',\n",
    "                    hyperparameters={\n",
    "                        'epochs': 10,\n",
    "                        'hidden_dim': 200,\n",
    "                    })"
   ]
  },
  {
   "cell_type": "code",
   "execution_count": 66,
   "metadata": {},
   "outputs": [
    {
     "name": "stdout",
     "output_type": "stream",
     "text": [
      "2020-05-13 03:25:03 Starting - Starting the training job...\n",
      "2020-05-13 03:25:05 Starting - Launching requested ML instances......\n",
      "2020-05-13 03:26:03 Starting - Preparing the instances for training......\n",
      "2020-05-13 03:27:13 Downloading - Downloading input data...\n",
      "2020-05-13 03:27:48 Training - Downloading the training image...\n",
      "2020-05-13 03:28:19 Training - Training image download completed. Training in progress.\u001b[34mbash: cannot set terminal process group (-1): Inappropriate ioctl for device\u001b[0m\n",
      "\u001b[34mbash: no job control in this shell\u001b[0m\n",
      "\u001b[34m2020-05-13 03:28:19,840 sagemaker-containers INFO     Imported framework sagemaker_pytorch_container.training\u001b[0m\n",
      "\u001b[34m2020-05-13 03:28:19,865 sagemaker_pytorch_container.training INFO     Block until all host DNS lookups succeed.\u001b[0m\n",
      "\u001b[34m2020-05-13 03:28:21,277 sagemaker_pytorch_container.training INFO     Invoking user training script.\u001b[0m\n",
      "\u001b[34m2020-05-13 03:28:21,506 sagemaker-containers INFO     Module train does not provide a setup.py. \u001b[0m\n",
      "\u001b[34mGenerating setup.py\u001b[0m\n",
      "\u001b[34m2020-05-13 03:28:21,506 sagemaker-containers INFO     Generating setup.cfg\u001b[0m\n",
      "\u001b[34m2020-05-13 03:28:21,506 sagemaker-containers INFO     Generating MANIFEST.in\u001b[0m\n",
      "\u001b[34m2020-05-13 03:28:21,506 sagemaker-containers INFO     Installing module with the following command:\u001b[0m\n",
      "\u001b[34m/usr/bin/python -m pip install -U . -r requirements.txt\u001b[0m\n",
      "\u001b[34mProcessing /opt/ml/code\u001b[0m\n",
      "\u001b[34mCollecting pandas (from -r requirements.txt (line 1))\n",
      "  Downloading https://files.pythonhosted.org/packages/74/24/0cdbf8907e1e3bc5a8da03345c23cbed7044330bb8f73bb12e711a640a00/pandas-0.24.2-cp35-cp35m-manylinux1_x86_64.whl (10.0MB)\u001b[0m\n",
      "\u001b[34mCollecting numpy (from -r requirements.txt (line 2))\n",
      "  Downloading https://files.pythonhosted.org/packages/38/92/fa5295d9755c7876cb8490eab866e1780154033fa45978d9cf74ffbd4c68/numpy-1.18.4-cp35-cp35m-manylinux1_x86_64.whl (20.0MB)\u001b[0m\n",
      "\u001b[34mCollecting nltk (from -r requirements.txt (line 3))\n",
      "  Downloading https://files.pythonhosted.org/packages/92/75/ce35194d8e3022203cca0d2f896dbb88689f9b3fce8e9f9cff942913519d/nltk-3.5.zip (1.4MB)\u001b[0m\n",
      "\u001b[34mCollecting beautifulsoup4 (from -r requirements.txt (line 4))\n",
      "  Downloading https://files.pythonhosted.org/packages/e8/b5/7bb03a696f2c9b7af792a8f51b82974e51c268f15e925fc834876a4efa0b/beautifulsoup4-4.9.0-py3-none-any.whl (109kB)\u001b[0m\n",
      "\u001b[34mCollecting html5lib (from -r requirements.txt (line 5))\n",
      "  Downloading https://files.pythonhosted.org/packages/a5/62/bbd2be0e7943ec8504b517e62bab011b4946e1258842bc159e5dfde15b96/html5lib-1.0.1-py2.py3-none-any.whl (117kB)\u001b[0m\n",
      "\u001b[34mRequirement already satisfied, skipping upgrade: python-dateutil>=2.5.0 in /usr/local/lib/python3.5/dist-packages (from pandas->-r requirements.txt (line 1)) (2.7.5)\u001b[0m\n",
      "\u001b[34mCollecting pytz>=2011k (from pandas->-r requirements.txt (line 1))\n",
      "  Downloading https://files.pythonhosted.org/packages/4f/a4/879454d49688e2fad93e59d7d4efda580b783c745fd2ec2a3adf87b0808d/pytz-2020.1-py2.py3-none-any.whl (510kB)\u001b[0m\n",
      "\u001b[34mRequirement already satisfied, skipping upgrade: click in /usr/local/lib/python3.5/dist-packages (from nltk->-r requirements.txt (line 3)) (7.0)\u001b[0m\n",
      "\u001b[34mCollecting joblib (from nltk->-r requirements.txt (line 3))\n",
      "  Downloading https://files.pythonhosted.org/packages/28/5c/cf6a2b65a321c4a209efcdf64c2689efae2cb62661f8f6f4bb28547cf1bf/joblib-0.14.1-py2.py3-none-any.whl (294kB)\u001b[0m\n",
      "\u001b[34mCollecting regex (from nltk->-r requirements.txt (line 3))\n",
      "  Downloading https://files.pythonhosted.org/packages/83/79/1a6a3996e2c607c094fb263d7227f7790544bc207cc39ee3640862c7732d/regex-2020.5.7.tar.gz (696kB)\u001b[0m\n",
      "\u001b[34mCollecting tqdm (from nltk->-r requirements.txt (line 3))\n",
      "  Downloading https://files.pythonhosted.org/packages/c9/40/058b12e8ba10e35f89c9b1fdfc2d4c7f8c05947df2d5eb3c7b258019fda0/tqdm-4.46.0-py2.py3-none-any.whl (63kB)\u001b[0m\n",
      "\u001b[34mCollecting soupsieve>1.2 (from beautifulsoup4->-r requirements.txt (line 4))\n",
      "  Downloading https://files.pythonhosted.org/packages/05/cf/ea245e52f55823f19992447b008bcbb7f78efc5960d77f6c34b5b45b36dd/soupsieve-2.0-py2.py3-none-any.whl\u001b[0m\n",
      "\u001b[34mCollecting webencodings (from html5lib->-r requirements.txt (line 5))\n",
      "  Downloading https://files.pythonhosted.org/packages/f4/24/2a3e3df732393fed8b3ebf2ec078f05546de641fe1b667ee316ec1dcf3b7/webencodings-0.5.1-py2.py3-none-any.whl\u001b[0m\n",
      "\u001b[34mRequirement already satisfied, skipping upgrade: six>=1.9 in /usr/local/lib/python3.5/dist-packages (from html5lib->-r requirements.txt (line 5)) (1.11.0)\u001b[0m\n",
      "\u001b[34mBuilding wheels for collected packages: nltk, train, regex\n",
      "  Running setup.py bdist_wheel for nltk: started\u001b[0m\n",
      "\u001b[34m  Running setup.py bdist_wheel for nltk: finished with status 'done'\n",
      "  Stored in directory: /root/.cache/pip/wheels/ae/8c/3f/b1fe0ba04555b08b57ab52ab7f86023639a526d8bc8d384306\n",
      "  Running setup.py bdist_wheel for train: started\n",
      "  Running setup.py bdist_wheel for train: finished with status 'done'\n",
      "  Stored in directory: /tmp/pip-ephem-wheel-cache-9fmi74bj/wheels/35/24/16/37574d11bf9bde50616c67372a334f94fa8356bc7164af8ca3\n",
      "  Running setup.py bdist_wheel for regex: started\u001b[0m\n",
      "\u001b[34m  Running setup.py bdist_wheel for regex: finished with status 'done'\n",
      "  Stored in directory: /root/.cache/pip/wheels/36/4e/64/4e7c641b7b627b20ccd0ee7067628313fbddf9c8b885212bbc\u001b[0m\n",
      "\u001b[34mSuccessfully built nltk train regex\u001b[0m\n",
      "\u001b[34mInstalling collected packages: numpy, pytz, pandas, joblib, regex, tqdm, nltk, soupsieve, beautifulsoup4, webencodings, html5lib, train\n",
      "  Found existing installation: numpy 1.15.4\n",
      "    Uninstalling numpy-1.15.4:\u001b[0m\n",
      "\u001b[34m      Successfully uninstalled numpy-1.15.4\u001b[0m\n",
      "\u001b[34mSuccessfully installed beautifulsoup4-4.9.0 html5lib-1.0.1 joblib-0.14.1 nltk-3.5 numpy-1.18.4 pandas-0.24.2 pytz-2020.1 regex-2020.5.7 soupsieve-2.0 tqdm-4.46.0 train-1.0.0 webencodings-0.5.1\u001b[0m\n",
      "\u001b[34mYou are using pip version 18.1, however version 20.1 is available.\u001b[0m\n",
      "\u001b[34mYou should consider upgrading via the 'pip install --upgrade pip' command.\u001b[0m\n",
      "\u001b[34m2020-05-13 03:28:43,348 sagemaker-containers INFO     Invoking user script\n",
      "\u001b[0m\n",
      "\u001b[34mTraining Env:\n",
      "\u001b[0m\n",
      "\u001b[34m{\n",
      "    \"num_gpus\": 1,\n",
      "    \"output_intermediate_dir\": \"/opt/ml/output/intermediate\",\n",
      "    \"additional_framework_parameters\": {},\n",
      "    \"hyperparameters\": {\n",
      "        \"hidden_dim\": 200,\n",
      "        \"epochs\": 10\n",
      "    },\n",
      "    \"output_dir\": \"/opt/ml/output\",\n",
      "    \"input_config_dir\": \"/opt/ml/input/config\",\n",
      "    \"job_name\": \"sagemaker-pytorch-2020-05-13-03-25-02-886\",\n",
      "    \"hosts\": [\n",
      "        \"algo-1\"\n",
      "    ],\n",
      "    \"user_entry_point\": \"train.py\",\n",
      "    \"input_data_config\": {\n",
      "        \"training\": {\n",
      "            \"S3DistributionType\": \"FullyReplicated\",\n",
      "            \"RecordWrapperType\": \"None\",\n",
      "            \"TrainingInputMode\": \"File\"\n",
      "        }\n",
      "    },\n",
      "    \"current_host\": \"algo-1\",\n",
      "    \"resource_config\": {\n",
      "        \"hosts\": [\n",
      "            \"algo-1\"\n",
      "        ],\n",
      "        \"network_interface_name\": \"eth0\",\n",
      "        \"current_host\": \"algo-1\"\n",
      "    },\n",
      "    \"log_level\": 20,\n",
      "    \"num_cpus\": 4,\n",
      "    \"network_interface_name\": \"eth0\",\n",
      "    \"module_dir\": \"s3://sagemaker-ap-south-1-357026092760/sagemaker-pytorch-2020-05-13-03-25-02-886/source/sourcedir.tar.gz\",\n",
      "    \"model_dir\": \"/opt/ml/model\",\n",
      "    \"channel_input_dirs\": {\n",
      "        \"training\": \"/opt/ml/input/data/training\"\n",
      "    },\n",
      "    \"module_name\": \"train\",\n",
      "    \"output_data_dir\": \"/opt/ml/output/data\",\n",
      "    \"input_dir\": \"/opt/ml/input\",\n",
      "    \"framework_module\": \"sagemaker_pytorch_container.training:main\"\u001b[0m\n",
      "\u001b[34m}\n",
      "\u001b[0m\n",
      "\u001b[34mEnvironment variables:\n",
      "\u001b[0m\n",
      "\u001b[34mSM_NETWORK_INTERFACE_NAME=eth0\u001b[0m\n",
      "\u001b[34mSM_CHANNELS=[\"training\"]\u001b[0m\n",
      "\u001b[34mSM_MODULE_DIR=s3://sagemaker-ap-south-1-357026092760/sagemaker-pytorch-2020-05-13-03-25-02-886/source/sourcedir.tar.gz\u001b[0m\n",
      "\u001b[34mSM_OUTPUT_DATA_DIR=/opt/ml/output/data\u001b[0m\n",
      "\u001b[34mSM_CHANNEL_TRAINING=/opt/ml/input/data/training\u001b[0m\n",
      "\u001b[34mSM_OUTPUT_INTERMEDIATE_DIR=/opt/ml/output/intermediate\u001b[0m\n",
      "\u001b[34mSM_INPUT_DIR=/opt/ml/input\u001b[0m\n",
      "\u001b[34mSM_HP_HIDDEN_DIM=200\u001b[0m\n",
      "\u001b[34mSM_MODEL_DIR=/opt/ml/model\u001b[0m\n",
      "\u001b[34mPYTHONPATH=/usr/local/bin:/usr/lib/python35.zip:/usr/lib/python3.5:/usr/lib/python3.5/plat-x86_64-linux-gnu:/usr/lib/python3.5/lib-dynload:/usr/local/lib/python3.5/dist-packages:/usr/lib/python3/dist-packages\u001b[0m\n",
      "\u001b[34mSM_NUM_CPUS=4\u001b[0m\n",
      "\u001b[34mSM_CURRENT_HOST=algo-1\u001b[0m\n",
      "\u001b[34mSM_OUTPUT_DIR=/opt/ml/output\u001b[0m\n",
      "\u001b[34mSM_FRAMEWORK_MODULE=sagemaker_pytorch_container.training:main\u001b[0m\n",
      "\u001b[34mSM_HPS={\"epochs\":10,\"hidden_dim\":200}\u001b[0m\n",
      "\u001b[34mSM_INPUT_DATA_CONFIG={\"training\":{\"RecordWrapperType\":\"None\",\"S3DistributionType\":\"FullyReplicated\",\"TrainingInputMode\":\"File\"}}\u001b[0m\n",
      "\u001b[34mSM_LOG_LEVEL=20\u001b[0m\n",
      "\u001b[34mSM_NUM_GPUS=1\u001b[0m\n",
      "\u001b[34mSM_MODULE_NAME=train\u001b[0m\n",
      "\u001b[34mSM_USER_ENTRY_POINT=train.py\u001b[0m\n",
      "\u001b[34mSM_INPUT_CONFIG_DIR=/opt/ml/input/config\u001b[0m\n",
      "\u001b[34mSM_HP_EPOCHS=10\u001b[0m\n",
      "\u001b[34mSM_TRAINING_ENV={\"additional_framework_parameters\":{},\"channel_input_dirs\":{\"training\":\"/opt/ml/input/data/training\"},\"current_host\":\"algo-1\",\"framework_module\":\"sagemaker_pytorch_container.training:main\",\"hosts\":[\"algo-1\"],\"hyperparameters\":{\"epochs\":10,\"hidden_dim\":200},\"input_config_dir\":\"/opt/ml/input/config\",\"input_data_config\":{\"training\":{\"RecordWrapperType\":\"None\",\"S3DistributionType\":\"FullyReplicated\",\"TrainingInputMode\":\"File\"}},\"input_dir\":\"/opt/ml/input\",\"job_name\":\"sagemaker-pytorch-2020-05-13-03-25-02-886\",\"log_level\":20,\"model_dir\":\"/opt/ml/model\",\"module_dir\":\"s3://sagemaker-ap-south-1-357026092760/sagemaker-pytorch-2020-05-13-03-25-02-886/source/sourcedir.tar.gz\",\"module_name\":\"train\",\"network_interface_name\":\"eth0\",\"num_cpus\":4,\"num_gpus\":1,\"output_data_dir\":\"/opt/ml/output/data\",\"output_dir\":\"/opt/ml/output\",\"output_intermediate_dir\":\"/opt/ml/output/intermediate\",\"resource_config\":{\"current_host\":\"algo-1\",\"hosts\":[\"algo-1\"],\"network_interface_name\":\"eth0\"},\"user_entry_point\":\"train.py\"}\u001b[0m\n",
      "\u001b[34mSM_USER_ARGS=[\"--epochs\",\"10\",\"--hidden_dim\",\"200\"]\u001b[0m\n",
      "\u001b[34mSM_HOSTS=[\"algo-1\"]\u001b[0m\n",
      "\u001b[34mSM_FRAMEWORK_PARAMS={}\u001b[0m\n",
      "\u001b[34mSM_RESOURCE_CONFIG={\"current_host\":\"algo-1\",\"hosts\":[\"algo-1\"],\"network_interface_name\":\"eth0\"}\n",
      "\u001b[0m\n",
      "\u001b[34mInvoking script with the following command:\n",
      "\u001b[0m\n",
      "\u001b[34m/usr/bin/python -m train --epochs 10 --hidden_dim 200\n",
      "\n",
      "\u001b[0m\n",
      "\u001b[34mUsing device cuda.\u001b[0m\n",
      "\u001b[34mGet train data loader.\u001b[0m\n"
     ]
    },
    {
     "name": "stdout",
     "output_type": "stream",
     "text": [
      "\u001b[34mModel loaded with embedding_dim 32, hidden_dim 200, vocab_size 5000.\u001b[0m\n",
      "\u001b[34mEpoch: 1, BCELoss: 0.6937420465508286\u001b[0m\n",
      "\u001b[34mEpoch: 2, BCELoss: 0.693499717177177\u001b[0m\n",
      "\u001b[34mEpoch: 3, BCELoss: 0.6934260202913868\u001b[0m\n",
      "\u001b[34mEpoch: 4, BCELoss: 0.6933125975180645\u001b[0m\n",
      "\u001b[34mEpoch: 5, BCELoss: 0.693286521094186\u001b[0m\n",
      "\u001b[34mEpoch: 6, BCELoss: 0.6932688975820736\u001b[0m\n",
      "\u001b[34mEpoch: 7, BCELoss: 0.6932555254624815\u001b[0m\n",
      "\u001b[34mEpoch: 8, BCELoss: 0.6932450593734274\u001b[0m\n",
      "\u001b[34mEpoch: 9, BCELoss: 0.6932366514692501\u001b[0m\n",
      "\u001b[34mEpoch: 10, BCELoss: 0.6932297507110907\u001b[0m\n",
      "\u001b[34m2020-05-13 03:32:12,978 sagemaker-containers INFO     Reporting training SUCCESS\u001b[0m\n",
      "\n",
      "2020-05-13 03:32:23 Uploading - Uploading generated training model\n",
      "2020-05-13 03:32:23 Completed - Training job completed\n",
      "Training seconds: 310\n",
      "Billable seconds: 310\n"
     ]
    }
   ],
   "source": [
    "estimator.fit({'training': input_data})"
   ]
  },
  {
   "cell_type": "markdown",
   "metadata": {},
   "source": [
    "## Step 5: Testing the model\n",
    "\n",
    "As mentioned at the top of this notebook, we will be testing this model by first deploying it and then sending the testing data to the deployed endpoint. We will do this so that we can make sure that the deployed model is working correctly.\n",
    "\n",
    "## Step 6: Deploy the model for testing\n",
    "\n",
    "Now that we have trained our model, we would like to test it to see how it performs. Currently our model takes input of the form `review_length, review[500]` where `review[500]` is a sequence of `500` integers which describe the words present in the review, encoded using `word_dict`. Fortunately for us, SageMaker provides built-in inference code for models with simple inputs such as this.\n",
    "\n",
    "There is one thing that we need to provide, however, and that is a function which loads the saved model. This function must be called `model_fn()` and takes as its only parameter a path to the directory where the model artifacts are stored. This function must also be present in the python file which we specified as the entry point. In our case the model loading function has been provided and so no changes need to be made.\n",
    "\n",
    "**NOTE**: When the built-in inference code is run it must import the `model_fn()` method from the `train.py` file. This is why the training code is wrapped in a main guard ( ie, `if __name__ == '__main__':` )\n",
    "\n",
    "Since we don't need to change anything in the code that was uploaded during training, we can simply deploy the current model as-is.\n",
    "\n",
    "**NOTE:** When deploying a model you are asking SageMaker to launch an compute instance that will wait for data to be sent to it. As a result, this compute instance will continue to run until *you* shut it down. This is important to know since the cost of a deployed endpoint depends on how long it has been running for.\n",
    "\n",
    "In other words **If you are no longer using a deployed endpoint, shut it down!**\n",
    "\n",
    "**TODO:** Deploy the trained model."
   ]
  },
  {
   "cell_type": "code",
   "execution_count": 67,
   "metadata": {},
   "outputs": [
    {
     "name": "stdout",
     "output_type": "stream",
     "text": [
      "---------------!"
     ]
    }
   ],
   "source": [
    "# TODO: Deploy the trained model\n",
    "predictor = estimator.deploy(initial_instance_count = 1, instance_type = 'ml.m4.xlarge')"
   ]
  },
  {
   "cell_type": "markdown",
   "metadata": {},
   "source": [
    "## Step 7 - Use the model for testing\n",
    "\n",
    "Once deployed, we can read in the test data and send it off to our deployed model to get some results. Once we collect all of the results we can determine how accurate our model is."
   ]
  },
  {
   "cell_type": "code",
   "execution_count": 68,
   "metadata": {},
   "outputs": [
    {
     "name": "stdout",
     "output_type": "stream",
     "text": [
      "<sagemaker.pytorch.model.PyTorchPredictor object at 0x7f20c5829ba8>\n"
     ]
    }
   ],
   "source": [
    "test_X = pd.concat([pd.DataFrame(test_X_len), pd.DataFrame(test_X)], axis=1)\n",
    "print(predictor)"
   ]
  },
  {
   "cell_type": "code",
   "execution_count": 69,
   "metadata": {},
   "outputs": [],
   "source": [
    "# We split the data into chunks and send each chunk seperately, accumulating the results.\n",
    "\n",
    "def predict(data, rows=512):\n",
    "    split_array = np.array_split(data, int(data.shape[0] / float(rows) + 1))\n",
    "    predictions = np.array([])\n",
    "    for array in split_array:\n",
    "        predictions = np.append(predictions, predictor.predict(array))\n",
    "    \n",
    "    return predictions"
   ]
  },
  {
   "cell_type": "code",
   "execution_count": 70,
   "metadata": {},
   "outputs": [],
   "source": [
    "predictions = predict(test_X.values)\n",
    "predictions = [round(num) for num in predictions]"
   ]
  },
  {
   "cell_type": "code",
   "execution_count": 71,
   "metadata": {},
   "outputs": [
    {
     "data": {
      "text/plain": [
       "0.5"
      ]
     },
     "execution_count": 71,
     "metadata": {},
     "output_type": "execute_result"
    }
   ],
   "source": [
    "from sklearn.metrics import accuracy_score\n",
    "accuracy_score(test_y, predictions)"
   ]
  },
  {
   "cell_type": "markdown",
   "metadata": {},
   "source": [
    "**Question:** How does this model compare to the XGBoost model you created earlier? Why might these two models perform differently on this dataset? Which do *you* think is better for sentiment analysis?"
   ]
  },
  {
   "cell_type": "markdown",
   "metadata": {},
   "source": [
    "**Answer:**"
   ]
  },
  {
   "cell_type": "markdown",
   "metadata": {},
   "source": [
    "### (TODO) More testing\n",
    "\n",
    "We now have a trained model which has been deployed and which we can send processed reviews to and which returns the predicted sentiment. However, ultimately we would like to be able to send our model an unprocessed review. That is, we would like to send the review itself as a string. For example, suppose we wish to send the following review to our model."
   ]
  },
  {
   "cell_type": "code",
   "execution_count": 45,
   "metadata": {},
   "outputs": [],
   "source": [
    "test_review = 'The simplest pleasures in life are the best, and this film is one of them. Combining a rather basic storyline of love and adventure this movie transcends the usual weekend fair with wit and unmitigated charm.'"
   ]
  },
  {
   "cell_type": "markdown",
   "metadata": {},
   "source": [
    "The question we now need to answer is, how do we send this review to our model?\n",
    "\n",
    "Recall in the first section of this notebook we did a bunch of data processing to the IMDb dataset. In particular, we did two specific things to the provided reviews.\n",
    " - Removed any html tags and stemmed the input\n",
    " - Encoded the review as a sequence of integers using `word_dict`\n",
    " \n",
    "In order process the review we will need to repeat these two steps.\n",
    "\n",
    "**TODO**: Using the `review_to_words` and `convert_and_pad` methods from section one, convert `test_review` into a numpy array `test_data` suitable to send to our model. Remember that our model expects input of the form `review_length, review[500]`."
   ]
  },
  {
   "cell_type": "code",
   "execution_count": 46,
   "metadata": {},
   "outputs": [
    {
     "name": "stdout",
     "output_type": "stream",
     "text": [
      "Final Data is:\n",
      "[[20  1  1  1  1  1  1  1  1  1  1  1  1  1  1  1  1  1  1  1  1  0  0  0\n",
      "   0  0  0  0  0  0  0  0  0  0  0  0  0  0  0  0  0  0  0  0  0  0  0  0\n",
      "   0  0  0  0  0  0  0  0  0  0  0  0  0  0  0  0  0  0  0  0  0  0  0  0\n",
      "   0  0  0  0  0  0  0  0  0  0  0  0  0  0  0  0  0  0  0  0  0  0  0  0\n",
      "   0  0  0  0  0  0  0  0  0  0  0  0  0  0  0  0  0  0  0  0  0  0  0  0\n",
      "   0  0  0  0  0  0  0  0  0  0  0  0  0  0  0  0  0  0  0  0  0  0  0  0\n",
      "   0  0  0  0  0  0  0  0  0  0  0  0  0  0  0  0  0  0  0  0  0  0  0  0\n",
      "   0  0  0  0  0  0  0  0  0  0  0  0  0  0  0  0  0  0  0  0  0  0  0  0\n",
      "   0  0  0  0  0  0  0  0  0  0  0  0  0  0  0  0  0  0  0  0  0  0  0  0\n",
      "   0  0  0  0  0  0  0  0  0  0  0  0  0  0  0  0  0  0  0  0  0  0  0  0\n",
      "   0  0  0  0  0  0  0  0  0  0  0  0  0  0  0  0  0  0  0  0  0  0  0  0\n",
      "   0  0  0  0  0  0  0  0  0  0  0  0  0  0  0  0  0  0  0  0  0  0  0  0\n",
      "   0  0  0  0  0  0  0  0  0  0  0  0  0  0  0  0  0  0  0  0  0  0  0  0\n",
      "   0  0  0  0  0  0  0  0  0  0  0  0  0  0  0  0  0  0  0  0  0  0  0  0\n",
      "   0  0  0  0  0  0  0  0  0  0  0  0  0  0  0  0  0  0  0  0  0  0  0  0\n",
      "   0  0  0  0  0  0  0  0  0  0  0  0  0  0  0  0  0  0  0  0  0  0  0  0\n",
      "   0  0  0  0  0  0  0  0  0  0  0  0  0  0  0  0  0  0  0  0  0  0  0  0\n",
      "   0  0  0  0  0  0  0  0  0  0  0  0  0  0  0  0  0  0  0  0  0  0  0  0\n",
      "   0  0  0  0  0  0  0  0  0  0  0  0  0  0  0  0  0  0  0  0  0  0  0  0\n",
      "   0  0  0  0  0  0  0  0  0  0  0  0  0  0  0  0  0  0  0  0  0  0  0  0\n",
      "   0  0  0  0  0  0  0  0  0  0  0  0  0  0  0  0  0  0  0  0  0]]\n"
     ]
    }
   ],
   "source": [
    "# TODO: Convert test_review into a form usable by the model and save the results in test_data\n",
    "#train_X, train_X_len = convert_and_pad_data(word_dict, train_X)\n",
    "test_review_in_word = review_to_words(test_review)\n",
    "test_data, test_data_len = convert_and_pad(word_dict,test_review_in_word)\n",
    "\n",
    "test_data.insert(0,test_data_len)\n",
    "test_data = np.array([test_data])#test_data = np.array(test_data) #==> Why the use of this caused below error\n",
    "\n",
    "\n",
    "print(\"Final Data is:\")\n",
    "print(test_data)\n"
   ]
  },
  {
   "cell_type": "markdown",
   "metadata": {},
   "source": [
    "Now that we have processed the review, we can send the resulting array to our model to predict the sentiment of the review."
   ]
  },
  {
   "cell_type": "code",
   "execution_count": 47,
   "metadata": {},
   "outputs": [
    {
     "data": {
      "text/plain": [
       "array(0.47055507, dtype=float32)"
      ]
     },
     "execution_count": 47,
     "metadata": {},
     "output_type": "execute_result"
    }
   ],
   "source": [
    "#test_data = \"Good\"\n",
    "predictor.predict(test_data)\n"
   ]
  },
  {
   "cell_type": "markdown",
   "metadata": {},
   "source": [
    "Since the return value of our model is close to `1`, we can be certain that the review we submitted is positive.\n",
    "UserQUestion: Its 0.47, that's should not be considered as close to zero!"
   ]
  },
  {
   "cell_type": "markdown",
   "metadata": {},
   "source": [
    "### Delete the endpoint\n",
    "\n",
    "Of course, just like in the XGBoost notebook, once we've deployed an endpoint it continues to run until we tell it to shut down. Since we are done using our endpoint for now, we can delete it."
   ]
  },
  {
   "cell_type": "code",
   "execution_count": 38,
   "metadata": {},
   "outputs": [],
   "source": [
    "estimator.delete_endpoint()"
   ]
  },
  {
   "cell_type": "markdown",
   "metadata": {},
   "source": [
    "## Step 6 (again) - Deploy the model for the web app\n",
    "\n",
    "Now that we know that our model is working, it's time to create some custom inference code so that we can send the model a review which has not been processed and have it determine the sentiment of the review.\n",
    "\n",
    "As we saw above, by default the estimator which we created, when deployed, will use the entry script and directory which we provided when creating the model. However, since we now wish to accept a string as input and our model expects a processed review, we need to write some custom inference code.\n",
    "\n",
    "We will store the code that we write in the `serve` directory. Provided in this directory is the `model.py` file that we used to construct our model, a `utils.py` file which contains the `review_to_words` and `convert_and_pad` pre-processing functions which we used during the initial data processing, and `predict.py`, the file which will contain our custom inference code. Note also that `requirements.txt` is present which will tell SageMaker what Python libraries are required by our custom inference code.\n",
    "\n",
    "When deploying a PyTorch model in SageMaker, you are expected to provide four functions which the SageMaker inference container will use.\n",
    " - `model_fn`: This function is the same function that we used in the training script and it tells SageMaker how to load our model.\n",
    " - `input_fn`: This function receives the raw serialized input that has been sent to the model's endpoint and its job is to de-serialize and make the input available for the inference code.\n",
    " - `output_fn`: This function takes the output of the inference code and its job is to serialize this output and return it to the caller of the model's endpoint.\n",
    " - `predict_fn`: The heart of the inference script, this is where the actual prediction is done and is the function which you will need to complete.\n",
    "\n",
    "For the simple website that we are constructing during this project, the `input_fn` and `output_fn` methods are relatively straightforward. We only require being able to accept a string as input and we expect to return a single value as output. You might imagine though that in a more complex application the input or output may be image data or some other binary data which would require some effort to serialize.\n",
    "\n",
    "### (TODO) Writing inference code\n",
    "\n",
    "Before writing our custom inference code, we will begin by taking a look at the code which has been provided."
   ]
  },
  {
   "cell_type": "code",
   "execution_count": 62,
   "metadata": {},
   "outputs": [
    {
     "name": "stdout",
     "output_type": "stream",
     "text": [
      "\u001b[34mimport\u001b[39;49;00m \u001b[04m\u001b[36margparse\u001b[39;49;00m\n",
      "\u001b[34mimport\u001b[39;49;00m \u001b[04m\u001b[36mjson\u001b[39;49;00m\n",
      "\u001b[34mimport\u001b[39;49;00m \u001b[04m\u001b[36mos\u001b[39;49;00m\n",
      "\u001b[34mimport\u001b[39;49;00m \u001b[04m\u001b[36mpickle\u001b[39;49;00m\n",
      "\u001b[34mimport\u001b[39;49;00m \u001b[04m\u001b[36msys\u001b[39;49;00m\n",
      "\u001b[34mimport\u001b[39;49;00m \u001b[04m\u001b[36msagemaker_containers\u001b[39;49;00m\n",
      "\u001b[34mimport\u001b[39;49;00m \u001b[04m\u001b[36mpandas\u001b[39;49;00m \u001b[34mas\u001b[39;49;00m \u001b[04m\u001b[36mpd\u001b[39;49;00m\n",
      "\u001b[34mimport\u001b[39;49;00m \u001b[04m\u001b[36mnumpy\u001b[39;49;00m \u001b[34mas\u001b[39;49;00m \u001b[04m\u001b[36mnp\u001b[39;49;00m\n",
      "\u001b[34mimport\u001b[39;49;00m \u001b[04m\u001b[36mtorch\u001b[39;49;00m\n",
      "\u001b[34mimport\u001b[39;49;00m \u001b[04m\u001b[36mtorch.nn\u001b[39;49;00m \u001b[34mas\u001b[39;49;00m \u001b[04m\u001b[36mnn\u001b[39;49;00m\n",
      "\u001b[34mimport\u001b[39;49;00m \u001b[04m\u001b[36mtorch.optim\u001b[39;49;00m \u001b[34mas\u001b[39;49;00m \u001b[04m\u001b[36moptim\u001b[39;49;00m\n",
      "\u001b[34mimport\u001b[39;49;00m \u001b[04m\u001b[36mtorch.utils.data\u001b[39;49;00m\n",
      "\n",
      "\u001b[34mfrom\u001b[39;49;00m \u001b[04m\u001b[36mmodel\u001b[39;49;00m \u001b[34mimport\u001b[39;49;00m LSTMClassifier\n",
      "\n",
      "\u001b[34mfrom\u001b[39;49;00m \u001b[04m\u001b[36mutils\u001b[39;49;00m \u001b[34mimport\u001b[39;49;00m review_to_words, convert_and_pad\n",
      "\n",
      "\u001b[34mdef\u001b[39;49;00m \u001b[32mmodel_fn\u001b[39;49;00m(model_dir):\n",
      "    \u001b[33m\"\"\"Load the PyTorch model from the `model_dir` directory.\"\"\"\u001b[39;49;00m\n",
      "    \u001b[34mprint\u001b[39;49;00m(\u001b[33m\"\u001b[39;49;00m\u001b[33mLoading model.\u001b[39;49;00m\u001b[33m\"\u001b[39;49;00m)\n",
      "\n",
      "    \u001b[37m# First, load the parameters used to create the model.\u001b[39;49;00m\n",
      "    model_info = {}\n",
      "    model_info_path = os.path.join(model_dir, \u001b[33m'\u001b[39;49;00m\u001b[33mmodel_info.pth\u001b[39;49;00m\u001b[33m'\u001b[39;49;00m)\n",
      "    \u001b[34mwith\u001b[39;49;00m \u001b[36mopen\u001b[39;49;00m(model_info_path, \u001b[33m'\u001b[39;49;00m\u001b[33mrb\u001b[39;49;00m\u001b[33m'\u001b[39;49;00m) \u001b[34mas\u001b[39;49;00m f:\n",
      "        model_info = torch.load(f)\n",
      "\n",
      "    \u001b[34mprint\u001b[39;49;00m(\u001b[33m\"\u001b[39;49;00m\u001b[33mmodel_info: {}\u001b[39;49;00m\u001b[33m\"\u001b[39;49;00m.format(model_info))\n",
      "\n",
      "    \u001b[37m# Determine the device and construct the model.\u001b[39;49;00m\n",
      "    device = torch.device(\u001b[33m\"\u001b[39;49;00m\u001b[33mcuda\u001b[39;49;00m\u001b[33m\"\u001b[39;49;00m \u001b[34mif\u001b[39;49;00m torch.cuda.is_available() \u001b[34melse\u001b[39;49;00m \u001b[33m\"\u001b[39;49;00m\u001b[33mcpu\u001b[39;49;00m\u001b[33m\"\u001b[39;49;00m)\n",
      "    model = LSTMClassifier(model_info[\u001b[33m'\u001b[39;49;00m\u001b[33membedding_dim\u001b[39;49;00m\u001b[33m'\u001b[39;49;00m], model_info[\u001b[33m'\u001b[39;49;00m\u001b[33mhidden_dim\u001b[39;49;00m\u001b[33m'\u001b[39;49;00m], model_info[\u001b[33m'\u001b[39;49;00m\u001b[33mvocab_size\u001b[39;49;00m\u001b[33m'\u001b[39;49;00m])\n",
      "\n",
      "    \u001b[37m# Load the store model parameters.\u001b[39;49;00m\n",
      "    model_path = os.path.join(model_dir, \u001b[33m'\u001b[39;49;00m\u001b[33mmodel.pth\u001b[39;49;00m\u001b[33m'\u001b[39;49;00m)\n",
      "    \u001b[34mwith\u001b[39;49;00m \u001b[36mopen\u001b[39;49;00m(model_path, \u001b[33m'\u001b[39;49;00m\u001b[33mrb\u001b[39;49;00m\u001b[33m'\u001b[39;49;00m) \u001b[34mas\u001b[39;49;00m f:\n",
      "        model.load_state_dict(torch.load(f))\n",
      "\n",
      "    \u001b[37m# Load the saved word_dict.\u001b[39;49;00m\n",
      "    word_dict_path = os.path.join(model_dir, \u001b[33m'\u001b[39;49;00m\u001b[33mword_dict.pkl\u001b[39;49;00m\u001b[33m'\u001b[39;49;00m)\n",
      "    \u001b[34mwith\u001b[39;49;00m \u001b[36mopen\u001b[39;49;00m(word_dict_path, \u001b[33m'\u001b[39;49;00m\u001b[33mrb\u001b[39;49;00m\u001b[33m'\u001b[39;49;00m) \u001b[34mas\u001b[39;49;00m f:\n",
      "        model.word_dict = pickle.load(f)\n",
      "\n",
      "    model.to(device).eval()\n",
      "\n",
      "    \u001b[34mprint\u001b[39;49;00m(\u001b[33m\"\u001b[39;49;00m\u001b[33mDone loading model.\u001b[39;49;00m\u001b[33m\"\u001b[39;49;00m)\n",
      "    \u001b[34mreturn\u001b[39;49;00m model\n",
      "\n",
      "\u001b[34mdef\u001b[39;49;00m \u001b[32minput_fn\u001b[39;49;00m(serialized_input_data, content_type):\n",
      "    \u001b[34mprint\u001b[39;49;00m(\u001b[33m'\u001b[39;49;00m\u001b[33mDeserializing the input data.\u001b[39;49;00m\u001b[33m'\u001b[39;49;00m)\n",
      "    \u001b[34mif\u001b[39;49;00m content_type == \u001b[33m'\u001b[39;49;00m\u001b[33mtext/plain\u001b[39;49;00m\u001b[33m'\u001b[39;49;00m:\n",
      "        data = serialized_input_data.decode(\u001b[33m'\u001b[39;49;00m\u001b[33mutf-8\u001b[39;49;00m\u001b[33m'\u001b[39;49;00m)\n",
      "        \u001b[34mreturn\u001b[39;49;00m data\n",
      "    \u001b[34mraise\u001b[39;49;00m \u001b[36mException\u001b[39;49;00m(\u001b[33m'\u001b[39;49;00m\u001b[33mRequested unsupported ContentType in content_type: \u001b[39;49;00m\u001b[33m'\u001b[39;49;00m + content_type)\n",
      "\n",
      "\u001b[34mdef\u001b[39;49;00m \u001b[32moutput_fn\u001b[39;49;00m(prediction_output, accept):\n",
      "    \u001b[34mprint\u001b[39;49;00m(\u001b[33m'\u001b[39;49;00m\u001b[33mSerializing the generated output.\u001b[39;49;00m\u001b[33m'\u001b[39;49;00m)\n",
      "    \u001b[34mreturn\u001b[39;49;00m \u001b[36mstr\u001b[39;49;00m(prediction_output)\n",
      "\n",
      "\u001b[34mdef\u001b[39;49;00m \u001b[32mpredict_fn\u001b[39;49;00m(input_data, model):\n",
      "    \u001b[34mprint\u001b[39;49;00m(\u001b[33m'\u001b[39;49;00m\u001b[33mInferring sentiment of input data.\u001b[39;49;00m\u001b[33m'\u001b[39;49;00m)\n",
      "\n",
      "    device = torch.device(\u001b[33m\"\u001b[39;49;00m\u001b[33mcuda\u001b[39;49;00m\u001b[33m\"\u001b[39;49;00m \u001b[34mif\u001b[39;49;00m torch.cuda.is_available() \u001b[34melse\u001b[39;49;00m \u001b[33m\"\u001b[39;49;00m\u001b[33mcpu\u001b[39;49;00m\u001b[33m\"\u001b[39;49;00m)\n",
      "    \n",
      "    \u001b[34mif\u001b[39;49;00m model.word_dict \u001b[35mis\u001b[39;49;00m \u001b[36mNone\u001b[39;49;00m:\n",
      "        \u001b[34mraise\u001b[39;49;00m \u001b[36mException\u001b[39;49;00m(\u001b[33m'\u001b[39;49;00m\u001b[33mModel has not been loaded properly, no word_dict.\u001b[39;49;00m\u001b[33m'\u001b[39;49;00m)\n",
      "    \n",
      "    \u001b[37m# TODO: Process input_data so that it is ready to be sent to our model.\u001b[39;49;00m\n",
      "    \u001b[37m#       You should produce two variables:\u001b[39;49;00m\n",
      "    \u001b[37m#         data_X   - A sequence of length 500 which represents the converted review\u001b[39;49;00m\n",
      "    \u001b[37m#         data_len - The length of the review\u001b[39;49;00m\n",
      "\n",
      "    data_X = \u001b[36mNone\u001b[39;49;00m\n",
      "    data_len = \u001b[36mNone\u001b[39;49;00m\n",
      "\n",
      "    \u001b[37m# Using data_X and data_len we construct an appropriate input tensor. Remember\u001b[39;49;00m\n",
      "    \u001b[37m# that our model expects input data of the form 'len, review[500]'.\u001b[39;49;00m\n",
      "    data_pack = np.hstack((data_len, data_X))\n",
      "    data_pack = data_pack.reshape(\u001b[34m1\u001b[39;49;00m, -\u001b[34m1\u001b[39;49;00m)\n",
      "    \n",
      "    data = torch.from_numpy(data_pack)\n",
      "    data = data.to(device)\n",
      "\n",
      "    \u001b[37m# Make sure to put the model into evaluation mode\u001b[39;49;00m\n",
      "    model.eval()\n",
      "\n",
      "    \u001b[37m# TODO: Compute the result of applying the model to the input data. The variable `result` should\u001b[39;49;00m\n",
      "    \u001b[37m#       be a numpy array which contains a single integer which is either 1 or 0\u001b[39;49;00m\n",
      "\n",
      "    result = \u001b[36mNone\u001b[39;49;00m\n",
      "\n",
      "    \u001b[34mreturn\u001b[39;49;00m result\n"
     ]
    }
   ],
   "source": [
    "!pygmentize serve/predict.py"
   ]
  },
  {
   "cell_type": "markdown",
   "metadata": {},
   "source": [
    "As mentioned earlier, the `model_fn` method is the same as the one provided in the training code and the `input_fn` and `output_fn` methods are very simple and your task will be to complete the `predict_fn` method. Make sure that you save the completed file as `predict.py` in the `serve` directory.\n",
    "\n",
    "**TODO**: Complete the `predict_fn()` method in the `serve/predict.py` file."
   ]
  },
  {
   "cell_type": "markdown",
   "metadata": {},
   "source": [
    "### Deploying the model\n",
    "\n",
    "Now that the custom inference code has been written, we will create and deploy our model. To begin with, we need to construct a new PyTorchModel object which points to the model artifacts created during training and also points to the inference code that we wish to use. Then we can call the deploy method to launch the deployment container.\n",
    "\n",
    "**NOTE**: The default behaviour for a deployed PyTorch model is to assume that any input passed to the predictor is a `numpy` array. In our case we want to send a string so we need to construct a simple wrapper around the `RealTimePredictor` class to accomodate simple strings. In a more complicated situation you may want to provide a serialization object, for example if you wanted to sent image data."
   ]
  },
  {
   "cell_type": "code",
   "execution_count": 31,
   "metadata": {},
   "outputs": [
    {
     "name": "stdout",
     "output_type": "stream",
     "text": [
      "---------------!"
     ]
    },
    {
     "data": {
      "text/plain": [
       "' Previous estimato was this ==> \\nestimator = PyTorch(entry_point=\"train.py\",\\n                    source_dir=\"train\",\\n                    role=role,\\n                    framework_version=\\'0.4.0\\',\\n                    train_instance_count=1,\\n                    train_instance_type=\\'ml.p2.xlarge\\',\\n                    hyperparameters={\\n                        \\'epochs\\': 10,\\n                        \\'hidden_dim\\': 200,\\n                    })\\n                    '"
      ]
     },
     "execution_count": 31,
     "metadata": {},
     "output_type": "execute_result"
    }
   ],
   "source": [
    "from sagemaker.predictor import RealTimePredictor\n",
    "from sagemaker.pytorch import PyTorchModel\n",
    "\n",
    "class StringPredictor(RealTimePredictor):\n",
    "    def __init__(self, endpoint_name, sagemaker_session):\n",
    "        super(StringPredictor, self).__init__(endpoint_name, sagemaker_session, content_type='text/plain')\n",
    "        \n",
    "#PyTorchModel object which points to the model artifacts created during training and also points to the  ==> WE can skip the .fit() call ==> odel_data=estimator.model_data\n",
    "#inference code that we wish to use.  ==> predict.py\n",
    "\n",
    "model = PyTorchModel(model_data=estimator.model_data,\n",
    "                     role = role,\n",
    "                     framework_version='0.4.0',\n",
    "                     entry_point='predict.py',\n",
    "                     source_dir='serve',\n",
    "                     predictor_cls=StringPredictor) #Whats is this?\n",
    "predictor = model.deploy(initial_instance_count=1, instance_type='ml.m4.xlarge')\n",
    "\n",
    "''' Previous estimato was this ==> \n",
    "estimator = PyTorch(entry_point=\"train.py\",\n",
    "                    source_dir=\"train\",\n",
    "                    role=role,\n",
    "                    framework_version='0.4.0',\n",
    "                    train_instance_count=1,\n",
    "                    train_instance_type='ml.p2.xlarge',\n",
    "                    hyperparameters={\n",
    "                        'epochs': 10,\n",
    "                        'hidden_dim': 200,\n",
    "                    })\n",
    "                    '''"
   ]
  },
  {
   "cell_type": "markdown",
   "metadata": {},
   "source": [
    "### Testing the model\n",
    "\n",
    "Now that we have deployed our model with the custom inference code, we should test to see if everything is working. Here we test our model by loading the first `250` positive and negative reviews and send them to the endpoint, then collect the results. The reason for only sending some of the data is that the amount of time it takes for our model to process the input and then perform inference is quite long and so testing the entire data set would be prohibitive."
   ]
  },
  {
   "cell_type": "code",
   "execution_count": 32,
   "metadata": {},
   "outputs": [],
   "source": [
    "import glob\n",
    "\n",
    "def test_reviews(data_dir='../data/aclImdb', stop=250):\n",
    "    \n",
    "    results = []\n",
    "    ground = []\n",
    "    \n",
    "    # We make sure to test both positive and negative reviews    \n",
    "    for sentiment in ['pos', 'neg']:\n",
    "        \n",
    "        path = os.path.join(data_dir, 'test', sentiment, '*.txt')\n",
    "        files = glob.glob(path)\n",
    "        \n",
    "        files_read = 0\n",
    "        \n",
    "        print('Starting ', sentiment, ' files')\n",
    "        \n",
    "        # Iterate through the files and send them to the predictor\n",
    "        for f in files:\n",
    "            with open(f) as review:\n",
    "                # First, we store the ground truth (was the review positive or negative)\n",
    "                if sentiment == 'pos':\n",
    "                    ground.append(1)\n",
    "                else:\n",
    "                    ground.append(0)\n",
    "                # Read in the review and convert to 'utf-8' for transmission via HTTP\n",
    "                review_input = review.read().encode('utf-8')\n",
    "                # Send the review to the predictor and store the results\n",
    "                results.append(int(predictor.predict(review_input)))\n",
    "                \n",
    "            # Sending reviews to our endpoint one at a time takes a while so we\n",
    "            # only send a small number of reviews\n",
    "            files_read += 1\n",
    "            if files_read == stop:\n",
    "                break\n",
    "            \n",
    "    return ground, results"
   ]
  },
  {
   "cell_type": "code",
   "execution_count": 33,
   "metadata": {},
   "outputs": [
    {
     "name": "stdout",
     "output_type": "stream",
     "text": [
      "Starting  pos  files\n",
      "Starting  neg  files\n"
     ]
    }
   ],
   "source": [
    "ground, results = test_reviews()"
   ]
  },
  {
   "cell_type": "code",
   "execution_count": 34,
   "metadata": {},
   "outputs": [
    {
     "data": {
      "text/plain": [
       "0.5"
      ]
     },
     "execution_count": 34,
     "metadata": {},
     "output_type": "execute_result"
    }
   ],
   "source": [
    "from sklearn.metrics import accuracy_score\n",
    "accuracy_score(ground, results)"
   ]
  },
  {
   "cell_type": "markdown",
   "metadata": {},
   "source": [
    "As an additional test, we can try sending the `test_review` that we looked at earlier."
   ]
  },
  {
   "cell_type": "code",
   "execution_count": 45,
   "metadata": {},
   "outputs": [
    {
     "name": "stdout",
     "output_type": "stream",
     "text": [
      "b'0'\n"
     ]
    }
   ],
   "source": [
    "test_review = ('This is good Movie').encode('utf-8')\n",
    "ans = predictor.predict(test_review)\n",
    "print(ans)"
   ]
  },
  {
   "cell_type": "markdown",
   "metadata": {},
   "source": [
    "Now that we know our endpoint is working as expected, we can set up the web page that will interact with it. If you don't have time to finish the project now, make sure to skip down to the end of this notebook and shut down your endpoint. You can deploy it again when you come back."
   ]
  },
  {
   "cell_type": "markdown",
   "metadata": {},
   "source": [
    "## Step 7 (again): Use the model for the web app\n",
    "\n",
    "> **TODO:** This entire section and the next contain tasks for you to complete, mostly using the AWS console.\n",
    "\n",
    "So far we have been accessing our model endpoint by constructing a predictor object which uses the endpoint and then just using the predictor object to perform inference. What if we wanted to create a web app which accessed our model? The way things are set up currently makes that not possible since in order to access a SageMaker endpoint the app would first have to authenticate with AWS using an IAM role which included access to SageMaker endpoints. However, there is an easier way! We just need to use some additional AWS services.\n",
    "\n",
    "<img src=\"Web App Diagram.svg\">\n",
    "\n",
    "The diagram above gives an overview of how the various services will work together. On the far right is the model which we trained above and which is deployed using SageMaker. On the far left is our web app that collects a user's movie review, sends it off and expects a positive or negative sentiment in return.\n",
    "\n",
    "In the middle is where some of the magic happens. We will construct a Lambda function, which you can think of as a straightforward Python function that can be executed whenever a specified event occurs. We will give this function permission to send and recieve data from a SageMaker endpoint.\n",
    "\n",
    "Lastly, the method we will use to execute the Lambda function is a new endpoint that we will create using API Gateway. This endpoint will be a url that listens for data to be sent to it. Once it gets some data it will pass that data on to the Lambda function and then return whatever the Lambda function returns. Essentially it will act as an interface that lets our web app communicate with the Lambda function.\n",
    "\n",
    "### Setting up a Lambda function\n",
    "\n",
    "The first thing we are going to do is set up a Lambda function. This Lambda function will be executed whenever our public API has data sent to it. When it is executed it will receive the data, perform any sort of processing that is required, send the data (the review) to the SageMaker endpoint we've created and then return the result.\n",
    "\n",
    "#### Part A: Create an IAM Role for the Lambda function\n",
    "\n",
    "Since we want the Lambda function to call a SageMaker endpoint, we need to make sure that it has permission to do so. To do this, we will construct a role that we can later give the Lambda function.\n",
    "\n",
    "Using the AWS Console, navigate to the **IAM** page and click on **Roles**. Then, click on **Create role**. Make sure that the **AWS service** is the type of trusted entity selected and choose **Lambda** as the service that will use this role, then click **Next: Permissions**.\n",
    "\n",
    "In the search box type `sagemaker` and select the check box next to the **AmazonSageMakerFullAccess** policy. Then, click on **Next: Review**.\n",
    "\n",
    "Lastly, give this role a name. Make sure you use a name that you will remember later on, for example `LambdaSageMakerRole`. Then, click on **Create role**.\n",
    "\n",
    "#### Part B: Create a Lambda function\n",
    "\n",
    "Now it is time to actually create the Lambda function.\n",
    "\n",
    "Using the AWS Console, navigate to the AWS Lambda page and click on **Create a function**. When you get to the next page, make sure that **Author from scratch** is selected. Now, name your Lambda function, using a name that you will remember later on, for example `sentiment_analysis_func`. Make sure that the **Python 3.6** runtime is selected and then choose the role that you created in the previous part. Then, click on **Create Function**.\n",
    "\n",
    "On the next page you will see some information about the Lambda function you've just created. If you scroll down you should see an editor in which you can write the code that will be executed when your Lambda function is triggered. In our example, we will use the code below. \n",
    "\n",
    "```python\n",
    "# We need to use the low-level library to interact with SageMaker since the SageMaker API\n",
    "# is not available natively through Lambda.\n",
    "import boto3\n",
    "\n",
    "def lambda_handler(event, context):\n",
    "\n",
    "    # The SageMaker runtime is what allows us to invoke the endpoint that we've created.\n",
    "    runtime = boto3.Session().client('sagemaker-runtime')\n",
    "\n",
    "    # Now we use the SageMaker runtime to invoke our endpoint, sending the review we were given\n",
    "    response = runtime.invoke_endpoint(EndpointName = '**ENDPOINT NAME HERE**',    # The name of the endpoint we created\n",
    "                                       ContentType = 'text/plain',                 # The data format that is expected\n",
    "                                       Body = event['body'])                       # The actual review\n",
    "\n",
    "    # The response is an HTTP response whose body contains the result of our inference\n",
    "    result = response['Body'].read().decode('utf-8')\n",
    "\n",
    "    return {\n",
    "        'statusCode' : 200,\n",
    "        'headers' : { 'Content-Type' : 'text/plain', 'Access-Control-Allow-Origin' : '*' },\n",
    "        'body' : result\n",
    "    }\n",
    "```\n",
    "\n",
    "Once you have copy and pasted the code above into the Lambda code editor, replace the `**ENDPOINT NAME HERE**` portion with the name of the endpoint that we deployed earlier. You can determine the name of the endpoint using the code cell below."
   ]
  },
  {
   "cell_type": "code",
   "execution_count": 36,
   "metadata": {},
   "outputs": [
    {
     "data": {
      "text/plain": [
       "'sagemaker-pytorch-2020-05-10-11-55-13-899'"
      ]
     },
     "execution_count": 36,
     "metadata": {},
     "output_type": "execute_result"
    }
   ],
   "source": [
    "predictor.endpoint"
   ]
  },
  {
   "cell_type": "markdown",
   "metadata": {},
   "source": [
    "Once you have added the endpoint name to the Lambda function, click on **Save**. Your Lambda function is now up and running. Next we need to create a way for our web app to execute the Lambda function.\n",
    "\n",
    "### Setting up API Gateway\n",
    "\n",
    "Now that our Lambda function is set up, it is time to create a new API using API Gateway that will trigger the Lambda function we have just created.\n",
    "\n",
    "Using AWS Console, navigate to **Amazon API Gateway** and then click on **Get started**.\n",
    "\n",
    "On the next page, make sure that **New API** is selected and give the new api a name, for example, `sentiment_analysis_api`. Then, click on **Create API**.\n",
    "\n",
    "Now we have created an API, however it doesn't currently do anything. What we want it to do is to trigger the Lambda function that we created earlier.\n",
    "\n",
    "Select the **Actions** dropdown menu and click **Create Method**. A new blank method will be created, select its dropdown menu and select **POST**, then click on the check mark beside it.\n",
    "\n",
    "For the integration point, make sure that **Lambda Function** is selected and click on the **Use Lambda Proxy integration**. This option makes sure that the data that is sent to the API is then sent directly to the Lambda function with no processing. It also means that the return value must be a proper response object as it will also not be processed by API Gateway.\n",
    "\n",
    "Type the name of the Lambda function you created earlier into the **Lambda Function** text entry box and then click on **Save**. Click on **OK** in the pop-up box that then appears, giving permission to API Gateway to invoke the Lambda function you created.\n",
    "\n",
    "The last step in creating the API Gateway is to select the **Actions** dropdown and click on **Deploy API**. You will need to create a new Deployment stage and name it anything you like, for example `prod`.\n",
    "\n",
    "You have now successfully set up a public API to access your SageMaker model. Make sure to copy or write down the URL provided to invoke your newly created public API as this will be needed in the next step. This URL can be found at the top of the page, highlighted in blue next to the text **Invoke URL**."
   ]
  },
  {
   "cell_type": "markdown",
   "metadata": {},
   "source": [
    "## Step 4: Deploying our web app\n",
    "\n",
    "Now that we have a publicly available API, we can start using it in a web app. For our purposes, we have provided a simple static html file which can make use of the public api you created earlier.\n",
    "\n",
    "In the `website` folder there should be a file called `index.html`. Download the file to your computer and open that file up in a text editor of your choice. There should be a line which contains **\\*\\*REPLACE WITH PUBLIC API URL\\*\\***. Replace this string with the url that you wrote down in the last step and then save the file.\n",
    "\n",
    "Now, if you open `index.html` on your local computer, your browser will behave as a local web server and you can use the provided site to interact with your SageMaker model.\n",
    "\n",
    "If you'd like to go further, you can host this html file anywhere you'd like, for example using github or hosting a static site on Amazon's S3. Once you have done this you can share the link with anyone you'd like and have them play with it too!\n",
    "\n",
    "> **Important Note** In order for the web app to communicate with the SageMaker endpoint, the endpoint has to actually be deployed and running. This means that you are paying for it. Make sure that the endpoint is running when you want to use the web app but that you shut it down when you don't need it, otherwise you will end up with a surprisingly large AWS bill.\n",
    "\n",
    "**TODO:** Make sure that you include the edited `index.html` file in your project submission."
   ]
  },
  {
   "cell_type": "markdown",
   "metadata": {},
   "source": [
    "Now that your web app is working, trying playing around with it and see how well it works.\n",
    "\n",
    "**Question**: Give an example of a review that you entered into your web app. What was the predicted sentiment of your example review?"
   ]
  },
  {
   "cell_type": "markdown",
   "metadata": {},
   "source": [
    "**Answer:**"
   ]
  },
  {
   "cell_type": "markdown",
   "metadata": {},
   "source": [
    "### Delete the endpoint\n",
    "\n",
    "Remember to always shut down your endpoint if you are no longer using it. You are charged for the length of time that the endpoint is running so if you forget and leave it on you could end up with an unexpectedly large bill."
   ]
  },
  {
   "cell_type": "code",
   "execution_count": 46,
   "metadata": {},
   "outputs": [],
   "source": [
    "predictor.delete_endpoint()"
   ]
  },
  {
   "cell_type": "code",
   "execution_count": null,
   "metadata": {},
   "outputs": [],
   "source": []
  }
 ],
 "metadata": {
  "kernelspec": {
   "display_name": "conda_pytorch_p36",
   "language": "python",
   "name": "conda_pytorch_p36"
  },
  "language_info": {
   "codemirror_mode": {
    "name": "ipython",
    "version": 3
   },
   "file_extension": ".py",
   "mimetype": "text/x-python",
   "name": "python",
   "nbconvert_exporter": "python",
   "pygments_lexer": "ipython3",
   "version": "3.6.5"
  }
 },
 "nbformat": 4,
 "nbformat_minor": 2
}
